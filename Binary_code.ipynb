{
  "nbformat": 4,
  "nbformat_minor": 0,
  "metadata": {
    "colab": {
      "provenance": [],
      "authorship_tag": "ABX9TyOmlRsEBYDaOUXk2wfkm6Kx",
      "include_colab_link": true
    },
    "kernelspec": {
      "name": "python3",
      "display_name": "Python 3"
    },
    "language_info": {
      "name": "python"
    }
  },
  "cells": [
    {
      "cell_type": "markdown",
      "metadata": {
        "id": "view-in-github",
        "colab_type": "text"
      },
      "source": [
        "<a href=\"https://colab.research.google.com/github/PRITESHDAYAT/Priteshfiledemo/blob/main/Binary_code.ipynb\" target=\"_parent\"><img src=\"https://colab.research.google.com/assets/colab-badge.svg\" alt=\"Open In Colab\"/></a>"
      ]
    },
    {
      "cell_type": "code",
      "execution_count": 5,
      "metadata": {
        "colab": {
          "base_uri": "https://localhost:8080/"
        },
        "id": "MSG1_epahkr6",
        "outputId": "b58d6942-d674-4a58-e33a-cc0b3b4c9645"
      },
      "outputs": [
        {
          "output_type": "stream",
          "name": "stdout",
          "text": [
            "Binary Number: 1010000\n",
            "\n",
            "Step-by-step calculation:\n",
            "\n",
            "0 * 2^0 = 0\n",
            "0 * 2^1 = 0\n",
            "0 * 2^2 = 0\n",
            "0 * 2^3 = 0\n",
            "1 * 2^4 = 16\n",
            "0 * 2^5 = 0\n",
            "1 * 2^6 = 64\n",
            "\n",
            "Final Decimal Value: 80\n"
          ]
        },
        {
          "output_type": "execute_result",
          "data": {
            "text/plain": [
              "80"
            ]
          },
          "metadata": {},
          "execution_count": 5
        }
      ],
      "source": [
        "# Function to convert binary to decimal\n",
        "def binary_to_decimal(binary_str):\n",
        "    decimal = 0\n",
        "    length = len(binary_str)\n",
        "\n",
        "    print(f\"Binary Number: {binary_str}\\n\")\n",
        "    print(\"Step-by-step calculation:\\n\")\n",
        "\n",
        "    # Loop over each digit (starting from the right)\n",
        "    for i in range(length):\n",
        "        bit = int(binary_str[length - 1 - i])  # Get bit from right\n",
        "        power = 2 ** i\n",
        "        value = bit * power\n",
        "        print(f\"{bit} * 2^{i} = {value}\")\n",
        "        decimal += value\n",
        "\n",
        "    print(\"\\nFinal Decimal Value:\", decimal)\n",
        "    return decimal\n",
        "\n",
        "# Example: Convert binary \"10011010010\" to decimal\n",
        "binary_to_decimal(\"1010000\")\n"
      ]
    },
    {
      "cell_type": "markdown",
      "source": [
        "Absolutely, Pritesh! Let's go **line by line** and explain every part of the function in detail. This will help you deeply understand how the code works.\n",
        "\n",
        "---\n",
        "\n",
        "## 🧠 Python Code to Convert Binary to Decimal\n",
        "\n",
        "```python\n",
        "def binary_to_decimal(binary_str):\n",
        "    decimal = 0\n",
        "    length = len(binary_str)\n",
        "\n",
        "    print(f\"Binary Number: {binary_str}\\n\")\n",
        "    print(\"Step-by-step calculation:\\n\")\n",
        "\n",
        "    for i in range(length):\n",
        "        bit = int(binary_str[length - 1 - i])  # Get bit from right\n",
        "        power = 2 ** i\n",
        "        value = bit * power\n",
        "        print(f\"{bit} * 2^{i} = {value}\")\n",
        "        decimal += value\n",
        "\n",
        "    print(\"\\nFinal Decimal Value:\", decimal)\n",
        "    return decimal\n",
        "```\n",
        "\n",
        "---\n",
        "\n",
        "## 🧩 Detailed Explanation\n",
        "\n",
        "---\n",
        "\n",
        "### `def binary_to_decimal(binary_str):`\n",
        "\n",
        "* `def` is used to define a **function**.\n",
        "* `binary_to_decimal` is the **name** of the function.\n",
        "* `binary_str` is the **input** — a binary number in string form like `\"10011010010\"`.\n",
        "\n",
        "---\n",
        "\n",
        "### `decimal = 0`\n",
        "\n",
        "* This creates a variable named `decimal` to store the **final decimal result**.\n",
        "* We start at 0 and add values to it step by step.\n",
        "\n",
        "---\n",
        "\n",
        "### `length = len(binary_str)`\n",
        "\n",
        "* `len(binary_str)` gets the **number of digits** in the binary string.\n",
        "* For `\"10011010010\"`, the length is 11.\n",
        "\n",
        "---\n",
        "\n",
        "### `print(f\"Binary Number: {binary_str}\\n\")`\n",
        "\n",
        "* This shows which binary number we are converting.\n",
        "* `f\"...\"` is an **f-string**, which lets us insert variables inside a string.\n",
        "\n",
        "---\n",
        "\n",
        "### `print(\"Step-by-step calculation:\\n\")`\n",
        "\n",
        "* Just a heading so the output is easy to read.\n",
        "\n",
        "---\n",
        "\n",
        "### `for i in range(length):`\n",
        "\n",
        "* This starts a **loop** that runs once for each digit in the binary string.\n",
        "* `i` starts at 0 and goes up to `length - 1`.\n",
        "* Each loop handles **one digit** (bit) in the binary number.\n",
        "\n",
        "---\n",
        "\n",
        "### `bit = int(binary_str[length - 1 - i])`\n",
        "\n",
        "* This gets the binary **digit from the right side**.\n",
        "* `length - 1 - i` counts backward.\n",
        "* `int(...)` converts the digit from a string (e.g. `'1'`) to a number (e.g. `1`).\n",
        "\n",
        "#### 🔍 Example:\n",
        "\n",
        "If `i = 0`, it looks at the **last digit** in the binary string.\n",
        "If `i = 1`, it looks at the **second-last**, and so on.\n",
        "\n",
        "---\n",
        "\n",
        "### `power = 2 ** i`\n",
        "\n",
        "* This calculates `2 to the power i` → written as `2^i`.\n",
        "* It's the **place value** of the digit.\n",
        "\n",
        "---\n",
        "\n",
        "### `value = bit * power`\n",
        "\n",
        "* This multiplies the bit (`0` or `1`) by `2^i` to get its actual value in decimal.\n",
        "\n",
        "---\n",
        "\n",
        "### `print(f\"{bit} * 2^{i} = {value}\")`\n",
        "\n",
        "* This shows the calculation for that digit.\n",
        "* Example: `1 * 2^6 = 64`\n",
        "\n",
        "---\n",
        "\n",
        "### `decimal += value`\n",
        "\n",
        "* This adds the value to the total `decimal` number.\n",
        "\n",
        "---\n",
        "\n",
        "### `print(\"\\nFinal Decimal Value:\", decimal)`\n",
        "\n",
        "* Shows the final result after all digits have been processed.\n",
        "\n",
        "---\n",
        "\n",
        "### `return decimal`\n",
        "\n",
        "* Returns the final value to the caller if needed in another part of your code.\n",
        "\n",
        "---\n",
        "\n",
        "## 🧪 Example Use\n",
        "\n",
        "```python\n",
        "binary_to_decimal(\"10011010010\")\n",
        "```\n",
        "\n",
        "You can change the input to any binary string you want to convert.\n",
        "\n",
        "---\n",
        "\n",
        "Would you like to now see the **reverse function** — converting **Decimal to Binary** — also with detailed explanation?\n"
      ],
      "metadata": {
        "id": "fVr2qkf-lNWh"
      }
    },
    {
      "cell_type": "code",
      "source": [],
      "metadata": {
        "id": "jjRWgGKdlMfp"
      },
      "execution_count": null,
      "outputs": []
    }
  ]
}