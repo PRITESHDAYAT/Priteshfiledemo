{
  "nbformat": 4,
  "nbformat_minor": 0,
  "metadata": {
    "colab": {
      "provenance": [],
      "authorship_tag": "ABX9TyOeEkFWQoyTi7AmmzKTUuIW",
      "include_colab_link": true
    },
    "kernelspec": {
      "name": "python3",
      "display_name": "Python 3"
    },
    "language_info": {
      "name": "python"
    }
  },
  "cells": [
    {
      "cell_type": "markdown",
      "metadata": {
        "id": "view-in-github",
        "colab_type": "text"
      },
      "source": [
        "<a href=\"https://colab.research.google.com/github/PRITESHDAYAT/Priteshfiledemo/blob/main/input_and_output_and_none_pyt.ipynb\" target=\"_parent\"><img src=\"https://colab.research.google.com/assets/colab-badge.svg\" alt=\"Open In Colab\"/></a>"
      ]
    },
    {
      "cell_type": "code",
      "source": [
        "#Input and Output"
      ],
      "metadata": {
        "id": "MA0OLcPAQ8qP"
      },
      "execution_count": null,
      "outputs": []
    },
    {
      "cell_type": "markdown",
      "source": [
        "Input and output are operations that allow our program to interact with other people or systems. The simplest ways to perform input and output are by using the input() and print() functions, respectively."
      ],
      "metadata": {
        "id": "kuMGHk_9Q4wP"
      }
    },
    {
      "cell_type": "markdown",
      "source": [
        "we can use the input() function to store the uses input as a string"
      ],
      "metadata": {
        "id": "jUjsG9xKMBcn"
      }
    },
    {
      "cell_type": "code",
      "execution_count": null,
      "metadata": {
        "colab": {
          "base_uri": "https://localhost:8080/"
        },
        "id": "hBmbJtQqLwGh",
        "outputId": "49e7b532-8a72-42f6-cefb-a7e6502b54d6"
      },
      "outputs": [
        {
          "name": "stdout",
          "output_type": "stream",
          "text": [
            "6.66.6\n"
          ]
        }
      ],
      "source": [
        "user_input = input ()"
      ]
    },
    {
      "cell_type": "code",
      "source": [
        "user_input"
      ],
      "metadata": {
        "colab": {
          "base_uri": "https://localhost:8080/",
          "height": 35
        },
        "id": "CLPV5oezMXQM",
        "outputId": "65229b8e-c05f-4c17-acac-14f29a030bb2"
      },
      "execution_count": null,
      "outputs": [
        {
          "output_type": "execute_result",
          "data": {
            "text/plain": [
              "'6.6'"
            ],
            "application/vnd.google.colaboratory.intrinsic+json": {
              "type": "string"
            }
          },
          "metadata": {},
          "execution_count": 8
        }
      ]
    },
    {
      "cell_type": "code",
      "source": [
        "type(user_input)"
      ],
      "metadata": {
        "colab": {
          "base_uri": "https://localhost:8080/"
        },
        "id": "yzAshg-fManz",
        "outputId": "9d899220-71de-4ebb-89f5-1284f2599662"
      },
      "execution_count": null,
      "outputs": [
        {
          "output_type": "execute_result",
          "data": {
            "text/plain": [
              "str"
            ]
          },
          "metadata": {},
          "execution_count": 9
        }
      ]
    },
    {
      "cell_type": "markdown",
      "source": [
        "we can add a string prompt to input() to help the user understand what we are expecting them to enter"
      ],
      "metadata": {
        "id": "CrD2B6khM6lL"
      }
    },
    {
      "cell_type": "code",
      "source": [
        "bid_value = input('please input a bid value in rupees : ')"
      ],
      "metadata": {
        "colab": {
          "base_uri": "https://localhost:8080/"
        },
        "id": "Vd0_p7DsM5sL",
        "outputId": "0c1db8e8-95f8-4fba-b672-5e26bd282486"
      },
      "execution_count": null,
      "outputs": [
        {
          "name": "stdout",
          "output_type": "stream",
          "text": [
            "please input a bid value in rupees : 555\n"
          ]
        }
      ]
    },
    {
      "cell_type": "code",
      "source": [
        "bid_value"
      ],
      "metadata": {
        "colab": {
          "base_uri": "https://localhost:8080/",
          "height": 35
        },
        "id": "cSGn2xn5Nk3d",
        "outputId": "4e3d89c5-ed3c-4e1d-f1dd-f4bcdf3efcb9"
      },
      "execution_count": null,
      "outputs": [
        {
          "output_type": "execute_result",
          "data": {
            "text/plain": [
              "'555'"
            ],
            "application/vnd.google.colaboratory.intrinsic+json": {
              "type": "string"
            }
          },
          "metadata": {},
          "execution_count": 12
        }
      ]
    },
    {
      "cell_type": "code",
      "source": [
        "type(bid_value)"
      ],
      "metadata": {
        "colab": {
          "base_uri": "https://localhost:8080/"
        },
        "id": "cNzv5C3XNnOm",
        "outputId": "1aa85afb-bfb9-49b7-8b81-1f065dfb702f"
      },
      "execution_count": null,
      "outputs": [
        {
          "output_type": "execute_result",
          "data": {
            "text/plain": [
              "str"
            ]
          },
          "metadata": {},
          "execution_count": 13
        }
      ]
    },
    {
      "cell_type": "markdown",
      "source": [
        "Normally, when we type value to a system, they are not displayed interctive enviroment like google colaboratory so display them, but with limitaton"
      ],
      "metadata": {
        "id": "4H6EJW7wNxTE"
      }
    },
    {
      "cell_type": "code",
      "source": [
        "1\n",
        "2\n",
        "3  # only this value will be display"
      ],
      "metadata": {
        "colab": {
          "base_uri": "https://localhost:8080/"
        },
        "id": "fPJv8cXROmmv",
        "outputId": "0a14e488-c6b6-42fc-9aa0-0c7a185f75c7"
      },
      "execution_count": null,
      "outputs": [
        {
          "output_type": "execute_result",
          "data": {
            "text/plain": [
              "3"
            ]
          },
          "metadata": {},
          "execution_count": 14
        }
      ]
    },
    {
      "cell_type": "markdown",
      "source": [
        "we can explicity ask the system to dispaly a value in teh console by using the print() function"
      ],
      "metadata": {
        "id": "0BIUhClKOoWe"
      }
    },
    {
      "cell_type": "code",
      "source": [
        "print(1)\n",
        "print(2)\n",
        "print(3)"
      ],
      "metadata": {
        "colab": {
          "base_uri": "https://localhost:8080/"
        },
        "id": "Twcm2S6IO1dn",
        "outputId": "05b945b0-7e52-48a0-fa3e-9fe9e40f1f45"
      },
      "execution_count": null,
      "outputs": [
        {
          "output_type": "stream",
          "name": "stdout",
          "text": [
            "1\n",
            "2\n",
            "3\n"
          ]
        }
      ]
    },
    {
      "cell_type": "code",
      "source": [
        "print('hello word!')"
      ],
      "metadata": {
        "colab": {
          "base_uri": "https://localhost:8080/"
        },
        "id": "aHp0qkErO-iy",
        "outputId": "ff331321-2e0f-442b-e764-3429cfbf9a49"
      },
      "execution_count": null,
      "outputs": [
        {
          "output_type": "stream",
          "name": "stdout",
          "text": [
            "hello word!\n"
          ]
        }
      ]
    },
    {
      "cell_type": "code",
      "source": [
        "abc=134"
      ],
      "metadata": {
        "id": "LU5tS1PHPNXt"
      },
      "execution_count": null,
      "outputs": []
    },
    {
      "cell_type": "code",
      "source": [
        "abc"
      ],
      "metadata": {
        "colab": {
          "base_uri": "https://localhost:8080/"
        },
        "id": "ghxW11JePQsS",
        "outputId": "859ded7a-3bf2-4ffe-89cd-2f0076759bc1"
      },
      "execution_count": null,
      "outputs": [
        {
          "output_type": "execute_result",
          "data": {
            "text/plain": [
              "134"
            ]
          },
          "metadata": {},
          "execution_count": 18
        }
      ]
    },
    {
      "cell_type": "code",
      "source": [
        "print('abc')"
      ],
      "metadata": {
        "colab": {
          "base_uri": "https://localhost:8080/"
        },
        "id": "IGqwq1hdPTIW",
        "outputId": "0c7edc64-5b3a-42e7-8622-a71d5ad5bf0d"
      },
      "execution_count": null,
      "outputs": [
        {
          "output_type": "stream",
          "name": "stdout",
          "text": [
            "abc\n"
          ]
        }
      ]
    },
    {
      "cell_type": "code",
      "source": [
        "string = '2354'"
      ],
      "metadata": {
        "id": "9ymm9FQaPjIS"
      },
      "execution_count": null,
      "outputs": []
    },
    {
      "cell_type": "code",
      "source": [
        "string"
      ],
      "metadata": {
        "colab": {
          "base_uri": "https://localhost:8080/",
          "height": 35
        },
        "id": "JBzEP4vgPnOj",
        "outputId": "9a6ef45f-af54-4919-be55-ee538853c185"
      },
      "execution_count": null,
      "outputs": [
        {
          "output_type": "execute_result",
          "data": {
            "text/plain": [
              "'2354'"
            ],
            "application/vnd.google.colaboratory.intrinsic+json": {
              "type": "string"
            }
          },
          "metadata": {},
          "execution_count": 22
        }
      ]
    },
    {
      "cell_type": "code",
      "source": [
        "type(string)"
      ],
      "metadata": {
        "colab": {
          "base_uri": "https://localhost:8080/"
        },
        "id": "NsgWIxqdPpOf",
        "outputId": "61b2f9e9-a924-40fc-c389-c7b37e645926"
      },
      "execution_count": null,
      "outputs": [
        {
          "output_type": "execute_result",
          "data": {
            "text/plain": [
              "str"
            ]
          },
          "metadata": {},
          "execution_count": 23
        }
      ]
    },
    {
      "cell_type": "code",
      "source": [
        "print(string) # print() will drop the quotation make from string deing printed"
      ],
      "metadata": {
        "colab": {
          "base_uri": "https://localhost:8080/"
        },
        "id": "Lii8CMrvPuuf",
        "outputId": "774548f8-1616-4e21-a384-2fb221afe655"
      },
      "execution_count": null,
      "outputs": [
        {
          "output_type": "stream",
          "name": "stdout",
          "text": [
            "2354\n"
          ]
        }
      ]
    },
    {
      "cell_type": "code",
      "source": [
        "type(string)"
      ],
      "metadata": {
        "colab": {
          "base_uri": "https://localhost:8080/"
        },
        "id": "VNjCGn0wQHs7",
        "outputId": "297586c7-9c1f-4188-8317-c64164fac861"
      },
      "execution_count": null,
      "outputs": [
        {
          "output_type": "execute_result",
          "data": {
            "text/plain": [
              "str"
            ]
          },
          "metadata": {},
          "execution_count": 26
        }
      ]
    },
    {
      "cell_type": "markdown",
      "source": [
        "we can print multiple value with a single print() statement"
      ],
      "metadata": {
        "id": "cCM6R6iQQSkS"
      }
    },
    {
      "cell_type": "code",
      "source": [
        "print(abc, string, 123, 648)"
      ],
      "metadata": {
        "colab": {
          "base_uri": "https://localhost:8080/"
        },
        "id": "cdd1u8NbQelp",
        "outputId": "b1e6330c-8d97-4310-d21f-9ffa9fbd21a9"
      },
      "execution_count": null,
      "outputs": [
        {
          "output_type": "stream",
          "name": "stdout",
          "text": [
            "134 2354 123 648\n"
          ]
        }
      ]
    },
    {
      "cell_type": "code",
      "source": [
        "print('abc')\n",
        "print(1, 2, 3)\n",
        "print(True)"
      ],
      "metadata": {
        "colab": {
          "base_uri": "https://localhost:8080/"
        },
        "id": "NEkbY1dMReLv",
        "outputId": "6ef427fe-dc1d-4f2f-d57a-dfb82b1c7cb6"
      },
      "execution_count": null,
      "outputs": [
        {
          "output_type": "stream",
          "name": "stdout",
          "text": [
            "abc\n",
            "1 2 3\n",
            "True\n"
          ]
        }
      ]
    },
    {
      "cell_type": "markdown",
      "source": [
        "----------------------------"
      ],
      "metadata": {
        "id": "KefMW79aR1Ps"
      }
    },
    {
      "cell_type": "markdown",
      "source": [
        "****NoneType****\n"
      ],
      "metadata": {
        "id": "vYOVrt6bUGGW"
      }
    },
    {
      "cell_type": "markdown",
      "source": [
        "In Python, None is the only instance of the type NoneType . This type is used to denote \"nothing\" or the absence of a value. It is often the type returned by a function when the output is undefined or unknown. For instance, if there is an issue when we attempt to access an external API, the object returned is often None."
      ],
      "metadata": {
        "id": "8zH4d8jFUEMW"
      }
    },
    {
      "cell_type": "code",
      "source": [
        "a = None"
      ],
      "metadata": {
        "id": "leGLWRuYR3Wd"
      },
      "execution_count": null,
      "outputs": []
    },
    {
      "cell_type": "code",
      "source": [
        "a"
      ],
      "metadata": {
        "id": "vR3wkeDXSXj0"
      },
      "execution_count": null,
      "outputs": []
    },
    {
      "cell_type": "code",
      "source": [
        "type(a)"
      ],
      "metadata": {
        "colab": {
          "base_uri": "https://localhost:8080/"
        },
        "id": "Evms3MyDSaaN",
        "outputId": "809c2b55-2ad8-4a15-bf8b-df059c9b1afb"
      },
      "execution_count": null,
      "outputs": [
        {
          "output_type": "execute_result",
          "data": {
            "text/plain": [
              "NoneType"
            ]
          },
          "metadata": {},
          "execution_count": 34
        }
      ]
    },
    {
      "cell_type": "code",
      "source": [
        "print(a)"
      ],
      "metadata": {
        "colab": {
          "base_uri": "https://localhost:8080/"
        },
        "id": "vnmI1N5sSh1X",
        "outputId": "4be71ea0-b89c-4da1-fdaa-c7162547771d"
      },
      "execution_count": null,
      "outputs": [
        {
          "output_type": "stream",
          "name": "stdout",
          "text": [
            "None\n"
          ]
        }
      ]
    },
    {
      "cell_type": "code",
      "source": [
        "str(a)"
      ],
      "metadata": {
        "colab": {
          "base_uri": "https://localhost:8080/",
          "height": 35
        },
        "id": "7jE7LJPZS2zj",
        "outputId": "435f5293-6afc-4c0f-bd09-8ddcce2d4942"
      },
      "execution_count": null,
      "outputs": [
        {
          "output_type": "execute_result",
          "data": {
            "text/plain": [
              "'None'"
            ],
            "application/vnd.google.colaboratory.intrinsic+json": {
              "type": "string"
            }
          },
          "metadata": {},
          "execution_count": 36
        }
      ]
    },
    {
      "cell_type": "code",
      "source": [
        "b = str(a)\n",
        "type(b)"
      ],
      "metadata": {
        "colab": {
          "base_uri": "https://localhost:8080/"
        },
        "id": "1ssScUhyS8i-",
        "outputId": "a2f3c535-e0e0-46d3-fe9c-293fba35ef6f"
      },
      "execution_count": null,
      "outputs": [
        {
          "output_type": "execute_result",
          "data": {
            "text/plain": [
              "str"
            ]
          },
          "metadata": {},
          "execution_count": 39
        }
      ]
    },
    {
      "cell_type": "code",
      "source": [
        "bool(a)"
      ],
      "metadata": {
        "colab": {
          "base_uri": "https://localhost:8080/"
        },
        "id": "mXAsTzaKTNzA",
        "outputId": "dcfcb9a3-08bf-4634-b948-d2bd1884bd1f"
      },
      "execution_count": null,
      "outputs": [
        {
          "output_type": "execute_result",
          "data": {
            "text/plain": [
              "False"
            ]
          },
          "metadata": {},
          "execution_count": 40
        }
      ]
    }
  ]
}