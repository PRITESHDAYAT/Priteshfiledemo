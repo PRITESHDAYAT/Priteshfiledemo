{
  "nbformat": 4,
  "nbformat_minor": 0,
  "metadata": {
    "colab": {
      "provenance": [],
      "collapsed_sections": [
        "JU65V6tGf_b8",
        "p3SA4zmvl1w2",
        "PKlxZuF8lexX",
        "MNRWmn7_lRMD",
        "cAsUcjb6bx0i",
        "XJW5j0lMi3ns",
        "j-ZyqaZYkHxg",
        "5dwmtXVwmNJC"
      ],
      "authorship_tag": "ABX9TyPMAM7jC6rp/UD0HBhB/F43",
      "include_colab_link": true
    },
    "kernelspec": {
      "name": "python3",
      "display_name": "Python 3"
    },
    "language_info": {
      "name": "python"
    }
  },
  "cells": [
    {
      "cell_type": "markdown",
      "metadata": {
        "id": "view-in-github",
        "colab_type": "text"
      },
      "source": [
        "<a href=\"https://colab.research.google.com/github/PRITESHDAYAT/Priteshfiledemo/blob/main/pritesh_file_variable_in_python_integers_.ipynb\" target=\"_parent\"><img src=\"https://colab.research.google.com/assets/colab-badge.svg\" alt=\"Open In Colab\"/></a>"
      ]
    },
    {
      "cell_type": "markdown",
      "source": [
        "####Integers####"
      ],
      "metadata": {
        "id": "JU65V6tGf_b8"
      }
    },
    {
      "cell_type": "markdown",
      "source": [
        "Fundamentals of Python - Variables and Data Types - Numerics -"
      ],
      "metadata": {
        "id": "L5cSrhKgfh1V"
      }
    },
    {
      "cell_type": "markdown",
      "source": [
        "In Python, numeric data types are the types of those variables that store data which represent numbers. Usually, numeric data is these two types:\n",
        "\n",
        "Integers, which include positive and negative whole numbers, as well as zero\n",
        "\n",
        "Floats (or floating point numbers), which include all real numbers, including numbers with decimal points\n",
        "\n",
        "Follow Abhishek’s demonstration to get a handle of how one might assign numeric data to variables:"
      ],
      "metadata": {
        "id": "zVjGs1qgfd6D"
      }
    },
    {
      "cell_type": "markdown",
      "source": [
        "#if we want to work with these values, we can store them in memory as variable#"
      ],
      "metadata": {
        "id": "p3SA4zmvl1w2"
      }
    },
    {
      "cell_type": "code",
      "execution_count": null,
      "metadata": {
        "colab": {
          "base_uri": "https://localhost:8080/"
        },
        "id": "SsPxovjtTvwO",
        "outputId": "44e46924-527e-457b-fb0b-a1ea90fca3e1"
      },
      "outputs": [
        {
          "output_type": "execute_result",
          "data": {
            "text/plain": [
              "8"
            ]
          },
          "metadata": {},
          "execution_count": 1
        }
      ],
      "source": [
        "8"
      ]
    },
    {
      "cell_type": "code",
      "source": [
        "-3.14"
      ],
      "metadata": {
        "colab": {
          "base_uri": "https://localhost:8080/"
        },
        "id": "DnZ415JHT5Qe",
        "outputId": "f4dcc0fa-98f7-4a64-8780-bea0f765497b"
      },
      "execution_count": null,
      "outputs": [
        {
          "output_type": "execute_result",
          "data": {
            "text/plain": [
              "-3.14"
            ]
          },
          "metadata": {},
          "execution_count": 2
        }
      ]
    },
    {
      "cell_type": "code",
      "source": [
        "# if we want to work with these values, we can store them in memory as variable"
      ],
      "metadata": {
        "id": "eXjixSEvT__T"
      },
      "execution_count": null,
      "outputs": []
    },
    {
      "cell_type": "code",
      "source": [
        "NUM=7\n"
      ],
      "metadata": {
        "id": "Dp5DG0TyUsAH"
      },
      "execution_count": null,
      "outputs": []
    },
    {
      "cell_type": "code",
      "source": [
        "num"
      ],
      "metadata": {
        "colab": {
          "base_uri": "https://localhost:8080/"
        },
        "id": "VfUZULlIT8DP",
        "outputId": "be01fe10-da72-4e6c-a618-f4f13f23579d"
      },
      "execution_count": null,
      "outputs": [
        {
          "output_type": "execute_result",
          "data": {
            "text/plain": [
              "7"
            ]
          },
          "metadata": {},
          "execution_count": 10
        }
      ]
    },
    {
      "cell_type": "markdown",
      "source": [
        "#WE CAN CHECK THE DATA TYPE OFA VARIABLE BY USING THE TYPE() FUNCTION #"
      ],
      "metadata": {
        "id": "PKlxZuF8lexX"
      }
    },
    {
      "cell_type": "code",
      "source": [
        "type(num)"
      ],
      "metadata": {
        "colab": {
          "base_uri": "https://localhost:8080/"
        },
        "id": "vKgTSpXqVS5w",
        "outputId": "a3834b26-7a54-4b1e-fb7a-9ad01ceacd6a"
      },
      "execution_count": null,
      "outputs": [
        {
          "output_type": "execute_result",
          "data": {
            "text/plain": [
              "int"
            ]
          },
          "metadata": {},
          "execution_count": 62
        }
      ]
    },
    {
      "cell_type": "code",
      "source": [
        "negative_num = -3"
      ],
      "metadata": {
        "id": "raO3rq10VbWC"
      },
      "execution_count": null,
      "outputs": []
    },
    {
      "cell_type": "code",
      "source": [
        "negative_num"
      ],
      "metadata": {
        "colab": {
          "base_uri": "https://localhost:8080/"
        },
        "id": "hH-fb1ymVjBV",
        "outputId": "df6ff38b-49da-4aef-f3e2-129a42797f6a"
      },
      "execution_count": null,
      "outputs": [
        {
          "output_type": "execute_result",
          "data": {
            "text/plain": [
              "-3"
            ]
          },
          "metadata": {},
          "execution_count": 14
        }
      ]
    },
    {
      "cell_type": "code",
      "source": [
        "type(negative_num)"
      ],
      "metadata": {
        "colab": {
          "base_uri": "https://localhost:8080/"
        },
        "id": "e6sr5yJGVmKW",
        "outputId": "ca4c4090-d283-4a69-f86e-a09b333001b9"
      },
      "execution_count": null,
      "outputs": [
        {
          "output_type": "execute_result",
          "data": {
            "text/plain": [
              "int"
            ]
          },
          "metadata": {},
          "execution_count": 15
        }
      ]
    },
    {
      "cell_type": "markdown",
      "source": [
        "#NUMBER WITH DECIMAL PLACE ARE CALLED \"FLOATS\" IN PORGRAMMING #"
      ],
      "metadata": {
        "id": "MNRWmn7_lRMD"
      }
    },
    {
      "cell_type": "code",
      "source": [
        "num_float = 7.0\n",
        "#NUMBER WITH DECIMAL PLACE ARE CALLED \"FLOATS\" IN PORGRAMMING"
      ],
      "metadata": {
        "id": "oqWNDBUlVopG"
      },
      "execution_count": null,
      "outputs": []
    },
    {
      "cell_type": "code",
      "source": [
        "type(num_float)"
      ],
      "metadata": {
        "colab": {
          "base_uri": "https://localhost:8080/"
        },
        "id": "06r0ad-nXgeM",
        "outputId": "54fcdd45-905a-4d60-d789-aa5690522c4e"
      },
      "execution_count": null,
      "outputs": [
        {
          "output_type": "execute_result",
          "data": {
            "text/plain": [
              "float"
            ]
          },
          "metadata": {},
          "execution_count": 18
        }
      ]
    },
    {
      "cell_type": "code",
      "source": [
        "pi = 3.14"
      ],
      "metadata": {
        "id": "FFNLTLGrZCj_"
      },
      "execution_count": null,
      "outputs": []
    },
    {
      "cell_type": "code",
      "source": [
        "pi"
      ],
      "metadata": {
        "colab": {
          "base_uri": "https://localhost:8080/"
        },
        "id": "-0xLebSHZDAH",
        "outputId": "656da3f9-2aff-46b1-ce66-2e6f7b2ae155"
      },
      "execution_count": null,
      "outputs": [
        {
          "output_type": "execute_result",
          "data": {
            "text/plain": [
              "3.14"
            ]
          },
          "metadata": {},
          "execution_count": 26
        }
      ]
    },
    {
      "cell_type": "code",
      "source": [
        "type(pi)"
      ],
      "metadata": {
        "colab": {
          "base_uri": "https://localhost:8080/"
        },
        "id": "4xCeOfnPZ-fY",
        "outputId": "382fc0c5-a432-4a39-a794-bd2f8100a8e4"
      },
      "execution_count": null,
      "outputs": [
        {
          "output_type": "execute_result",
          "data": {
            "text/plain": [
              "float"
            ]
          },
          "metadata": {},
          "execution_count": 25
        }
      ]
    },
    {
      "cell_type": "code",
      "source": [
        "type(float)"
      ],
      "metadata": {
        "colab": {
          "base_uri": "https://localhost:8080/"
        },
        "id": "IySAG1xgakjT",
        "outputId": "365a8526-2284-44b6-96e5-2d5d74f75750"
      },
      "execution_count": null,
      "outputs": [
        {
          "output_type": "execute_result",
          "data": {
            "text/plain": [
              "float"
            ]
          },
          "metadata": {},
          "execution_count": 29
        }
      ]
    },
    {
      "cell_type": "code",
      "source": [
        "priesh = 3.5"
      ],
      "metadata": {
        "id": "UgXIAId-an0e"
      },
      "execution_count": null,
      "outputs": []
    },
    {
      "cell_type": "code",
      "source": [
        "priesh"
      ],
      "metadata": {
        "colab": {
          "base_uri": "https://localhost:8080/"
        },
        "id": "u9FWtCIFbGmm",
        "outputId": "ee885de8-c12a-499e-9e3c-54494ad4960f"
      },
      "execution_count": null,
      "outputs": [
        {
          "output_type": "execute_result",
          "data": {
            "text/plain": [
              "3.5"
            ]
          },
          "metadata": {},
          "execution_count": 33
        }
      ]
    },
    {
      "cell_type": "code",
      "source": [
        "type(priesh)"
      ],
      "metadata": {
        "colab": {
          "base_uri": "https://localhost:8080/"
        },
        "id": "gtMX_0owbIW3",
        "outputId": "b043c843-2c7c-485b-d4ac-99b6246331a3"
      },
      "execution_count": null,
      "outputs": [
        {
          "output_type": "execute_result",
          "data": {
            "text/plain": [
              "float"
            ]
          },
          "metadata": {},
          "execution_count": 34
        }
      ]
    },
    {
      "cell_type": "code",
      "source": [
        "negative_float = -0.22"
      ],
      "metadata": {
        "id": "rqXNalaCbLIo"
      },
      "execution_count": null,
      "outputs": []
    },
    {
      "cell_type": "code",
      "source": [
        "  type(negative_float)"
      ],
      "metadata": {
        "colab": {
          "base_uri": "https://localhost:8080/"
        },
        "id": "0k90cKP1bdP9",
        "outputId": "022bfe39-cbdb-4e0c-c324-b613c3890572"
      },
      "execution_count": null,
      "outputs": [
        {
          "output_type": "execute_result",
          "data": {
            "text/plain": [
              "float"
            ]
          },
          "metadata": {},
          "execution_count": 36
        }
      ]
    },
    {
      "cell_type": "code",
      "source": [
        "negative_float"
      ],
      "metadata": {
        "colab": {
          "base_uri": "https://localhost:8080/"
        },
        "id": "qL2CGTRQbhvV",
        "outputId": "8bbca457-faed-4d5e-9559-935badc27179"
      },
      "execution_count": null,
      "outputs": [
        {
          "output_type": "execute_result",
          "data": {
            "text/plain": [
              "-0.22"
            ]
          },
          "metadata": {},
          "execution_count": 38
        }
      ]
    },
    {
      "cell_type": "markdown",
      "source": [
        "#we can assign single value to multiple variavles simultaneously#\n",
        "\n",
        "\n"
      ],
      "metadata": {
        "id": "cAsUcjb6bx0i"
      }
    },
    {
      "cell_type": "code",
      "source": [
        "a = b = c = 100\n"
      ],
      "metadata": {
        "id": "-uoEoBUGcCj3"
      },
      "execution_count": null,
      "outputs": []
    },
    {
      "cell_type": "code",
      "source": [
        "\n",
        "a"
      ],
      "metadata": {
        "colab": {
          "base_uri": "https://localhost:8080/"
        },
        "id": "3XKqtRawiVxt",
        "outputId": "c511079b-7137-4754-83d6-719e07eb2690"
      },
      "execution_count": null,
      "outputs": [
        {
          "output_type": "execute_result",
          "data": {
            "text/plain": [
              "100"
            ]
          },
          "metadata": {},
          "execution_count": 44
        }
      ]
    },
    {
      "cell_type": "code",
      "source": [
        "b"
      ],
      "metadata": {
        "colab": {
          "base_uri": "https://localhost:8080/"
        },
        "id": "mumVOVLciate",
        "outputId": "bcb8031e-70df-4dbf-8205-42dba7f09ead"
      },
      "execution_count": null,
      "outputs": [
        {
          "output_type": "execute_result",
          "data": {
            "text/plain": [
              "100"
            ]
          },
          "metadata": {},
          "execution_count": 45
        }
      ]
    },
    {
      "cell_type": "code",
      "source": [
        "c"
      ],
      "metadata": {
        "colab": {
          "base_uri": "https://localhost:8080/"
        },
        "id": "ErPKg5woibXo",
        "outputId": "d6065743-df19-4e11-9898-86a75c018f8b"
      },
      "execution_count": null,
      "outputs": [
        {
          "output_type": "execute_result",
          "data": {
            "text/plain": [
              "100"
            ]
          },
          "metadata": {},
          "execution_count": 46
        }
      ]
    },
    {
      "cell_type": "markdown",
      "source": [
        "#We can also assign different value to multipla variavle simultaneously#"
      ],
      "metadata": {
        "id": "XJW5j0lMi3ns"
      }
    },
    {
      "cell_type": "code",
      "source": [
        "x , y , z = -10, 0, 9.999"
      ],
      "metadata": {
        "id": "zJAzObiYjfLi"
      },
      "execution_count": null,
      "outputs": []
    },
    {
      "cell_type": "code",
      "source": [
        "x"
      ],
      "metadata": {
        "colab": {
          "base_uri": "https://localhost:8080/"
        },
        "id": "lkmsqCF4jqZZ",
        "outputId": "6080abdc-f05e-49ec-fd14-ca75e56f562b"
      },
      "execution_count": null,
      "outputs": [
        {
          "output_type": "execute_result",
          "data": {
            "text/plain": [
              "-10"
            ]
          },
          "metadata": {},
          "execution_count": 51
        }
      ]
    },
    {
      "cell_type": "code",
      "source": [
        "y"
      ],
      "metadata": {
        "colab": {
          "base_uri": "https://localhost:8080/"
        },
        "id": "hSiPlMJ4j8ol",
        "outputId": "915ac969-7b6b-4727-8547-adee9e907782"
      },
      "execution_count": null,
      "outputs": [
        {
          "output_type": "execute_result",
          "data": {
            "text/plain": [
              "0"
            ]
          },
          "metadata": {},
          "execution_count": 53
        }
      ]
    },
    {
      "cell_type": "code",
      "source": [
        "z"
      ],
      "metadata": {
        "colab": {
          "base_uri": "https://localhost:8080/"
        },
        "id": "YVg0zXdnkEh4",
        "outputId": "1bb29237-dcdb-4276-cf06-daa684801409"
      },
      "execution_count": null,
      "outputs": [
        {
          "output_type": "execute_result",
          "data": {
            "text/plain": [
              "9.999"
            ]
          },
          "metadata": {},
          "execution_count": 54
        }
      ]
    },
    {
      "cell_type": "markdown",
      "source": [
        "#**if we want to change what a variable stores, we can reassign a new value to it**#\n",
        "\n"
      ],
      "metadata": {
        "id": "j-ZyqaZYkHxg"
      }
    },
    {
      "cell_type": "code",
      "source": [
        "anwer = 42\n"
      ],
      "metadata": {
        "id": "cNc9uLNuj6v7"
      },
      "execution_count": null,
      "outputs": []
    },
    {
      "cell_type": "code",
      "source": [
        "anwer"
      ],
      "metadata": {
        "colab": {
          "base_uri": "https://localhost:8080/"
        },
        "id": "YV2anhLDkmsA",
        "outputId": "f3a966bc-304d-4673-a913-7be3b2b69dbf"
      },
      "execution_count": null,
      "outputs": [
        {
          "output_type": "execute_result",
          "data": {
            "text/plain": [
              "42"
            ]
          },
          "metadata": {},
          "execution_count": 59
        }
      ]
    },
    {
      "cell_type": "code",
      "source": [
        "anwer = 0\n"
      ],
      "metadata": {
        "id": "kF_hc5dUkosR"
      },
      "execution_count": null,
      "outputs": []
    },
    {
      "cell_type": "code",
      "source": [
        "anwer"
      ],
      "metadata": {
        "colab": {
          "base_uri": "https://localhost:8080/"
        },
        "id": "9-VhkLxykwaT",
        "outputId": "0bd54845-b7cf-45ff-8690-6d0bbe65c8b3"
      },
      "execution_count": null,
      "outputs": [
        {
          "output_type": "execute_result",
          "data": {
            "text/plain": [
              "0"
            ]
          },
          "metadata": {},
          "execution_count": 61
        }
      ]
    },
    {
      "cell_type": "markdown",
      "source": [
        "#variable names in python are case- sensitive#"
      ],
      "metadata": {
        "id": "5dwmtXVwmNJC"
      }
    },
    {
      "cell_type": "code",
      "source": [
        "number = 9.00"
      ],
      "metadata": {
        "id": "be1EhOQ_e6vr"
      },
      "execution_count": 2,
      "outputs": []
    },
    {
      "cell_type": "code",
      "source": [
        "number"
      ],
      "metadata": {
        "colab": {
          "base_uri": "https://localhost:8080/"
        },
        "id": "K6Xi59WJfJs2",
        "outputId": "7854b5e1-8757-4a30-81cb-b63f57bfb1f2"
      },
      "execution_count": 3,
      "outputs": [
        {
          "output_type": "execute_result",
          "data": {
            "text/plain": [
              "9.0"
            ]
          },
          "metadata": {},
          "execution_count": 3
        }
      ]
    },
    {
      "cell_type": "code",
      "source": [
        "Number = 124"
      ],
      "metadata": {
        "id": "t40Okls_fNsI"
      },
      "execution_count": 4,
      "outputs": []
    },
    {
      "cell_type": "code",
      "source": [
        "Number"
      ],
      "metadata": {
        "colab": {
          "base_uri": "https://localhost:8080/"
        },
        "id": "SCbm9afLfRuB",
        "outputId": "81ea62f7-f54a-4c71-e601-0eaf19091c5f"
      },
      "execution_count": 5,
      "outputs": [
        {
          "output_type": "execute_result",
          "data": {
            "text/plain": [
              "124"
            ]
          },
          "metadata": {},
          "execution_count": 5
        }
      ]
    }
  ]
}