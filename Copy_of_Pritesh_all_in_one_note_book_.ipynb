{
  "cells": [
    {
      "cell_type": "markdown",
      "metadata": {
        "id": "view-in-github",
        "colab_type": "text"
      },
      "source": [
        "<a href=\"https://colab.research.google.com/github/PRITESHDAYAT/Priteshfiledemo/blob/main/Copy_of_Pritesh_all_in_one_note_book_.ipynb\" target=\"_parent\"><img src=\"https://colab.research.google.com/assets/colab-badge.svg\" alt=\"Open In Colab\"/></a>"
      ]
    },
    {
      "cell_type": "code",
      "execution_count": null,
      "metadata": {
        "id": "W7BblZvJ41S-"
      },
      "outputs": [],
      "source": [
        "#Conditionals\n",
        "#unless ther is a control structure altering control flow pythin code typically run form top to bottom and left to right"
      ]
    },
    {
      "cell_type": "code",
      "execution_count": null,
      "metadata": {
        "id": "4HWip5UMBFY5",
        "colab": {
          "base_uri": "https://localhost:8080/"
        },
        "outputId": "9ce6346f-a9fd-4c60-b44a-b503983e01c6"
      },
      "outputs": [
        {
          "output_type": "stream",
          "name": "stdout",
          "text": [
            "hello world 1 \n",
            "hello world 2 \n",
            "hello world 3 \n",
            "hello world 4 \n"
          ]
        }
      ],
      "source": [
        "print(\"hello world 1 \")\n",
        "print(\"hello world 2 \")\n",
        "print(\"hello world 3 \")\n",
        "print(\"hello world 4 \")"
      ]
    },
    {
      "cell_type": "code",
      "execution_count": null,
      "metadata": {
        "id": "a9JnrEdmBFbo"
      },
      "outputs": [],
      "source": [
        "#inporting the time library to introduce an artificial delay in the code\n",
        "import time"
      ]
    },
    {
      "cell_type": "code",
      "execution_count": null,
      "metadata": {
        "id": "GeJDs1uUBFeU",
        "colab": {
          "base_uri": "https://localhost:8080/"
        },
        "outputId": "5f4bb1c1-a3b5-4fdd-e718-ba0d243dc023"
      },
      "outputs": [
        {
          "output_type": "stream",
          "name": "stdout",
          "text": [
            "hello world 1 \n",
            "hello world 2 \n",
            "hello world 3 \n",
            "hello world 4 \n"
          ]
        }
      ],
      "source": [
        "print(\"hello world 1 \")\n",
        "time.sleep(1)\n",
        "print(\"hello world 2 \")\n",
        "time.sleep(2)\n",
        "print(\"hello world 3 \")\n",
        "time.sleep(3)\n",
        "print(\"hello world 4 \")\n",
        "time.sleep(5)"
      ]
    },
    {
      "cell_type": "code",
      "execution_count": null,
      "metadata": {
        "id": "yicP9z9mBFgx",
        "colab": {
          "base_uri": "https://localhost:8080/"
        },
        "outputId": "316c8e72-dd23-4bde-fd5d-7467b15397ef"
      },
      "outputs": [
        {
          "output_type": "stream",
          "name": "stdout",
          "text": [
            "hello world 1 \n",
            "hello world 2 \n",
            "hello world 4 \n"
          ]
        }
      ],
      "source": [
        "## if there an error in your code, everything before the error will execute and the rest will be ignored\n",
        "print(\"hello world 1 \")\n",
        "print(\"hello world 2 \")\n",
        "abc\n",
        "print(\"hello world 4 \")\n"
      ]
    },
    {
      "cell_type": "markdown",
      "metadata": {
        "id": "vNE9dcFRDXAb"
      },
      "source": [
        "A single line python code executes form left to right barring rules of precedence"
      ]
    },
    {
      "cell_type": "code",
      "execution_count": null,
      "metadata": {
        "id": "CmkWOrooBFjC",
        "colab": {
          "base_uri": "https://localhost:8080/"
        },
        "outputId": "071e3d11-bfa0-4d31-96d8-e729371b4be3"
      },
      "outputs": [
        {
          "output_type": "execute_result",
          "data": {
            "text/plain": [
              "5.0"
            ]
          },
          "metadata": {},
          "execution_count": 163
        }
      ],
      "source": [
        "100/10/2"
      ]
    },
    {
      "cell_type": "code",
      "execution_count": null,
      "metadata": {
        "id": "Y7uPkdgDBFlC",
        "colab": {
          "base_uri": "https://localhost:8080/"
        },
        "outputId": "245380ca-debb-44ac-d77a-5737ca9b48cc"
      },
      "outputs": [
        {
          "output_type": "execute_result",
          "data": {
            "text/plain": [
              "True"
            ]
          },
          "metadata": {},
          "execution_count": 164
        }
      ],
      "source": [
        "True or False and False #\"and\" has a higher procedence than \"or\""
      ]
    },
    {
      "cell_type": "code",
      "execution_count": null,
      "metadata": {
        "id": "_1l5yNb2BFnR",
        "colab": {
          "base_uri": "https://localhost:8080/"
        },
        "outputId": "16df0dd3-058f-4854-ebb1-a61eed9499cf"
      },
      "outputs": [
        {
          "output_type": "execute_result",
          "data": {
            "text/plain": [
              "512"
            ]
          },
          "metadata": {},
          "execution_count": 165
        }
      ],
      "source": [
        "2**3**2   # exponentiation is an exception which executes form right to left"
      ]
    },
    {
      "cell_type": "code",
      "execution_count": null,
      "metadata": {
        "id": "jsHUYvWkBFpY",
        "colab": {
          "base_uri": "https://localhost:8080/"
        },
        "outputId": "e1189d4c-eea5-4a9c-89cd-890ec47c2e09"
      },
      "outputs": [
        {
          "output_type": "execute_result",
          "data": {
            "text/plain": [
              "20.0"
            ]
          },
          "metadata": {},
          "execution_count": 166
        }
      ],
      "source": [
        "100/(10/2)  # expressions within parantheses are prioritised"
      ]
    },
    {
      "cell_type": "code",
      "execution_count": null,
      "metadata": {
        "id": "tz55QERbBFrg",
        "colab": {
          "base_uri": "https://localhost:8080/"
        },
        "outputId": "45cba3a8-b1a6-4da0-fabb-1afe85195560"
      },
      "outputs": [
        {
          "output_type": "execute_result",
          "data": {
            "text/plain": [
              "64"
            ]
          },
          "metadata": {},
          "execution_count": 167
        }
      ],
      "source": [
        "(2**3)**2"
      ]
    },
    {
      "cell_type": "markdown",
      "metadata": {
        "id": "395MCcnCFiDt"
      },
      "source": [
        "The IF statement is simple : The code in an IF block is executed only when the accompanying condition is met. Here is where you will see the utility of the conditional and logical opereation you learnt about in the perovious module."
      ]
    },
    {
      "cell_type": "code",
      "execution_count": null,
      "metadata": {
        "id": "qgZe_jveBFta"
      },
      "outputs": [],
      "source": [
        "#we can allow programs to make decision by using if statment the if statement executed if the boolean value or expression procided evalutes as true."
      ]
    },
    {
      "cell_type": "code",
      "execution_count": null,
      "metadata": {
        "id": "Tykbj0pLBFvs",
        "colab": {
          "base_uri": "https://localhost:8080/"
        },
        "outputId": "eb8ca704-38af-480a-a971-b3e8a8a6aa77"
      },
      "outputs": [
        {
          "output_type": "stream",
          "name": "stdout",
          "text": [
            "Eight is greater than five\n"
          ]
        }
      ],
      "source": [
        "bool_val = 8 > 6\n",
        "if bool_val:\n",
        "  print('Eight is greater than five')\n"
      ]
    },
    {
      "cell_type": "code",
      "execution_count": null,
      "metadata": {
        "id": "6J_3QIiYBFzB",
        "colab": {
          "base_uri": "https://localhost:8080/"
        },
        "outputId": "e0c3f0bd-192b-4003-9754-9a638261aa1a"
      },
      "outputs": [
        {
          "output_type": "stream",
          "name": "stdout",
          "text": [
            "this will print\n"
          ]
        }
      ],
      "source": [
        "if True : print('this will print')\n",
        "if False : print('this will not print')"
      ]
    },
    {
      "cell_type": "code",
      "execution_count": null,
      "metadata": {
        "id": "IBh0gy99BF1Q",
        "colab": {
          "base_uri": "https://localhost:8080/"
        },
        "outputId": "0430f4fd-1b41-41b8-ca55-96b2366940fe"
      },
      "outputs": [
        {
          "output_type": "stream",
          "name": "stdout",
          "text": [
            "Truthy value will print\n",
            "Truthy value will print\n"
          ]
        }
      ],
      "source": [
        "if 'a' : print('Truthy value will print')\n",
        "if '' : print('falsy value will not print')\n",
        "if 0: print('falsy value will not print')\n",
        "if -1: print('Truthy value will print')"
      ]
    },
    {
      "cell_type": "code",
      "execution_count": null,
      "metadata": {
        "id": "VLJkeHqRBF3x"
      },
      "outputs": [],
      "source": [
        "#if we want to execute more than one statement when our if condition is met we can type these statement on multiple lines with indentation"
      ]
    },
    {
      "cell_type": "code",
      "execution_count": null,
      "metadata": {
        "id": "jsPrHyZDBF6g",
        "colab": {
          "base_uri": "https://localhost:8080/"
        },
        "outputId": "a92eaa70-1be0-4fbf-8d57-dcdb21edc96e"
      },
      "outputs": [
        {
          "output_type": "stream",
          "name": "stdout",
          "text": [
            "python\n",
            "programming\n",
            "is\n",
            "fun!\n"
          ]
        }
      ],
      "source": [
        "if True:\n",
        "  print('python')\n",
        "  print('programming')\n",
        "  print('is')\n",
        "  print('fun!')"
      ]
    },
    {
      "cell_type": "code",
      "execution_count": null,
      "metadata": {
        "id": "A3yaPnhWLF4g",
        "colab": {
          "base_uri": "https://localhost:8080/"
        },
        "outputId": "f3564cca-947b-42b7-8e37-bdcf5050cb8f"
      },
      "outputs": [
        {
          "output_type": "stream",
          "name": "stdout",
          "text": [
            "Eight is less than five (?)\n"
          ]
        }
      ],
      "source": [
        "# as long as the condition is met it doesn't matter what's being printed\n",
        "if 8 > 5 : print ('Eight is less than five (?)')"
      ]
    },
    {
      "cell_type": "code",
      "execution_count": null,
      "metadata": {
        "id": "G3uI549VBF9h"
      },
      "outputs": [],
      "source": [
        "# we can include multiple condition with logical operation as long as the expression evaluate to a single boolean"
      ]
    },
    {
      "cell_type": "code",
      "execution_count": null,
      "metadata": {
        "id": "vhBT1e5wBGAR",
        "colab": {
          "base_uri": "https://localhost:8080/"
        },
        "outputId": "fa215506-6ab4-46a7-824e-96a8fe1641e4"
      },
      "outputs": [
        {
          "output_type": "execute_result",
          "data": {
            "text/plain": [
              "True"
            ]
          },
          "metadata": {},
          "execution_count": 176
        }
      ],
      "source": [
        "5 > 4\n"
      ]
    },
    {
      "cell_type": "code",
      "execution_count": null,
      "metadata": {
        "id": "e4JXhUVPBGC5",
        "colab": {
          "base_uri": "https://localhost:8080/"
        },
        "outputId": "a4712270-7218-4269-c3f7-4f7365296707"
      },
      "outputs": [
        {
          "output_type": "execute_result",
          "data": {
            "text/plain": [
              "True"
            ]
          },
          "metadata": {},
          "execution_count": 177
        }
      ],
      "source": [
        "5< 8"
      ]
    },
    {
      "cell_type": "code",
      "execution_count": null,
      "metadata": {
        "id": "m4F6uavGBGFg",
        "colab": {
          "base_uri": "https://localhost:8080/"
        },
        "outputId": "1ba5def1-6070-4148-8ca3-1890fe1cb1d5"
      },
      "outputs": [
        {
          "output_type": "execute_result",
          "data": {
            "text/plain": [
              "True"
            ]
          },
          "metadata": {},
          "execution_count": 178
        }
      ],
      "source": [
        "5>4 and 5<8"
      ]
    },
    {
      "cell_type": "code",
      "execution_count": null,
      "metadata": {
        "id": "UkPMSF6xBGIJ",
        "colab": {
          "base_uri": "https://localhost:8080/"
        },
        "outputId": "e4dd054f-2e69-4639-f719-89a77f345218"
      },
      "outputs": [
        {
          "output_type": "stream",
          "name": "stdout",
          "text": [
            "5 is greater than 4 and less than 8\n"
          ]
        }
      ],
      "source": [
        "if 5 > 4 and 5 < 8 :\n",
        "   print('5 is greater than 4 and less than 8')"
      ]
    },
    {
      "cell_type": "code",
      "execution_count": null,
      "metadata": {
        "id": "VF1mHPhJBGKo",
        "colab": {
          "base_uri": "https://localhost:8080/"
        },
        "outputId": "058a81ce-8bb8-4140-f87c-a44027d232d3"
      },
      "outputs": [
        {
          "output_type": "stream",
          "name": "stdout",
          "text": [
            "5 is greater than 4 and less than 8.\n"
          ]
        }
      ],
      "source": [
        "if 4 < 5 < 8 : print('5 is greater than 4 and less than 8.')"
      ]
    },
    {
      "cell_type": "code",
      "execution_count": null,
      "metadata": {
        "id": "M9iQWUd9BGNh",
        "colab": {
          "base_uri": "https://localhost:8080/"
        },
        "outputId": "72ec18a8-b792-4631-95d4-8f85dfa7e933"
      },
      "outputs": [
        {
          "output_type": "stream",
          "name": "stdout",
          "text": [
            "it is a warm and sunny day\n"
          ]
        }
      ],
      "source": [
        "is_sunny = True\n",
        "temperature = 30\n",
        "if is_sunny and temperature > 24: print('it is a warm and sunny day')"
      ]
    },
    {
      "cell_type": "code",
      "execution_count": null,
      "metadata": {
        "id": "MiEZtEHdBGQR"
      },
      "outputs": [],
      "source": [
        "# for more complex decision making we can use multiple if statements in a sequence\n"
      ]
    },
    {
      "cell_type": "code",
      "execution_count": null,
      "metadata": {
        "id": "Fq_I-C0RBGTD",
        "colab": {
          "base_uri": "https://localhost:8080/"
        },
        "outputId": "40b66ae8-3e13-476f-e178-9f7e80dbe2b3"
      },
      "outputs": [
        {
          "output_type": "stream",
          "name": "stdout",
          "text": [
            "grade B\n",
            "grade C\n",
            "grade D\n"
          ]
        }
      ],
      "source": [
        "marks = 80\n",
        "if marks >= 90:   print('grade A')\n",
        "if marks >= 80:   print('grade B')\n",
        "if marks >= 70:   print('grade C')\n",
        "if marks >= 60:   print('grade D')\n",
        "if marks < 60:   print('fail')"
      ]
    },
    {
      "cell_type": "code",
      "execution_count": null,
      "metadata": {
        "id": "oX48kquEBGVr"
      },
      "outputs": [],
      "source": [
        "# correct one\n",
        "# that doest't look right ! Remember. you code connot think for itself and you need to be very explicity in telling it what you want it to do"
      ]
    },
    {
      "cell_type": "code",
      "execution_count": null,
      "metadata": {
        "id": "p1ZHTMZlRyjf",
        "colab": {
          "base_uri": "https://localhost:8080/"
        },
        "outputId": "784de1b2-caa3-42c2-9d43-b8f6f914e152"
      },
      "outputs": [
        {
          "output_type": "stream",
          "name": "stdout",
          "text": [
            "grade A\n"
          ]
        }
      ],
      "source": [
        "marks = 95\n",
        "if marks >= 90 : print('grade A')\n",
        "if marks >= 80 and marks < 90 : print('grade B')\n",
        "if marks >= 70 and marks < 80 : print('grade C')\n",
        "if marks >= 60 and marks < 70 : print('grade D')\n",
        "if marks < 60 : print('fail')"
      ]
    },
    {
      "cell_type": "code",
      "execution_count": null,
      "metadata": {
        "id": "W4i4E1GAL-OG"
      },
      "outputs": [],
      "source": [
        "++marks = 95\n",
        "if marks >= 9 and marks < 10 : print('grade A')\n",
        "if marks >= 8 and marks < 9 : print('grade b')\n",
        "if marks >= 7 and marks < 8 : print('grade C')\n",
        "if marks >= 6 and marks < 7 : print('grade D')\n",
        "if marks < 6 : print('fail')"
      ]
    },
    {
      "cell_type": "code",
      "execution_count": null,
      "metadata": {
        "id": "J5PGkV4zMH7x"
      },
      "outputs": [],
      "source": [
        "#State whether the following statement is true or false:\n",
        "\n",
        "#“In Python, the condition inside an if statement must always be either True or False.”\n",
        "# false"
      ]
    },
    {
      "cell_type": "code",
      "execution_count": null,
      "metadata": {
        "id": "KnnZ7PjgMH-q",
        "colab": {
          "base_uri": "https://localhost:8080/"
        },
        "outputId": "d123d529-a3e5-458f-ca07-735e04169b2c"
      },
      "outputs": [
        {
          "output_type": "stream",
          "name": "stdout",
          "text": [
            "Please input an integer: 55\n",
            "55\n"
          ]
        }
      ],
      "source": [
        "user_input = int(input('Please input an integer: '))\n",
        "if user_input != 3: print(user_input)"
      ]
    },
    {
      "cell_type": "code",
      "execution_count": null,
      "metadata": {
        "id": "efSlL2YpMIDA",
        "colab": {
          "base_uri": "https://localhost:8080/"
        },
        "outputId": "b7dc6efd-e221-4e45-b645-9a2cbc79fb70"
      },
      "outputs": [
        {
          "output_type": "stream",
          "name": "stdout",
          "text": [
            "You are probably underweight.\n",
            "You are probably of average weight.\n",
            "You are probably overweight.\n"
          ]
        }
      ],
      "source": [
        "weight = 40\n",
        "if weight < 50: print('You are probably underweight.')\n",
        "if weight < 70: print('You are probably of average weight.')\n",
        "if weight < 90: print('You are probably overweight.')\n",
        "if weight >= 90: print('You are possibly obese.')"
      ]
    },
    {
      "cell_type": "code",
      "execution_count": null,
      "metadata": {
        "id": "noVTpH0YMIFs"
      },
      "outputs": [],
      "source": [
        "# lecture 2 Python Control Structures - Conditionals - IFELSE - part 1"
      ]
    },
    {
      "cell_type": "code",
      "execution_count": null,
      "metadata": {
        "id": "857X0IGxMIIN"
      },
      "outputs": [],
      "source": [
        "# we may want out code to perform a task when an if statment does not execute an else statement executes if the proceding if statemnet does not"
      ]
    },
    {
      "cell_type": "code",
      "execution_count": null,
      "metadata": {
        "id": "r-YN0blJMIK4",
        "colab": {
          "base_uri": "https://localhost:8080/"
        },
        "outputId": "ccebca92-c81e-45de-9dd3-0e3790b18f55"
      },
      "outputs": [
        {
          "output_type": "stream",
          "name": "stdout",
          "text": [
            "this will not print because it is false\n"
          ]
        }
      ],
      "source": [
        "x = 5\n",
        "if x > 5:\n",
        "       print('this will print becauce it is true')\n",
        "else:\n",
        "      print('this will not print because it is false')"
      ]
    },
    {
      "cell_type": "code",
      "execution_count": null,
      "metadata": {
        "id": "D9KIv6QyMINh",
        "colab": {
          "base_uri": "https://localhost:8080/"
        },
        "outputId": "1be17992-80a2-4e7d-f050-91a1fbd11ede"
      },
      "outputs": [
        {
          "output_type": "stream",
          "name": "stdout",
          "text": [
            "This will always print\n"
          ]
        }
      ],
      "source": [
        "if True : print('This will always print')\n",
        "else: print('This will never print')"
      ]
    },
    {
      "cell_type": "code",
      "execution_count": null,
      "metadata": {
        "id": "wuEB7NfrMIQF",
        "colab": {
          "base_uri": "https://localhost:8080/"
        },
        "outputId": "67cd6cfc-95cc-4682-dc6b-ddb25578c719"
      },
      "outputs": [
        {
          "output_type": "stream",
          "name": "stdout",
          "text": [
            "4\n"
          ]
        }
      ],
      "source": [
        "if x > 6 : x += 1\n",
        "else : x -= 1\n",
        "print(x)"
      ]
    },
    {
      "cell_type": "code",
      "execution_count": null,
      "metadata": {
        "id": "C-yWTsm2MISf",
        "colab": {
          "base_uri": "https://localhost:8080/"
        },
        "outputId": "51896a20-6398-4a32-a4a6-929bae770799"
      },
      "outputs": [
        {
          "output_type": "stream",
          "name": "stdout",
          "text": [
            "-3\n"
          ]
        }
      ],
      "source": [
        "if x > 10 : x += 7\n",
        "else : x -= 7\n",
        "print(x)"
      ]
    },
    {
      "cell_type": "code",
      "execution_count": null,
      "metadata": {
        "id": "ua3MmgDaMIU4",
        "colab": {
          "base_uri": "https://localhost:8080/"
        },
        "outputId": "8b38f791-9c55-4c9e-a5ee-2411b9f10302"
      },
      "outputs": [
        {
          "output_type": "stream",
          "name": "stdout",
          "text": [
            "grade B\n"
          ]
        }
      ],
      "source": [
        "marks = 80\n",
        "if marks >= 90 : print('grade A')\n",
        "elif marks >= 80 : print('grade B')\n",
        "elif marks >= 70 : print('grade C')\n",
        "elif marks >= 60 : print('grade D')\n",
        "else : print('fail')"
      ]
    },
    {
      "cell_type": "code",
      "execution_count": null,
      "metadata": {
        "id": "AKXAa4dVMIXA",
        "colab": {
          "base_uri": "https://localhost:8080/"
        },
        "outputId": "ff7df7e4-c09d-4015-c39a-7c9e2d868957"
      },
      "outputs": [
        {
          "output_type": "stream",
          "name": "stdout",
          "text": [
            "Enter the traffic light color (red, yellow, or green): 55\n",
            "Invalid color input. Please enter 'red', 'yellow', or 'green'.\n"
          ]
        }
      ],
      "source": [
        "# prompt: let' imagine we are designing a system to help colourblind people understand what the colour being displayed by a traffic light represent we can create a simple block of code where the user provides an input colour and the program prints out what the colour represents\n",
        "#let' imagine we are designing a system to help colourblind people understand what the colour being displayed by a traffic light represent we can create a simple block of code where the user provides an input colour and the program prints out what the colour represents\n",
        "\n",
        "# Function to interpret traffic light color\n",
        "def interpret_traffic_light(color):\n",
        "  \"\"\"\n",
        "  Interprets the meaning of a traffic light color for colourblind people.\n",
        "\n",
        "  Args:\n",
        "    color: The input color of the traffic light (string).\n",
        "\n",
        "  Returns:\n",
        "    A string describing what the color represents.\n",
        "  \"\"\"\n",
        "  color = color.lower() # Convert input to lowercase for case-insensitivity\n",
        "\n",
        "  if color == \"red\":\n",
        "    return \"The traffic light is red. This means STOP.\"\n",
        "  elif color == \"yellow\":\n",
        "    return \"The traffic light is yellow. This means get ready to STOP or proceed with CAUTION if you are too close to stop safely.\"\n",
        "  elif color == \"green\":\n",
        "    return \"The traffic light is green. This means GO.\"\n",
        "  else:\n",
        "    return \"Invalid color input. Please enter 'red', 'yellow', or 'green'.\"\n",
        "\n",
        "# Get input from the user\n",
        "user_color = input(\"Enter the traffic light color (red, yellow, or green): \")\n",
        "\n",
        "# Print the interpretation\n",
        "print(interpret_traffic_light(user_color))\n"
      ]
    },
    {
      "cell_type": "code",
      "execution_count": null,
      "metadata": {
        "id": "hlTE-NhTMIbh",
        "colab": {
          "base_uri": "https://localhost:8080/"
        },
        "outputId": "fc9b64cd-3c36-4a12-e59a-b7a4fb477277"
      },
      "outputs": [
        {
          "name": "stdout",
          "output_type": "stream",
          "text": [
            "55\n"
          ]
        }
      ],
      "source": [
        "color = input()\n",
        "if color == \"red\" :\n",
        "  print('stop')\n",
        "if color == \"yellow\":\n",
        "  print('wait')\n",
        "if color == \"green\" :\n",
        "    print('go')\n"
      ]
    },
    {
      "cell_type": "code",
      "execution_count": null,
      "metadata": {
        "id": "S8wQHPaJMIeB"
      },
      "outputs": [],
      "source": [
        "# you can nest conditionals to perform more complex decision - makaing logical in programming nesting is the practice o practice of placing one pro construct within another"
      ]
    },
    {
      "cell_type": "markdown",
      "metadata": {
        "id": "9oXlo1_elJEc"
      },
      "source": [
        "hever is a block o f code that asks the their age and then informs them if they are an adult or not if they are an adult if further I what type of diver's license or premission thy are eligible for desed on their age"
      ]
    },
    {
      "cell_type": "code",
      "execution_count": null,
      "metadata": {
        "id": "zX_FXqcTMIgx",
        "colab": {
          "base_uri": "https://localhost:8080/"
        },
        "outputId": "b8b333b2-81f2-49db-b8bd-a1a0fd087fbb"
      },
      "outputs": [
        {
          "output_type": "stream",
          "name": "stdout",
          "text": [
            "enter your age : 55\n",
            "you are an adult\n",
            "you are eligible to rent a car without extra fees\n"
          ]
        }
      ],
      "source": [
        "age = int(input('enter your age : '))\n",
        "if age >= 18:\n",
        "  print('you are an adult')\n",
        "if age >= 25 :\n",
        "  print('you are eligible to rent a car without extra fees')\n",
        "elif age >= 21 :\n",
        "  print('You are eligible to apply for a commercial drivers license')\n",
        "else :\n",
        "  print('you are a miner and not eligible for a drivers licence')"
      ]
    },
    {
      "cell_type": "code",
      "execution_count": null,
      "metadata": {
        "id": "cg6LvFfqMIjl",
        "colab": {
          "base_uri": "https://localhost:8080/"
        },
        "outputId": "7f1aceb6-a8eb-4a63-a035-91eebbbedb5e"
      },
      "outputs": [
        {
          "output_type": "stream",
          "name": "stdout",
          "text": [
            "Enter your age: 55\n",
            "You are an adult\n",
            "You are eligible to rent a car without extra fees\n"
          ]
        }
      ],
      "source": [
        "age = int(input('Enter your age: '))\n",
        "\n",
        "if age >= 25:\n",
        "    print('You are an adult')\n",
        "    print('You are eligible to rent a car without extra fees')\n",
        "elif age >= 21:\n",
        "    print('You are an adult')\n",
        "    print('You are eligible to apply for a commercial driver\\'s license')\n",
        "elif age >= 18:\n",
        "    print('You are an adult')\n",
        "    print('But not eligible for commercial driving or car rentals without fees')\n",
        "else:\n",
        "    print('You are a minor and not eligible for a driver\\'s license')\n"
      ]
    },
    {
      "cell_type": "markdown",
      "metadata": {
        "id": "HE-7m8JafIns"
      },
      "source": [
        "here is a block of code which takes the credit score and income of the user as an input it then determines it the user eligible for a credit card or not\n"
      ]
    },
    {
      "cell_type": "code",
      "execution_count": null,
      "metadata": {
        "id": "r1rmo5dUMImQ",
        "colab": {
          "base_uri": "https://localhost:8080/",
          "height": 110
        },
        "outputId": "57c0cbd4-e89e-4424-8263-4a440f368001"
      },
      "outputs": [
        {
          "output_type": "error",
          "ename": "IndentationError",
          "evalue": "unindent does not match any outer indentation level (<tokenize>, line 5)",
          "traceback": [
            "\u001b[0;36m  File \u001b[0;32m\"<tokenize>\"\u001b[0;36m, line \u001b[0;32m5\u001b[0m\n\u001b[0;31m    print('creadit card approced ! ')\u001b[0m\n\u001b[0m    ^\u001b[0m\n\u001b[0;31mIndentationError\u001b[0m\u001b[0;31m:\u001b[0m unindent does not match any outer indentation level\n"
          ]
        }
      ],
      "source": [
        "55\n",
        "credit_score = int(input('input your monthly income : '))\n",
        "income = int(input('input your monthly income'))\n",
        "if credit_score >= 700:\n",
        "       if income >= 50000:\n",
        "  print('creadit card approced ! ')\n",
        "else :\n",
        "  print('insufficient income')\n",
        "else:\n",
        "  print('low cradit score.')"
      ]
    },
    {
      "cell_type": "code",
      "execution_count": null,
      "metadata": {
        "id": "VP_BUPNtMIpA"
      },
      "outputs": [],
      "source": [
        "credit_score = int(input('Enter your credit score: '))\n",
        "income = int(input('Enter your monthly income: '))\n",
        "\n",
        "if credit_score >= 700:\n",
        "    if income >= 50000:\n",
        "        print('Credit card approved!')\n",
        "    else:\n",
        "        print('Insufficient income.')\n",
        "else:\n",
        "    print('Low credit score.')\n"
      ]
    },
    {
      "cell_type": "code",
      "execution_count": null,
      "metadata": {
        "id": "cicbQyNvMIrv"
      },
      "outputs": [],
      "source": [
        "if x > 10:\n",
        "if y > 15:\n",
        "if z > 20:\n",
        "  print(‘All conditions are true!')\n",
        "else:\n",
        "  print ('z is not greater than 20')\n",
        "else:\n",
        "  print ('y is not greater than 15')\n",
        "else:\n",
        "  print ('x is not greater than 10')"
      ]
    },
    {
      "cell_type": "markdown",
      "metadata": {
        "id": "i5AgvKIZ5xn8"
      },
      "source": [
        "---------------------------------------------------------------------\n"
      ]
    },
    {
      "cell_type": "markdown",
      "metadata": {
        "id": "tnNOoh5j58fH"
      },
      "source": [
        "Let't implement the logic for a simple two elecator system (let't call them lift A and LIft b ). The idea is to cloose the right lift depending on the floor from which they are being hailed\n",
        "\n",
        "\n",
        "\n",
        "\n",
        "*   The calling floor\n",
        "\n",
        "*   the floor in which lift A is at rest or the floor to which it is moving\n",
        "\n",
        "\n",
        "*   the floor in which lift B is at rest or the floor to which it is moving\n",
        "\n",
        "\n",
        "\n",
        "\n"
      ]
    },
    {
      "cell_type": "code",
      "execution_count": null,
      "metadata": {
        "id": "NPvd0fJtMIxp"
      },
      "outputs": [],
      "source": [
        "# Input variables\n",
        "floor_call = 2\n",
        "lift_A = 5\n",
        "Lift_B = 7\n",
        "\n",
        "# lofic for choosing the right lift for the calling floor\n",
        "dist_A = abs(lift_A - floor_call)\n",
        "dist_B = abs(lift_B - floor_call)\n",
        "\n",
        "if dist_A < dist_B:\n",
        "   print('lift A is chosen')\n",
        "else :\n",
        "  print('lift B is chosen') # This includes the case where the two distance are equal\n"
      ]
    },
    {
      "cell_type": "code",
      "execution_count": null,
      "metadata": {
        "id": "-Y8m7vabMI0j"
      },
      "outputs": [],
      "source": [
        "# Input variables\n",
        "floor_call = 2\n",
        "lift_A = 5\n",
        "lift_B = 7\n",
        "\n",
        "# logic for choosing the right lift for the calling floor\n",
        "dist_A = abs(lift_A - floor_call)\n",
        "dist_B = abs(lift_B - floor_call)\n",
        "\n",
        "if dist_A < dist_B:\n",
        "    print('lift A is chosen')\n",
        "else:\n",
        "    print('lift B is chosen')  # This includes the case where the two distances are equal\n"
      ]
    },
    {
      "cell_type": "markdown",
      "metadata": {
        "id": "yfGiqUfeGPpk"
      },
      "source": [
        "let's improve the code to handly two calling floors\n",
        "Let's define our variables here:\n",
        "\n",
        "\n",
        "\n",
        "*  The calling floors. Say X and Y\n",
        "*  The floor in which Lift A is at Rest or the Floor to which it is moving\n",
        "*   The floor in which lift B is at rest ot the floor to which it is movubg\n",
        "\n",
        "\n",
        "\n",
        "\n"
      ]
    },
    {
      "cell_type": "code",
      "execution_count": null,
      "metadata": {
        "id": "y5z5tL-CGO9t"
      },
      "outputs": [],
      "source": []
    },
    {
      "cell_type": "code",
      "execution_count": null,
      "metadata": {
        "id": "m6q1NhJGMI3a"
      },
      "outputs": [],
      "source": []
    },
    {
      "cell_type": "code",
      "execution_count": null,
      "metadata": {
        "id": "FcjIbxwAMI9I"
      },
      "outputs": [],
      "source": []
    },
    {
      "cell_type": "code",
      "execution_count": null,
      "metadata": {
        "id": "iG55qkKNMI_5"
      },
      "outputs": [],
      "source": []
    },
    {
      "cell_type": "code",
      "execution_count": null,
      "metadata": {
        "id": "lnrglq1MMJCg"
      },
      "outputs": [],
      "source": []
    },
    {
      "cell_type": "code",
      "execution_count": null,
      "metadata": {
        "id": "14QjQbJMMJFP"
      },
      "outputs": [],
      "source": []
    },
    {
      "cell_type": "code",
      "execution_count": null,
      "metadata": {
        "id": "sk6b70NFMJLE"
      },
      "outputs": [],
      "source": [
        "# prompt: Let't implement the logic for a simple two elecator system (let't call them lift A and LIft b ). The idea is to cloose the right lift depending on the floor from which they are being hailed\n",
        "# The calling floor\n",
        "# the floor in which lift A is at rest or the floor to which it is moving\n",
        "# the floor in which lift B is at rest or the floor to which it is moving\n",
        "\n",
        "# Let's define our variables here:\n",
        "floor_call_X = 2\n",
        "floor_call_Y = 8\n",
        "lift_A = 5\n",
        "lift_B = 7\n",
        "\n",
        "# Logic for choosing the right lift for each calling floor\n",
        "dist_A_X = abs(lift_A - floor_call_X)\n",
        "dist_B_X = abs(lift_B - floor_call_X)\n",
        "\n",
        "dist_A_Y = abs(lift_A - floor_call_Y)\n",
        "dist_B_Y = abs(lift_B - floor_call_Y)\n",
        "\n",
        "print(f\"For floor {floor_call_X}:\")\n",
        "if dist_A_X < dist_B_X:\n",
        "    print('  Lift A is chosen')\n",
        "else:\n",
        "    print('  Lift B is chosen') # This includes the case where the two distances are equal for X\n",
        "\n",
        "print(f\"\\nFor floor {floor_call_Y}:\")\n",
        "if dist_A_Y < dist_B_Y:\n",
        "    print('  Lift A is chosen')\n",
        "else:\n",
        "    print('  Lift B is chosen')  # This includes the case where the two distances are equal for Y"
      ]
    },
    {
      "cell_type": "code",
      "execution_count": null,
      "metadata": {
        "id": "4frL_yd7MJN4"
      },
      "outputs": [],
      "source": [
        "# Prompt: Let's implement the logic for a simple two-elevator system (Lift A and Lift B).\n",
        "# The goal is to choose the closer lift based on the floor where the lift is called.\n",
        "\n",
        "# Calling floors\n",
        "floor_call_X = 2\n",
        "floor_call_Y = 8\n",
        "\n",
        "# Current positions of lifts\n",
        "lift_A = 5\n",
        "lift_B = 5\n",
        "\n",
        "# --- Distance calculation ---\n",
        "# For floor X\n",
        "dist_A_X = abs(lift_A - floor_call_X)\n",
        "dist_B_X = abs(lift_B - floor_call_X)\n",
        "\n",
        "# For floor Y\n",
        "dist_A_Y = abs(lift_A - floor_call_Y)\n",
        "dist_B_Y = abs(lift_B - floor_call_Y)\n",
        "\n",
        "# --- Decision for floor X ---\n",
        "print(f\"For floor {floor_call_X}:\")\n",
        "\n",
        "if dist_A_X < dist_B_X:\n",
        "    print(\"  Lift A is chosen\")\n",
        "elif dist_B_X < dist_A_X:\n",
        "    print(\"  Lift B is chosen\")\n",
        "else:\n",
        "    print(\"  Both lifts are equally distant — Choosing Lift A\")\n",
        "\n",
        "# --- Decision for floor Y ---\n",
        "print(f\"\\nFor floor {floor_call_Y}:\")\n",
        "\n",
        "if dist_A_Y < dist_B_Y:\n",
        "    print(\"  Lift A is chosen\")\n",
        "elif dist_B_Y < dist_A_Y:\n",
        "    print(\"  Lift B is chosen\")\n",
        "else:\n",
        "    print(\"  Both lifts are equally distant — Choosing Lift A\")\n"
      ]
    },
    {
      "cell_type": "code",
      "execution_count": null,
      "metadata": {
        "id": "ZOJHFyAXMJQ5"
      },
      "outputs": [],
      "source": [
        "# input variable\n",
        "floor_call_X = 2\n",
        "floor_call_y = 8\n",
        "lift_A = 5\n",
        "lift_B = 7\n",
        "\n",
        "# lofic for choosing the right lift for the two calling floors\n",
        "dist_AX = abs(lift_A - floor_call_X)\n",
        "dist_BX = abs(lift_B - floor_call_X)\n",
        "dist_AY = abs(lift_A - floor_call_Y)\n",
        "dist_BY = abs(lift_B - floor_call_Y)\n",
        "# Total distance of each lift from each floor in the two possible cases\n",
        "dist_AX_BY = dist_AX + dist_BY  #lift A goes to floor X and lift B goes for floor Y\n",
        "dist_AY_BX = dist_AY + dist_BX # lift A godes to floor Y and lift B goes to floor x\n",
        "\n",
        "if dist_AX_BY < dist_AY_BX: print('lift A is chosen for floor X and lift B is chose for floor Y')\n",
        "else: pirint('Lift B is chosen for floor X and LIft A is chose for Floor Y')  #this includes the case where the two distance are equal"
      ]
    },
    {
      "cell_type": "markdown",
      "metadata": {
        "id": "BlmAA4CbP5wH"
      },
      "source": [
        "------------------------------------------------------------------------------------------------------"
      ]
    },
    {
      "cell_type": "markdown",
      "metadata": {
        "id": "NMtwrqk9P--3"
      },
      "source": [
        "Let's take another example. This time. let's consider the logic for the discount amount at a store\n",
        "\n",
        "\n",
        "1.   if You buy for less than INR 2500, then no discount\n",
        "\n",
        "2.   if You buy for INR 2500 or more. Then 5% discount\n",
        "\n",
        "\n",
        "*   If you buy for INR 5000 or more, THen 10% dicount\n",
        "\n",
        "\n",
        "The only veriable here is the buying amount\n",
        "\n"
      ]
    },
    {
      "cell_type": "code",
      "execution_count": null,
      "metadata": {
        "id": "zk6W4f45P-Hv"
      },
      "outputs": [],
      "source": [
        "amount = 6000\n",
        "if amount < 2500 : print('no discount')\n",
        "else:\n",
        "  if amount< 5000 : print('5% discount')\n",
        "  else : print(' 10% discount')"
      ]
    },
    {
      "cell_type": "markdown",
      "metadata": {
        "id": "ubVBiLGaR4Dq"
      },
      "source": [
        "we can do this using lofice operators as well"
      ]
    },
    {
      "cell_type": "code",
      "execution_count": null,
      "metadata": {
        "id": "wlunzKfMMJT4"
      },
      "outputs": [],
      "source": [
        "amount = 5\n",
        "if amount < 2500 : print('no discount')\n",
        "elif amount >= 2500 and amount < 5000 : print('5 % discount')\n",
        "else: print('10% discount')"
      ]
    },
    {
      "cell_type": "code",
      "execution_count": null,
      "metadata": {
        "id": "vd0rwTyQMJWr"
      },
      "outputs": [],
      "source": [
        "amount = 5000\n",
        "P1 = amount < 2500\n",
        "P2 =  amount >= 2500 and amount < 5000\n",
        "if P1 : print('no discount')\n",
        "elif P2 : print('5 % discount')\n",
        "else: print('10% discount')"
      ]
    },
    {
      "cell_type": "markdown",
      "metadata": {
        "id": "eIQSjO-0eZrF"
      },
      "source": [
        "The match - case statement can be used as an alternative to if - elif - else code . for example condider the following code block\n"
      ]
    },
    {
      "cell_type": "code",
      "execution_count": null,
      "metadata": {
        "id": "faWxE_r7eVh8"
      },
      "outputs": [],
      "source": [
        "code =  int(input())\n",
        "if code == 200:\n",
        "  pirnt('ok')\n",
        "elif code == 404:\n",
        "  print('Not found')\n",
        "elif code == 500:\n",
        "  print('internel server error')\n",
        "else :\n",
        "  print('unknown error')"
      ]
    },
    {
      "cell_type": "code",
      "execution_count": null,
      "metadata": {
        "id": "XuIwY0ceMJZi"
      },
      "outputs": [],
      "source": [
        "# this black of code will accept an HTTP statue code and repley with a message\n",
        "code = int(input())\n",
        "match code:\n",
        "  case 200:\n",
        "    print('ok')\n",
        "  case 404 :\n",
        "    print('not found')\n",
        "# this black of code will accept an HTTP statue code and repley with a message\n",
        "code = int(input())\n",
        "match code:\n",
        "  case 200:\n",
        "    print('ok')\n",
        "  case 404 :\n",
        "    print('not found')\n",
        "  case 500:\n",
        "    print('Internal server error')\n",
        "  case _:  # wildcard which cover all orhter cases\n",
        "    print('unknow error')"
      ]
    },
    {
      "cell_type": "code",
      "execution_count": null,
      "metadata": {
        "id": "3QXhnqFIMJcY"
      },
      "outputs": [],
      "source": [
        "# prompt: 10% discount\n",
        "# The match - case statement can be used as an alternative to if - elif - else code . for example condider the following code block\n",
        "\n",
        "# Calculate 10% discount\n",
        "discount_percentage = 0.10\n",
        "original_price = 100 # Example original price\n",
        "\n",
        "discount_amount = original_price * discount_percentage\n",
        "final_price = original_price - discount_amount\n",
        "\n",
        "print(f\"Original Price: {original_price}\")\n",
        "print(f\"Discount Amount (10%): {discount_amount}\")\n",
        "print(f\"Final Price: {final_price}\")\n"
      ]
    },
    {
      "cell_type": "markdown",
      "metadata": {
        "id": "pEtKUTwdisvR"
      },
      "source": [
        "There are certain where Match case offers a clerner way to do things than if- elif-else. For instance condider the following program\n",
        " which tells us where a point lies on the coordinate axits\n"
      ]
    },
    {
      "cell_type": "code",
      "execution_count": null,
      "metadata": {
        "id": "_M86fQHRMJfR"
      },
      "outputs": [],
      "source": [
        "x = int(input('input x - coordinate ....'))\n",
        "y = int(input('input y + coordinate .....'))\n",
        "if x == 0 and y == 0 :\n",
        "  print('the point lies on the origin')\n",
        "elif x == 0 and y != 0:\n",
        "  print('The point lies on the Y-axis at Y =', y)\n",
        "elif x != 0 and y == 0:\n",
        "  print('The point lies on the Y-axis at Y =', x)\n",
        "else:\n",
        "  print('The point lies at x ' + str(x) + ' and y = ' + str(y))"
      ]
    },
    {
      "cell_type": "code",
      "execution_count": null,
      "metadata": {
        "id": "v0lJDLfOMJiJ"
      },
      "outputs": [],
      "source": [
        "x = int(input('input x - coordinate ....'))\n",
        "y = int(input('input y + coordinate .....'))\n",
        "\n",
        "match x , y :\n",
        "    case 0, 0 :\n",
        "       print('the point lies on the origin')\n",
        "    case 0, y :\n",
        "       print('The point lies on the Y-axis at Y =', y)\n",
        "    case  0 , y:\n",
        "      print('The point lies on the Y-axis at Y =', x)\n",
        "    case _ :\n",
        "      print('The point lies at x ' + str(x) + ' and y = ' + str(y))"
      ]
    },
    {
      "cell_type": "code",
      "execution_count": null,
      "metadata": {
        "id": "FwyDFMeiMJlO"
      },
      "outputs": [],
      "source": [
        "num = int(input('input a number : '))\n",
        "match num :\n",
        "  case x if x == 0 :\n",
        "    print('zero')\n",
        "  case x if x > 0 :\n",
        "    print('positive')\n",
        "  case x if x < 0 :\n",
        "    print('negative')"
      ]
    },
    {
      "cell_type": "markdown",
      "metadata": {
        "id": "eIF0FNHtx_bu"
      },
      "source": [
        "you can use the | operator to specify mulitple accepted match patterns\n"
      ]
    },
    {
      "cell_type": "code",
      "execution_count": null,
      "metadata": {
        "id": "1pwwXpS5MJn5"
      },
      "outputs": [],
      "source": [
        "num = int(input('Enter a number between 2 and 9 ....'))\n",
        "match num:\n",
        "  case 2|3|5|7:\n",
        "    print (' The numvber is prime')\n",
        "  case 4|6|8:\n",
        "    print('The number is not prime')\n",
        "  case _ :\n",
        "    print('not a number or the number is not betweent 2  and  9')"
      ]
    },
    {
      "cell_type": "code",
      "execution_count": null,
      "metadata": {
        "id": "Nqy2WfJuMJq5"
      },
      "outputs": [],
      "source": [
        "x = 0\n",
        "y = 7\n",
        "\n",
        "match x, y:\n",
        "    case 0, 0:\n",
        "        print('The point lies on the origin')\n",
        "    case 0, y:\n",
        "        print('The point lies on the y-axis at y =', y)\n",
        "    case x, 0:\n",
        "        print('The point lies on the x-axis at x =', x)\n",
        "    case _:\n",
        "        print('The point lies at x = ' + str(x) + ' and y = ' + str(y))\n",
        "\n",
        "\n",
        "\n"
      ]
    },
    {
      "cell_type": "markdown",
      "metadata": {
        "id": "P8WMe5K4LQjO"
      },
      "source": [
        "question and answer"
      ]
    },
    {
      "cell_type": "code",
      "execution_count": null,
      "metadata": {
        "id": "zMfOicuoMJt8"
      },
      "outputs": [],
      "source": [
        "#What would the output of the following block of code be?  ACPDS - Python Control Structures - Conditionals - MATCHCASE - question 2\n",
        "\n",
        "value = 7\n",
        "\n",
        "match value:\n",
        "    case 1:\n",
        "        print('The value is 1')\n",
        "    case 2:\n",
        "        print('The value is 2')\n",
        "    case 3:\n",
        "        print('The value is 3')\n",
        "    case _:\n",
        "        print('The value is something else')"
      ]
    },
    {
      "cell_type": "markdown",
      "metadata": {
        "id": "7Ksin_ksOa4c"
      },
      "source": [
        "**loops**\n",
        "\n",
        "---\n",
        "\n",
        "\n",
        "\n",
        "---\n",
        "\n"
      ]
    },
    {
      "cell_type": "markdown",
      "metadata": {
        "id": "TvWY7yPILXDF"
      },
      "source": [
        "\n",
        "State whether the following statement is true or false:\n",
        "\n",
        "“In Python's match-case statement, the case blocks are evaluated in the order they are written, and once a match is found, the remaining cases are skipped.”\n",
        "\n",
        "answer is TRUE"
      ]
    },
    {
      "cell_type": "markdown",
      "metadata": {
        "id": "Q4FDcV1lL0Ol"
      },
      "source": [
        "The power of MATCH-CASE statements would be more evident when used in conjunction with data structures and objects, which you will learn about later.\n",
        "\n",
        "\n",
        "\n",
        "Let's proceed to the next segment, which is a summary of what you learnt in this session on conditionals."
      ]
    },
    {
      "cell_type": "markdown",
      "metadata": {
        "id": "5pqxFzisMa3L"
      },
      "source": [
        "In this session, you first learnt about sequential execution and the importance of being able to modify it to make your code more dynamic. One of the ways in which we can modify sequential execution is by using conditional statements, which were the focus of this session.\n",
        "\n",
        "\n",
        "\n",
        "You then learnt about using conditional logic in conjunction with IF statements to tell your program to execute a certain line or block of code. Next, you learnt about the ability to execute an alternative block if the conditional is not met with the ELSE statement. You also learnt about ELSE-IF statements, which are essentially a combination of ELSE and IF and work if both the previous condition is not met and if the present condition is.\n",
        "\n",
        "\n",
        "\n",
        "In the optional segment, we covered MATCH-CASE statements, used for pattern matching as an alternative to IF-ELSE statements.\n",
        "\n",
        "\n",
        "\n",
        "In the next session, you will learn how to repeat a single block of code using control structures classified as loops.\n"
      ]
    },
    {
      "cell_type": "markdown",
      "metadata": {
        "id": "5ySN221yOTzr"
      },
      "source": [
        "Welcome to the session titled ‘Loops’.\n",
        "\n",
        "\n",
        "\n",
        "Imagine you want to keep running a block of code until the user tells it to stop or iterate through the letters of someone’s name until you get to the end. Pulling off such actions would require a special kind of control structure known as a loop.\n",
        "As you just saw, there are two types of loops:\n",
        "\n",
        "The while loop, which executes while a condition is True\n",
        "The for loop, which executes through an iterable sequence, i.e., a sequence whose members can be processed one at a time\n",
        "\n",
        "\n",
        "Loops are typically the easiest and most intuitive way to introduce automation into your code. We will cover them in detail in this session. In the next segment, we will discuss the while loop in Python.\n",
        "\n",
        "---\n",
        "\n"
      ]
    },
    {
      "cell_type": "markdown",
      "metadata": {
        "id": "VwOe6gqIPvDQ"
      },
      "source": [
        "The while loop is a construct associated with a block of code and a condition. So long as that condition is met, the block of code will keep executing.\n",
        "\n",
        "\n",
        "\n",
        "---\n",
        "\n"
      ]
    },
    {
      "cell_type": "markdown",
      "metadata": {
        "id": "6Mdkb5n4P28y"
      },
      "source": [
        "![d8943b59-963a-4fac-aa8b-91fba65e22c8-A.png](data:image/png;base64,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)"
      ]
    },
    {
      "cell_type": "markdown",
      "metadata": {
        "id": "LPHYEnLQQJ72"
      },
      "source": [
        "while loops\n",
        "\n",
        "\n",
        "---\n",
        "we might want a program to execute multipal times instead of rewriting the same code Loops are one way of actieving this A while loop is a type of loop which will keep executing while it condition evaluted to True.\n"
      ]
    },
    {
      "cell_type": "code",
      "execution_count": null,
      "metadata": {
        "id": "Ibc3UxtRMJww"
      },
      "outputs": [],
      "source": [
        "# while True: print('This will run foreve,) # you can interrupt in goole colab by clicking the stop butter on the call"
      ]
    },
    {
      "cell_type": "code",
      "execution_count": null,
      "metadata": {
        "id": "rMhjmWmMMJz5"
      },
      "outputs": [],
      "source": [
        "while False : print('This will not be printed even once')"
      ]
    },
    {
      "cell_type": "code",
      "execution_count": null,
      "metadata": {
        "id": "vsfTZ_1rMJ2w"
      },
      "outputs": [],
      "source": [
        "#you can better contorl a while loop by using condition and incermenting decrementing integers\n"
      ]
    },
    {
      "cell_type": "code",
      "execution_count": null,
      "metadata": {
        "id": "xVBlxcczHCjE"
      },
      "outputs": [],
      "source": [
        "i = 1\n",
        "while i < 10:\n",
        "  print(i)\n",
        "  i+= 1"
      ]
    },
    {
      "cell_type": "code",
      "execution_count": null,
      "metadata": {
        "id": "uhsAf007HCgU"
      },
      "outputs": [],
      "source": [
        "i = 1\n",
        "while i < 10:\n",
        "  i+=1\n",
        "  print(i)"
      ]
    },
    {
      "cell_type": "code",
      "execution_count": null,
      "metadata": {
        "id": "aZVoBSilHCdW"
      },
      "outputs": [],
      "source": [
        "i = 1\n",
        "while i < 10:\n",
        "  print('#' * i)\n",
        "  i += 1"
      ]
    },
    {
      "cell_type": "code",
      "execution_count": null,
      "metadata": {
        "id": "emRZlRhFHCaf"
      },
      "outputs": [],
      "source": [
        "i = 1\n",
        "while i < 10:\n",
        "  print('#'* i)\n",
        "  i += 1\n",
        "while i > 0:\n",
        "  print('#' * i)\n",
        "  i -= 1"
      ]
    },
    {
      "cell_type": "markdown",
      "metadata": {
        "id": "pIaZZMfcVoxp"
      },
      "source": [
        "A while loop in Python will always execute at least once, even if the condition is initially False.”\n",
        "\n",
        "answer is false\n",
        "\n",
        "Correct! In Python, a while loop only executes the body of the loop if the condition is True at the start. If the condition is False from the very beginning, the loop will not execute at all."
      ]
    },
    {
      "cell_type": "markdown",
      "metadata": {
        "id": "-1lOZ8qRWtml"
      },
      "source": []
    },
    {
      "cell_type": "code",
      "execution_count": null,
      "metadata": {
        "id": "KLLARuqhHCXo"
      },
      "outputs": [],
      "source": [
        "#Consider the following block of code:\n",
        "#i = 5\n",
        "#while i > ___:\n",
        "   # print(i * '^')\n",
        "   # i -= 1\n",
        "\n",
        "\n",
        "#What would you fill in the blank to get the following output? ACPDS - Python Control Structures - Loops - WHILE - question 2\n",
        "\n",
        "#^^^^^\n",
        "#^^^^\n",
        "#^^^\n",
        "i = 5\n",
        "while i > 2:\n",
        "    print(i * '^')\n",
        "    i -= 1\n",
        "# answer is ---\n",
        " 2"
      ]
    },
    {
      "cell_type": "markdown",
      "metadata": {
        "id": "iOzCboWDXEqu"
      },
      "source": [
        "\n",
        "\n",
        "---\n",
        "\n",
        "\n",
        "\n",
        "---\n",
        "\n"
      ]
    },
    {
      "cell_type": "markdown",
      "metadata": {
        "id": "C5IH7x_MalQL"
      },
      "source": []
    },
    {
      "cell_type": "code",
      "execution_count": null,
      "metadata": {
        "id": "c-QFfoWTHCUt"
      },
      "outputs": [],
      "source": [
        "#One can also manipulate a loop using jump statements. Two common jump statements are as follows:\n",
        "\n",
        "#The break statement, which will prematurely terminate a loop\n",
        "#The continue statement, which will end the present iteration of a loop and proceed onto the next"
      ]
    },
    {
      "cell_type": "markdown",
      "metadata": {
        "id": "KasrR08LavBd"
      },
      "source": [
        "jump statement control the flow of a program by jumping to different part of the code A continue will skip the remaining code in the current iteration of the loop"
      ]
    },
    {
      "cell_type": "code",
      "execution_count": null,
      "metadata": {
        "id": "Pn-ZS3DsHCRt"
      },
      "outputs": [],
      "source": [
        "i = 5\n",
        "\n",
        "while i < 10:\n",
        "  i += 1  # i = i + 1 answer is\n",
        "  print(i)\n",
        "  continue\n",
        "  print('I will not be printed')"
      ]
    },
    {
      "cell_type": "code",
      "execution_count": null,
      "metadata": {
        "id": "pflc2BsCHCOw"
      },
      "outputs": [],
      "source": [
        "i = 4\n",
        "while i < 10:\n",
        "  i += 1\n",
        "  if i % 2 == 0: continue\n",
        "  print(i) # this statemnt will be skipped during itertiong where continue is executed"
      ]
    },
    {
      "cell_type": "code",
      "execution_count": null,
      "metadata": {
        "id": "Esb3-noeHCL2"
      },
      "outputs": [],
      "source": [
        "## this code will run forever\n",
        "#i = 0\n",
        "#while 1 < 10:\n",
        "  #if i % 2==0 : continue\n",
        "  #print(i)\n",
        "  #i += 1"
      ]
    },
    {
      "cell_type": "code",
      "execution_count": null,
      "metadata": {
        "id": "ZGH7TQLsHCI_"
      },
      "outputs": [],
      "source": [
        "#a bracK statement will terminate the loop entirely skipping all future iteration"
      ]
    },
    {
      "cell_type": "code",
      "execution_count": null,
      "metadata": {
        "id": "cibCuf1JHCGF"
      },
      "outputs": [],
      "source": [
        "i = 0\n",
        "while i < 10:\n",
        "  i += 1\n",
        "  if i == 7 : break\n",
        "  print(i)"
      ]
    },
    {
      "cell_type": "markdown",
      "metadata": {
        "id": "7Q_UKsvQ-R2p"
      },
      "source": [
        "Imagine we have a parking garage, where drivers can park their car for a fee that is charged per hour. They can leave the garage whenever they want, but they need to leave the garage if their balance runs out. However, they may choose to top up their balance if the happens. How can we implement this logic using a while loop?"
      ]
    },
    {
      "cell_type": "markdown",
      "metadata": {
        "id": "t_U7tD02-KAZ"
      },
      "source": [
        "\n",
        "\n",
        "---\n",
        "\n",
        "\n",
        "\n",
        "---\n",
        "\n",
        "\n",
        "\n",
        "---\n",
        "\n"
      ]
    },
    {
      "cell_type": "code",
      "execution_count": null,
      "metadata": {
        "id": "IEMqxMpWHCDG"
      },
      "outputs": [],
      "source": [
        "balance = int(input('Please enter your balance in rupees: '))\n",
        "hourly_rate = 100  # hourly parking fee in rupees\n",
        "hours_parked = 0   # to track the total hours parked\n",
        "\n",
        "print('\\nWelcome to the Pritesh Parking Garage! You will be billed ₹100 per hour.')\n",
        "\n",
        "# loop runs as long as the driver has enough balance\n",
        "while balance >= hourly_rate:\n",
        "    # Deduct the hourly rate from the balance\n",
        "    balance -= hourly_rate\n",
        "    hours_parked += 1\n",
        "\n",
        "    print(f'\\nHour {hours_parked} completed')\n",
        "    print('₹100 deducted')\n",
        "    print('Remaining balance: ₹' + str(balance))\n",
        "\n",
        "    # Check if there's enough balance for another hour\n",
        "    if balance < hourly_rate:\n",
        "        print('\\n⚠️ Warning: Insufficient funds for another hour.')\n",
        "        add_balance = input('Enter \"yes\" to add funds or \"no\" to exit: ').lower()\n",
        "\n",
        "        if add_balance == 'yes':\n",
        "            amount_to_add = int(input('Please enter the amount to add in rupees: '))\n",
        "            balance += amount_to_add\n",
        "            print('✅ Balance added successfully. New balance: ₹' + str(balance))\n",
        "        else:\n",
        "            print('\\nYou need to exit the garage or risk your vehicle being impounded.')\n",
        "            break\n",
        "\n",
        "    # Ask the driver if they want to stay another hour\n",
        "    stay = input('Do you want to stay parked for another hour? (yes / no): ').lower()\n",
        "    if stay != 'yes':\n",
        "        print('\\nYou have chosen to leave the garage.')\n",
        "        break\n",
        "\n",
        "# Final summary after the loop ends\n",
        "print('\\n----- Parking Session Ended -----')\n",
        "print('Total hours parked:', hours_parked)\n",
        "print('Remaining balance: ₹' + str(balance))\n",
        "print('Thank you for using the UpGrad Parking Garage!')\n"
      ]
    },
    {
      "cell_type": "markdown",
      "metadata": {
        "id": "4q9GHEDfJbW-"
      },
      "source": []
    },
    {
      "cell_type": "markdown",
      "metadata": {
        "id": "Zk6W0MUNvMd2"
      },
      "source": [
        "balance = int(input('Please enter your balance in rupees: '))\n",
        "hourly_rate = 100  # hourly parking fee in rupees\n",
        "hours_parked = 0   # to track the total hours parked\n",
        "\n",
        "print('\\nWelcome to the Pritesh Parking Garage! You will be billed ₹100 per hour.')\n",
        "\n",
        "# loop runs as long as the driver has enough balance\n",
        "while balance >= hourly_rate:\n",
        "    # Deduct the hourly rate from the balance\n",
        "    balance -= hourly_rate\n",
        "    hours_parked += 1\n",
        "\n",
        "    print(f'\\nHour {hours_parked} completed')\n",
        "    print('₹100 deducted')\n",
        "    print('Remaining balance: ₹' + str(balance))\n",
        "\n",
        "    # Check if there's enough balance for another hour\n",
        "    if balance < hourly_rate:\n",
        "        print('\\n⚠️ Warning: Insufficient funds for another hour.')\n",
        "        add_balance = input('Enter \"yes\" to add funds or \"no\" to exit: ').lower()\n",
        "\n",
        "        if add_balance == 'yes':\n",
        "            amount_to_add = int(input('Please enter the amount to add in rupees: '))\n",
        "            balance += amount_to_add\n",
        "            print('✅ Balance added successfully. New balance: ₹' + str(balance))\n",
        "        else:\n",
        "            print('\\nYou need to exit the garage or risk your vehicle being impounded.')\n",
        "            break\n",
        "\n",
        "    # Ask the driver if they want to stay another hour\n",
        "    stay = input('Do you want to stay parked for another hour? (yes / no): ').lower()\n",
        "    if stay != 'yes':\n",
        "        print('\\nYou have chosen to leave the garage.')\n",
        "        break\n",
        "\n",
        "# Final summary after the loop ends\n",
        "print('\\n----- Parking Session Ended -----')\n",
        "print('Total hours parked:', hours_parked)\n",
        "print('Remaining balance: ₹' + str(balance))\n",
        "print('Thank you for using the UpGrad Parking Garage!')\n"
      ]
    },
    {
      "cell_type": "code",
      "execution_count": null,
      "metadata": {
        "id": "QBlEbH7aHCAH"
      },
      "outputs": [],
      "source": [
        "# prompt: Imagine we have a parking garage, where drivers can park their car for a fee that is charged per hour. They can leave the garage whenever they want, but they need to leave the garage if their balance runs out. However, they may choose to top up their balance if the happens. How can we implement this logic using a while loop?\n",
        "\n",
        "balance = int(input('Please enter your balance in rupees: '))\n",
        "hourly_rate = 100  # hourly parking fee in rupees\n",
        "hours_parked = 0   # to track the total hours parked\n",
        "\n",
        "print('\\nWelcome to the Pritesh Parking Garage! You will be billed ₹100 per hour.')\n",
        "\n",
        "# loop runs as long as the driver has enough balance or chooses to stay after topping up\n",
        "while balance >= hourly_rate:\n",
        "    # Deduct the hourly rate from the balance\n",
        "    balance -= hourly_rate\n",
        "    hours_parked += 1\n",
        "\n",
        "    print(f'\\nHour {hours_parked} completed')\n",
        "    print('₹100 deducted')\n",
        "    print('Remaining balance: ₹' + str(balance))\n",
        "\n",
        "    # Check if there's enough balance for another hour\n",
        "    if balance < hourly_rate:\n",
        "        print('\\n⚠️ Warning: Insufficient funds for another hour.')\n",
        "        add_balance = input('Enter \"yes\" to add funds or \"no\" to exit: ').lower()\n",
        "\n",
        "        if add_balance == 'yes':\n",
        "            amount_to_add = int(input('Please enter the amount to add in rupees: '))\n",
        "            balance += amount_to_add\n",
        "            print('✅ Balance added successfully. New balance: ₹' + str(balance))\n",
        "            # If balance is still not enough after topping up, the loop condition will handle the exit\n",
        "            if balance < hourly_rate:\n",
        "                 print('\\nStill insufficient funds for another hour. You must exit.')\n",
        "                 break # Exit if balance is still not enough\n",
        "        else:\n",
        "            print('\\nYou need to exit the garage.')\n",
        "            break\n",
        "\n",
        "    # Ask the driver if they want to stay another hour (only if they have enough balance or just topped up)\n",
        "    if balance >= hourly_rate:\n",
        "        stay = input('Do you want to stay parked for another hour? (yes / no): ').lower()\n",
        "        if stay != 'yes':\n",
        "            print('\\nYou have chosen to leave the garage.')\n",
        "            break\n",
        "\n",
        "# Final summary after the loop ends\n",
        "print('\\n----- Parking Session Ended -----')\n",
        "print('Total hours parked:', hours_parked)\n",
        "print('Remaining balance: ₹' + str(balance))\n",
        "print('Thank you for using the Pritesh Parking Garage!')\n"
      ]
    },
    {
      "cell_type": "code",
      "execution_count": null,
      "metadata": {
        "id": "5chowvy-HB6V"
      },
      "outputs": [],
      "source": [
        "import tkinter as tk\n",
        "from tkinter import messagebox\n",
        "# We also need simpledialog for the add balance prompt, so import it\n",
        "from tkinter import simpledialog\n",
        "\n",
        "class ParkingGarage:\n",
        "    def __init__(self, root):\n",
        "        self.root = root\n",
        "        self.root.title(\"Pritesh Parking Garage\")\n",
        "        self.hourly_rate = 100\n",
        "        self.balance = 0\n",
        "        self.hours_parked = 0\n",
        "\n",
        "        # UI Elements\n",
        "        self.label = tk.Label(root, text=\"Enter your balance (₹):\")\n",
        "        self.label.pack()\n",
        "\n",
        "        self.entry = tk.Entry(root)\n",
        "        self.entry.pack()\n",
        "\n",
        "        self.start_button = tk.Button(root, text=\"Start Parking\", command=self.start_parking)\n",
        "        self.start_button.pack()\n",
        "\n",
        "        self.info = tk.Label(root, text=\"\", fg=\"blue\")\n",
        "        self.info.pack()\n",
        "\n",
        "        self.continue_button = tk.Button(root, text=\"Stay Another Hour\", command=self.park_hour, state=tk.DISABLED)\n",
        "        self.continue_button.pack()\n",
        "\n",
        "        self.leave_button = tk.Button(root, text=\"Leave Garage\", command=self.end_session, state=tk.DISABLED)\n",
        "        self.leave_button.pack()\n",
        "\n",
        "    def start_parking(self):\n",
        "        try:\n",
        "            # Ensure the input is an integer\n",
        "            initial_balance = int(self.entry.get())\n",
        "            if initial_balance < 0:\n",
        "                 messagebox.showwarning(\"Invalid Input\", \"Balance cannot be negative.\")\n",
        "                 return\n",
        "\n",
        "            self.balance = initial_balance\n",
        "            if self.balance < self.hourly_rate:\n",
        "                messagebox.showwarning(\"Insufficient Balance\", \"You need at least ₹100 to start parking.\")\n",
        "                return\n",
        "\n",
        "            self.entry.config(state='disabled')\n",
        "            self.start_button.config(state='disabled')\n",
        "\n",
        "            # Start the first hour immediately if balance is sufficient\n",
        "            self.park_hour()\n",
        "\n",
        "        except ValueError:\n",
        "            messagebox.showerror(\"Invalid Input\", \"Please enter a valid number.\")\n",
        "\n",
        "    def park_hour(self):\n",
        "        if self.balance >= self.hourly_rate:\n",
        "            self.balance -= self.hourly_rate\n",
        "            self.hours_parked += 1\n",
        "            self.info.config(text=f\"✅ Hour {self.hours_parked} complete.\\n₹100 deducted.\\nRemaining Balance: ₹{self.balance}\")\n",
        "            # Enable buttons after the first hour is parked\n",
        "            self.continue_button.config(state=tk.NORMAL)\n",
        "            self.leave_button.config(state=tk.NORMAL)\n",
        "        else:\n",
        "            self.ask_add_balance()\n",
        "\n",
        "    def ask_add_balance(self):\n",
        "        # Disable buttons while asking for balance\n",
        "        self.continue_button.config(state=tk.DISABLED)\n",
        "        self.leave_button.config(state=tk.DISABLED)\n",
        "\n",
        "        add = messagebox.askyesno(\"Low Balance\", \"Insufficient balance. Do you want to add more?\")\n",
        "        if add:\n",
        "            # Use simpledialog to get integer input for adding balance\n",
        "            amount = simpledialog.askinteger(\"Add Balance\", \"Enter amount to add (₹):\", parent=self.root)\n",
        "            if amount is not None and amount > 0: # Check if a valid amount was entered\n",
        "                self.balance += amount\n",
        "                # Re-evaluate if enough balance after adding\n",
        "                if self.balance >= self.hourly_rate:\n",
        "                    self.park_hour() # Try parking the hour again with new balance\n",
        "                else:\n",
        "                    messagebox.showinfo(\"Still Low Balance\", \"Balance still insufficient after topping up. Please exit.\")\n",
        "                    self.end_session() # End session if still not enough\n",
        "            else:\n",
        "                 messagebox.showwarning(\"Invalid Amount\", \"Please enter a valid positive amount.\")\n",
        "                 self.end_session() # End session if invalid amount entered\n",
        "        else:\n",
        "            self.end_session()\n",
        "\n",
        "    def end_session(self):\n",
        "        summary = f\"\"\"\n",
        "        ----- Parking Session Ended -----\n",
        "        Total hours parked: {self.hours_parked}\n",
        "        Remaining balance: ₹{self.balance}\n",
        "        Thank you for using the Pritesh Parking Garage!\n",
        "        \"\"\"\n",
        "        messagebox.showinfo(\"Receipt\", summary)\n",
        "        self.root.quit()\n",
        "\n",
        "\n",
        "# Run the GUI\n",
        "if __name__ == \"__main__\": # Good practice to run GUI in the main block\n",
        "    root = tk.Tk()\n",
        "    app = ParkingGarage(root)\n",
        "    root.mainloop()"
      ]
    },
    {
      "cell_type": "code",
      "execution_count": null,
      "metadata": {
        "id": "D2_QVb5NHB3m"
      },
      "outputs": [],
      "source": [
        "def parking_garage():\n",
        "    print(\"🚗 Welcome to the Pritesh Parking Garage!\")\n",
        "    print(\"Hourly parking rate: ₹100\")\n",
        "\n",
        "    try:\n",
        "        balance = int(input(\"Please enter your balance in rupees: \"))\n",
        "    except ValueError:\n",
        "        print(\"❌ Invalid input. Please enter a number.\")\n",
        "        return\n",
        "\n",
        "    hourly_rate = 100\n",
        "    hours_parked = 0\n",
        "\n",
        "    while balance >= hourly_rate:\n",
        "        # Deduct hourly charge\n",
        "        balance -= hourly_rate\n",
        "        hours_parked += 1\n",
        "\n",
        "        print(f\"\\n✅ Hour {hours_parked} completed.\")\n",
        "        print(f\"₹{hourly_rate} deducted. Remaining balance: ₹{balance}\")\n",
        "\n",
        "        if balance < hourly_rate:\n",
        "            print(\"\\n⚠️ You don’t have enough balance for another hour.\")\n",
        "            add_funds = input(\"Do you want to add more balance? (yes/no): \").strip().lower()\n",
        "            if add_funds == 'yes':\n",
        "                try:\n",
        "                    top_up = int(input(\"Enter amount to add: ₹\"))\n",
        "                    balance += top_up\n",
        "                    print(f\"✅ ₹{top_up} added. New balance: ₹{balance}\")\n",
        "                except ValueError:\n",
        "                    print(\"❌ Invalid amount entered. Exiting garage.\")\n",
        "                    break\n",
        "            else:\n",
        "                print(\"❌ Not adding balance. Ending session.\")\n",
        "                break\n",
        "\n",
        "        stay = input(\"Do you want to stay for another hour? (yes/no): \").strip().lower()\n",
        "        if stay != 'yes':\n",
        "            print(\"👋 You have chosen to leave the garage.\")\n",
        "            break\n",
        "\n",
        "    # Final Receipt\n",
        "    print(\"\\n🧾 --- Parking Receipt ---\")\n",
        "    print(f\"Total hours parked: {hours_parked}\")\n",
        "    print(f\"Final balance: ₹{balance}\")\n",
        "    print(\"Thank you for using the Pritesh Parking Garage!\")\n",
        "\n",
        "# Run the program\n",
        "parking_garage()\n"
      ]
    },
    {
      "cell_type": "code",
      "execution_count": null,
      "metadata": {
        "id": "TJm6WFQxHB00"
      },
      "outputs": [],
      "source": [
        "balance = int(input('Please enter your balance in rupees: '))\n",
        "hourly_rate = 100  # hourly parking fee in rupees\n",
        "hours_parked = 0   # to track the total hours parked\n",
        "\n",
        "print('\\nWelcome to the Pritesh Parking Garage! You will be billed ₹100 per hour.')\n",
        "\n",
        "# loop runs as long as the driver has enough balance\n",
        "while balance >= hourly_rate:\n",
        "    # Deduct the hourly rate from the balance\n",
        "    balance -= hourly_rate\n",
        "    hours_parked += 1\n",
        "\n",
        "    print(f'\\nHour {hours_parked} completed')\n",
        "    print('₹100 deducted')\n",
        "    print('Remaining balance: ₹' + str(balance))\n",
        "\n",
        "    # Check if there's enough balance for another hour\n",
        "    if balance < hourly_rate:\n",
        "        print('\\n⚠️ Warning: Insufficient funds for another hour.')\n",
        "        add_balance = input('Enter \"yes\" to add funds or \"no\" to exit: ').lower()\n",
        "\n",
        "        if add_balance == 'yes':\n",
        "            amount_to_add = int(input('Please enter the amount to add in rupees: '))\n",
        "            balance += amount_to_add\n",
        "            print('✅ Balance added successfully. New balance: ₹' + str(balance))\n",
        "        else:\n",
        "            print('\\nYou need to exit the garage or risk your vehicle being impounded.')\n",
        "            break\n",
        "\n",
        "    # Ask the driver if they want to stay another hour\n",
        "    stay = input('Do you want to stay parked for another hour? (yes / no): ').lower()\n",
        "    if stay != 'yes':\n",
        "        print('\\nYou have chosen to leave the garage.')\n",
        "        break\n",
        "\n",
        "# Final summary after the loop ends\n",
        "print('\\n----- Parking Session Ended -----')\n",
        "print('Total hours parked:', hours_parked)\n",
        "print('Remaining balance: ₹' + str(balance))\n",
        "print('Thank you for using the UpGrad Parking Garage!')\n"
      ]
    },
    {
      "cell_type": "code",
      "execution_count": null,
      "metadata": {
        "id": "e1U0WOXwHg5s"
      },
      "outputs": [],
      "source": [
        "print('Remaining balance: ₹' + str(balance))"
      ]
    },
    {
      "cell_type": "code",
      "execution_count": null,
      "metadata": {
        "id": "5erWQVqgHhDb"
      },
      "outputs": [],
      "source": [
        "#What would the output of the following block of code be?\n",
        "\n",
        "my_str = '12345678'\n",
        "x = '1'\n",
        "\n",
        "while x in my_str:\n",
        "    print(x)\n",
        "    x += str(int(x) + 1)"
      ]
    },
    {
      "cell_type": "markdown",
      "metadata": {
        "id": "4w85ZsUjUgJR"
      },
      "source": [
        "As we saw earlier, the while loop is great when you want a program to run until it meets a condition. Often, this condition may be a change in the user’s input or when an iterator meets a criterion. If you wanted to iterate over a sequence of items, such as through the letters in a string, you might prefer a for loop instead. The next segment will introduce you to this type of loop.The for loop is a construct associated with a block of code and an iterable sequence. Starting at the beginning of the sequence, the for loop iterates until it reaches the end. The following image illustrates this:Sequences in Python include several data structures, which we will cover in the next module. We have already encountered one of these: the string. We can also generate a sequence of numbers using the range() function."
      ]
    },
    {
      "cell_type": "code",
      "execution_count": null,
      "metadata": {
        "id": "ka--nUW6HhGT"
      },
      "outputs": [],
      "source": [
        "# we can generate an iterale sequence of numbers using the range() function\n",
        "range(1,10) # starts at 1 (included) and ends at 10 (excluded): Thus , it goes from 1 to 9"
      ]
    },
    {
      "cell_type": "code",
      "execution_count": null,
      "metadata": {
        "id": "LG44f_fwHhJD"
      },
      "outputs": [],
      "source": [
        "type(range(1,10))"
      ]
    },
    {
      "cell_type": "code",
      "execution_count": null,
      "metadata": {
        "id": "Zu1EJ9QmHhLs"
      },
      "outputs": [],
      "source": [
        "# A for loop is specially designed to loop through iter"
      ]
    },
    {
      "cell_type": "code",
      "execution_count": null,
      "metadata": {
        "id": "6IDy4VB6HhQt"
      },
      "outputs": [],
      "source": [
        "for i in range(1,10): print(i) # i travels through all the elements of the range object in this loop"
      ]
    },
    {
      "cell_type": "markdown",
      "metadata": {
        "id": "g82BdI44e1nK"
      },
      "source": [
        "the range() function also has an option to select the step siZe\n"
      ]
    },
    {
      "cell_type": "code",
      "execution_count": null,
      "metadata": {
        "id": "r6f4PoNYHhTD"
      },
      "outputs": [],
      "source": [
        "for i in range(1,10,2): # step size is 2 i,e prints every second element\n",
        "      print(i)"
      ]
    },
    {
      "cell_type": "code",
      "execution_count": null,
      "metadata": {
        "id": "9eOXWDsHHhVb"
      },
      "outputs": [],
      "source": [
        "for i in range(1, 15) : print(\"ha\"*i)"
      ]
    },
    {
      "cell_type": "code",
      "execution_count": null,
      "metadata": {
        "id": "2A8nWXKBHhYM"
      },
      "outputs": [],
      "source": [
        "for ch in \"hello world!\" :\n",
        "  print(ch)"
      ]
    },
    {
      "cell_type": "markdown",
      "metadata": {
        "id": "Rn4PfWrif7NB"
      },
      "source": [
        "we can use jump statement in for loops\n"
      ]
    },
    {
      "cell_type": "code",
      "execution_count": null,
      "metadata": {
        "id": "ZdJPERH6f6cp"
      },
      "outputs": [],
      "source": [
        "# this code stops executing when 3. \"l\"s are counted: it skips printing \"ls\n"
      ]
    },
    {
      "cell_type": "code",
      "execution_count": null,
      "metadata": {
        "id": "1cigajFoHha0"
      },
      "outputs": [],
      "source": [
        "l_counter = 0\n",
        "for ch in 'hello world!'  :\n",
        "  if l_counter == 3 : break\n",
        "  if ch == \"l\":\n",
        "    l_counter += 1\n",
        "    continue\n",
        "    print(ch)"
      ]
    },
    {
      "cell_type": "code",
      "execution_count": null,
      "metadata": {
        "id": "MOh_o94uHhd8"
      },
      "outputs": [],
      "source": [
        "l_counter = 0  # to count how many 'l's have appeared\n",
        "\n",
        "for ch in 'hello world!':\n",
        "    if l_counter == 3:\n",
        "        break  # stop loop after 3 'l's\n",
        "\n",
        "    if ch == \"l\":\n",
        "        l_counter += 1\n",
        "        continue  # skip printing 'l'\n",
        "\n",
        "    print(ch)  # print all characters except the first 3 'l's\n"
      ]
    },
    {
      "cell_type": "markdown",
      "metadata": {
        "id": "mF3sIzgZr4BN"
      },
      "source": [
        "Loops can be nested while working with multi-dimensional data or when working with combinations of items.\n",
        "\n",
        "\n",
        "---\n",
        "\n",
        "\n",
        "---\n",
        "\n"
      ]
    },
    {
      "cell_type": "markdown",
      "metadata": {
        "id": "e3lFEqiTsD2_"
      },
      "source": [
        "loops can be nested if you want to perform an operation repratedly within another operation that is also repration itself let's try to make a multiplication table using some nested while loops\n"
      ]
    },
    {
      "cell_type": "code",
      "execution_count": null,
      "metadata": {
        "id": "tDkFrzrcHhg7"
      },
      "outputs": [],
      "source": [
        "rows = 6\n",
        "colums = 6\n",
        "\n",
        "i = 1\n",
        "while i <= rows:\n",
        "  j = 1\n",
        "  while j <= colums :\n",
        "    print(str(i * j), end = ' ') # setting the end parameter this way introduces a space at the end instead of a new line\n",
        "    j += 1\n",
        "    print() # will print nothing but introduce a new line\n",
        "    i += 1"
      ]
    },
    {
      "cell_type": "markdown",
      "metadata": {
        "id": "nBu3wG48uHgC"
      },
      "source": [
        "the same can be achieved with a nested for loop"
      ]
    },
    {
      "cell_type": "code",
      "execution_count": null,
      "metadata": {
        "id": "nwDqHGtQHhj0"
      },
      "outputs": [],
      "source": [
        "\n",
        "\n",
        "rows = 6\n",
        "columns  = 6\n",
        "\n",
        "for i in range(1,rows+ 1):\n",
        "     for j in range(1, columns + 1):\n",
        "      print(str(i * j), end = ' ') # setting the end parameter this was introduces a space at the end instead of a new line\n",
        "     print()   # will print nothing but introduce a new line"
      ]
    },
    {
      "cell_type": "code",
      "execution_count": null,
      "metadata": {
        "id": "AqCfiRaBHhm8"
      },
      "outputs": [],
      "source": [
        "rows = 10\n",
        "columns = 10\n",
        "\n",
        "for i in range(1, rows + 1):\n",
        "    for j in range(1, columns + 1):\n",
        "        print(str(i * j).rjust(4), end=' ')  # right-align each number with padding\n",
        "    print()\n"
      ]
    },
    {
      "cell_type": "code",
      "execution_count": null,
      "metadata": {
        "id": "ir9JSu2iHhp9"
      },
      "outputs": [],
      "source": [
        "row = 10\n",
        "for i in range(1, row + 1):\n",
        "   print(str(i).rjust(5), end=' ')  # right-align each number with padding\n",
        "\n"
      ]
    },
    {
      "cell_type": "code",
      "execution_count": null,
      "metadata": {
        "id": "nWJRnzN2HhtF"
      },
      "outputs": [],
      "source": [
        "row = 20\n",
        "colums = 20\n",
        "for A in range(1, row + 1):\n",
        "    for B in range(1, colums + 1):\n",
        "        print(str(A * B).rjust(4), end=\" \")\n",
        "    print ()"
      ]
    },
    {
      "cell_type": "code",
      "execution_count": null,
      "metadata": {
        "id": "X6EapI3ZHhwE"
      },
      "outputs": [],
      "source": [
        "# sudarshanan will now print out some simple patterns using nested for loops,\n"
      ]
    },
    {
      "cell_type": "code",
      "execution_count": null,
      "metadata": {
        "id": "U-7fiFXyHhzd"
      },
      "outputs": [],
      "source": [
        "#let's print and display a simple number triangle"
      ]
    },
    {
      "cell_type": "code",
      "execution_count": null,
      "metadata": {
        "id": "o3NN9L1KHh2t"
      },
      "outputs": [],
      "source": [
        "n = 5 # number of rows\n",
        "\n",
        "for i in range(1, (n +1)+4):\n",
        "  print()\n",
        "  for j in range(1,   n+ 1):\n",
        "    print(j, end = 'Y ')\n",
        "  print(\"pritesh\")"
      ]
    },
    {
      "cell_type": "code",
      "execution_count": null,
      "metadata": {
        "id": "jnOEId6ZHh50"
      },
      "outputs": [],
      "source": [
        "print(j)"
      ]
    },
    {
      "cell_type": "code",
      "execution_count": null,
      "metadata": {
        "id": "LtDbYoUKHh89"
      },
      "outputs": [],
      "source": [
        "#what will the code below print?"
      ]
    },
    {
      "cell_type": "code",
      "execution_count": null,
      "metadata": {
        "id": "oPOuBb0xHiAN"
      },
      "outputs": [],
      "source": [
        "n = 5\n",
        "for i in range (1, n + 1 ):\n",
        "  for j in range(n - i ) : print(' ',  end = '')\n",
        "  for k in range(2 * i - 1 ) : print('#' , end = '')\n",
        "print()"
      ]
    },
    {
      "cell_type": "code",
      "execution_count": null,
      "metadata": {
        "id": "9t3mEO7jHiDe"
      },
      "outputs": [],
      "source": [
        "print(i)"
      ]
    },
    {
      "cell_type": "code",
      "execution_count": null,
      "metadata": {
        "id": "j5HvJUOpHiG1"
      },
      "outputs": [],
      "source": [
        "n = 5\n",
        "for i in range(1 , n + 1):\n",
        "    for j in range(n -i ): print(' ', end = '')\n",
        "    for k in range(2 * i - 1): print('#', end = ' ')\n",
        "    print()"
      ]
    },
    {
      "cell_type": "markdown",
      "metadata": {
        "id": "eqPKorUdSZSJ"
      },
      "source": [
        "We have a networking event where we would like every participant to spend time with every other participant with on repeats, how can we program this ?"
      ]
    },
    {
      "cell_type": "code",
      "execution_count": null,
      "metadata": {
        "id": "gNc9F74bHiKj"
      },
      "outputs": [],
      "source": [
        "num_attendees = 4\n",
        "# Outer loop iterates over each attendee number\n",
        "for i in range(1, num_attendees + 1):\n",
        "  # inner loop pair the current attendee with every subsequent attendee\n",
        "  for j in range(i + 1, num_attendees + 1):\n",
        "    print(\"Participant\", i , \"is paired with participant\", j)"
      ]
    },
    {
      "cell_type": "code",
      "execution_count": null,
      "metadata": {
        "id": "AZgtIGbGHiM8"
      },
      "outputs": [],
      "source": [
        "for i in range(2):\n",
        "    for j in range(3):\n",
        "        print('i =', i, 'j =', j)"
      ]
    },
    {
      "cell_type": "code",
      "execution_count": null,
      "metadata": {
        "id": "uhOGDLD2HBx4"
      },
      "outputs": [],
      "source": [
        "tmp = ''\n",
        "while True:\n",
        "    if tmp == 'hhh':\n",
        "        break\n",
        "    for ch in 'Python':\n",
        "        if ch == 'h':\n",
        "            tmp += ch\n",
        "    print(tmp)\n",
        "\n"
      ]
    },
    {
      "cell_type": "markdown",
      "metadata": {
        "id": "mmIi_iGKUDpZ"
      },
      "source": [
        "\n",
        "\n",
        "\n",
        "\n",
        "---\n",
        "\n",
        "\n",
        "\n",
        "---\n",
        "\n",
        "\n",
        "---\n",
        "\n",
        "\n",
        "In this session, we first discoussed the while loop, a block of code that keeps executing as long as a condition is met. This kind of loop has a lot of uses, such as in loops requiring user input, loops that wait for certain events, or loops that monitor conditions.\n",
        "\n",
        "\n",
        "---\n",
        "\n",
        "we then covered the for loop, which is a block of code that keeps execting while the loop iterator iterates over an iterable sequence, such as a sting or the output of the range() function. This kind of loop is useful when you know in advance how long you would like your code to run and is used frequently alongside other data structures.\n",
        "\n",
        "\n",
        "---\n",
        "we also covered nested loops, which are a way to place loops within other loops, These are valable for multi- dimensional iteration.\n",
        "\n",
        "\n",
        "---\n",
        "\n",
        "With loops in your toolkit, you already know how to automate you code significantly and have moved into a territory in which computers operate more efficiently than humans for instance you may ask a loop to print a statement 10000 times which would be very diffcult to type out manually.\n",
        "\n",
        "\n",
        "---\n",
        "now , we can move on to functions, the final kind of control structure we will cover in this module. This word may sound familias to you, as you have already encountered several on your journery thus for. These are in built functions in python, however, there are in built functions in python, however there are ways in which you can make your own funcions! Find out more in the next session!...\n",
        "\n",
        "\n",
        "\n",
        "---\n",
        "\n",
        "\n",
        "\n",
        "---\n",
        "\n",
        "\n",
        "---\n",
        "\n",
        "\n",
        "\n",
        "\n",
        "\n"
      ]
    },
    {
      "cell_type": "markdown",
      "metadata": {
        "id": "i_Ly3zpIfhdS"
      },
      "source": [
        "Built-in functions are functions that have been made by Python’s developers and are freely available for use to anyone once they install Python. Many of these functions have been written in C rather than Python and tend to be more optimised as a result.\n",
        "\n",
        "\n",
        "\n",
        "---\n",
        "\n",
        "\n",
        "\n",
        "We could ask a large language model (LLM) why this is the case:\n",
        "\n",
        "---\n",
        "\n",
        "Ask an LLM of your choice to explain why built-in functions in Python tend to be more optimised than user-defined ones.\n",
        "\n",
        "---\n",
        "\n",
        "We have already covered the input() and print() functions; the input() function allows the user to provide an input and allows you to specify a prompt to guide them in doing so. The input() function always returns a string output, therefore, one may need to typecast the output to use it correctly. You can read more about the input() function here.\n",
        "\n",
        "---\n",
        "\n",
        "The print() function is used to display values on the console. By default, it always displays a value on a new line. However, this can be altered by specifying an argument for the end parameter. You can read more about the print() function here.\n",
        "\n",
        "---\n",
        "\n",
        "Furthermore, we also covered several constructor functions, which you primarily used for typecasting purposes. These include int(), float(), str(), and bool(). Technically, these are classes, and the operation you perform is the creation of an object in a class. However, they serve as functions for our intents and purposes.\n",
        "\n",
        "---\n",
        "\n",
        "Another function you encountered is the type() function, which allows you to assess the type of a variable or value. The range() function is another common function, which allows you to produce an iterable sequence of numbers. Once again, both of these functions are technically classes that create type and range objects, respectively.\n",
        "\n",
        "---\n",
        "\n",
        "Let’s discuss some more built-in functions you will use regularly while programming:\n",
        "---\n",
        "\n",
        "\n",
        "The len() function enables you to calculate the size of a sequence or collection of items. We may use it on strings, but many more structures can have their size calculated with the use of the len() function as you will see in upcoming content.\n",
        "---\n",
        "len('Python')  # output: 6\n",
        "---\n",
        "\n",
        "\n",
        "The abs() function returns the absolute value of a number, which is that number without a sign associated with it. It can have several uses in mathematical contexts.\n",
        "---\n",
        "abs(-10)  # output: 10\n",
        "---\n",
        "\n",
        "\n",
        "The isinstance() function is used to assess if an object is of a particular class. For our purposes, you might use it to check the type of a variable or value. It is a safer way to do this than using the comparison operator.\n",
        "\n",
        "---\n",
        "\n",
        "Instead of:\n",
        "---\n",
        "type('abc') == str # output: True\n",
        "---\n",
        "Try:\n",
        "---\n",
        "isinstance('abc', str) # output: True\n",
        "---\n",
        "\n",
        "Let’s ask a large language model (LLM) to explain the isinstance() function:\n",
        "---\n",
        "Ask an LLM of your choice to explain when one would prefer the isinstance() function over using the comparison operator ==.\n",
        "---\n",
        "\n",
        "\n",
        "You can convert a string character to its unicode value using the ord() function. You can perform the inverse of this operation with the chr() function. Let’s ask a large language model to elaborate on this:\n",
        "---\n",
        "\n",
        "Ask an LLM of your choice to explain what a unicode value is.\n",
        "---\n",
        "ord('A')   # output: 65\n",
        "---\n",
        "\n",
        "\n",
        "round(2.718)  # output: 3\n",
        "\n",
        "---\n",
        "\n",
        "There are some more functions we would primarily use when dealing with data structures like lists. These include format(), min(), max(), sorted(), dir(), enumerate(), zip(), any(), all(), map(), and filter(). You can read more about them and understand what they do in preparation for upcoming content.\n",
        "\n",
        "---\n",
        "\n",
        "There are too many functions to remember right away. Therefore, it is a good habit to learn how to read function documentation rather than blindly memorising what each function does. As you keep coding, using some of these will become second nature.\n",
        "---\n",
        "\n",
        "\n",
        "Answer the following questions to test your understanding of built-in functions in Python:"
      ]
    },
    {
      "cell_type": "markdown",
      "metadata": {
        "id": "Kaw2P_Swm7KE"
      },
      "source": [
        "\n",
        "\n",
        "\n",
        "State whether the following statement is true or false:\n",
        "\n",
        "“You can override Python's built-in functions by defining a function with the same name.”\n",
        "\n",
        "You may want to try out this proposition in your IDE before attempting the question.\n",
        "\n",
        "True\n",
        "\n",
        "Correct! In Python, you can override built-in functions by defining a function with the same name. However, this is generally not recommended because it can lead to unexpected behaviour or bugs in your code. Overriding built-in functions could confuse other developers who might expect the built-in behaviour.\n",
        "\n",
        "---\n",
        "\n",
        "---\n",
        "\n",
        "\n",
        "\n",
        "2.Which of the following would lead to the output 6? Try out these commands in your IDE before you attempt this question.\n",
        "\n",
        "answer is\n",
        "len('Python')\n",
        "ord('\\x06')\n",
        "abs(-6)\n",
        "round(6.32)\n",
        "\n",
        "The round() function rounds a number up or down to the nearest integer. In this case, it will round it down.\n",
        "---\n",
        "\n",
        "---\n",
        "\n",
        "\n",
        "3.What would the output of the following block of code be?\n",
        "isinstance(2, int) and isinstance(3.14, float)\n",
        "\n",
        "True.\n",
        "The and operator will output True if both the operands are True.\n",
        "\n"
      ]
    },
    {
      "cell_type": "markdown",
      "metadata": {
        "id": "YvBan8KbpNhG"
      },
      "source": [
        "\n",
        "\n",
        "---\n",
        "\n",
        "\n",
        "\n",
        "---\n",
        "\n",
        "\n",
        "\n",
        "---\n",
        "\n",
        "function part one\n",
        "\n",
        "---\n",
        "\n",
        "\n",
        "\n",
        "---\n",
        "\n",
        "\n",
        "\n",
        "---\n",
        "\n"
      ]
    },
    {
      "cell_type": "markdown",
      "metadata": {
        "id": "29hB5nhpqL6F"
      },
      "source": [
        "you can make functons of your own encapsulating a block of code these functions can then be reused as and when requred some basic compopents of a function ara as follows:\n",
        "\n",
        "function signature or difintion : this specifies the function nume and optionally the parametes involced and return type.\n",
        "function body : This is the code that is made resuable\n",
        "\n",
        "function parameters : these are variable defined in the function signature that are placeholder for value that may be passed upon calling the function the value passed to a function are called arguments parameters are incorporated into the code with in the function body\n",
        "\n",
        "function return : This is the functions out put.\n"
      ]
    },
    {
      "cell_type": "code",
      "execution_count": null,
      "metadata": {
        "id": "PkUfj1dYHBu3"
      },
      "outputs": [],
      "source": [
        "#we can reuse a block of code by making a function out of it we have previouly encountered some in built funcition like type(). input() print()"
      ]
    },
    {
      "cell_type": "code",
      "execution_count": null,
      "metadata": {
        "id": "rDfOfEySHBsF"
      },
      "outputs": [],
      "source": [
        "def greeting(): print('hello world!')"
      ]
    },
    {
      "cell_type": "code",
      "execution_count": null,
      "metadata": {
        "id": "zONcUaZuHBm9"
      },
      "outputs": [],
      "source": [
        "def greeting():\n",
        "  print('Hello World!')"
      ]
    },
    {
      "cell_type": "code",
      "execution_count": null,
      "metadata": {
        "id": "6p_RnuokzYgw"
      },
      "outputs": [],
      "source": [
        "#A function can be called to execute its contents\n",
        "greeting() # this is a function call\n",
        "greeting() # this is a function call\n",
        "greeting() # this is a function call\n",
        "\n",
        "\n",
        "\n"
      ]
    },
    {
      "cell_type": "code",
      "execution_count": null,
      "metadata": {
        "id": "jRlH5dCQHBkm"
      },
      "outputs": [],
      "source": [
        "# variable defined within a function belong only to that function scope\n"
      ]
    },
    {
      "cell_type": "code",
      "execution_count": null,
      "metadata": {
        "id": "-nfkesl2HBh-"
      },
      "outputs": [],
      "source": [
        "def two_plus_two(count):\n",
        "    if count == 0:\n",
        "        return\n",
        "    x = 2\n",
        "    y = 2\n",
        "    print(x + y)\n",
        "    two_plus_two(count - 1)\n",
        "\n",
        "two_plus_two(1)  # Output: 4 (printed 5 times)\n"
      ]
    },
    {
      "cell_type": "markdown",
      "source": [
        "Situation:\n",
        "You are standing on a 5-step ladder, and you want to come down step by step.\n",
        "But here’s the rule:\n",
        "🔁 You ask your friend on the next lower step to come down first, and then you follow.\n",
        "\n",
        "Step-by-Step:\n",
        "You're on step 5, you call:\n",
        "👉 \"Hey, person on step 4, come down first!\"\n",
        "\n",
        "Person on step 4 calls:\n",
        "👉 \"Hey, person on step 3, come down first!\"\n",
        "\n",
        "Person on step 3 calls:\n",
        "👉 \"Hey, person on step 2, come down first!\"\n",
        "\n",
        "Person on step 2 calls:\n",
        "👉 \"Hey, person on step 1, come down first!\"\n",
        "\n",
        "Person on step 1 says:\n",
        "👉 \"No one below me. I’ll just jump down!\" 👣\n",
        "(This is your base condition)\n",
        "\n",
        "Now each person above comes down one by one — in reverse order."
      ],
      "metadata": {
        "id": "0--6Nc5XJrZP"
      }
    },
    {
      "cell_type": "code",
      "source": [
        "def come_down(step):\n",
        "    if step == 0:\n",
        "        print(\"Jumped off the ladder!\")\n",
        "        return\n",
        "    print(f\"On step {step}, calling step {step-1}\")\n",
        "    come_down(step - 1)\n",
        "    print(f\"Now I can come down from step {step}\")\n",
        "\n"
      ],
      "metadata": {
        "id": "jf-guBadJhCs"
      },
      "execution_count": null,
      "outputs": []
    },
    {
      "cell_type": "code",
      "source": [
        "come_down(5)"
      ],
      "metadata": {
        "id": "bMB-0pRxIkwm"
      },
      "execution_count": null,
      "outputs": []
    },
    {
      "cell_type": "code",
      "source": [
        "def come_down(step):\n",
        "    if step == 0:\n",
        "       print(\"Jumped off the ladder!\")\n",
        "\n",
        "come_down(0)"
      ],
      "metadata": {
        "id": "0Xh3EzU2MbXL"
      },
      "execution_count": null,
      "outputs": []
    },
    {
      "cell_type": "code",
      "source": [
        "def come_down(step):\n",
        "    if step == 0:\n",
        "       print(\"Jumped off the ladder!\")\n",
        "\n",
        "come_down(0)  # 👈 This line calls the function\n"
      ],
      "metadata": {
        "id": "s6WCOu4nNUMB"
      },
      "execution_count": null,
      "outputs": []
    },
    {
      "cell_type": "code",
      "source": [
        "come_down(5)"
      ],
      "metadata": {
        "id": "5fTUR1VZLALM"
      },
      "execution_count": null,
      "outputs": []
    },
    {
      "cell_type": "markdown",
      "source": [],
      "metadata": {
        "id": "6NhSYHQmK_cN"
      }
    },
    {
      "cell_type": "code",
      "source": [
        "   print(x + y)"
      ],
      "metadata": {
        "id": "SmPkcFEhIn23"
      },
      "execution_count": null,
      "outputs": []
    },
    {
      "cell_type": "markdown",
      "source": [],
      "metadata": {
        "id": "4-Nq1KqgIj1m"
      }
    },
    {
      "cell_type": "code",
      "execution_count": null,
      "metadata": {
        "id": "maaA1avbHBc3"
      },
      "outputs": [],
      "source": [
        "# function can access variables defined outside the function (globle variables) as long as they are assigned before the function call .\n",
        "\n",
        "globle_variable = 2\n",
        "\n",
        "def two_plus_two():\n",
        "  local_variable = 2\n",
        "  print(global_variable + local_variable)\n",
        "  two_plus_two()"
      ]
    },
    {
      "cell_type": "code",
      "execution_count": null,
      "metadata": {
        "id": "EgeAeJA8HBaI"
      },
      "outputs": [],
      "source": [
        "print(global_variable)"
      ]
    },
    {
      "cell_type": "code",
      "source": [
        "global_variable = 2\n",
        "\n",
        "def two_plus_two(count):\n",
        "    if count == 0:\n",
        "        return\n",
        "    local_variable = 2\n",
        "    print(global_variable + local_variable)\n",
        "    two_plus_two(count - 1)\n",
        "\n",
        "two_plus_two(5)  # will print 4 five times\n"
      ],
      "metadata": {
        "id": "GDzGlcrDY6Ph"
      },
      "execution_count": null,
      "outputs": []
    },
    {
      "cell_type": "code",
      "source": [
        "def two_plus_twe():\n",
        "  a = 2\n",
        "  print(a+b)\n",
        "\n",
        "  b = 2\n",
        "  two_plus_two()\n"
      ],
      "metadata": {
        "id": "gNVTbvakzULt"
      },
      "execution_count": null,
      "outputs": []
    },
    {
      "cell_type": "code",
      "source": [
        "d = 2\n",
        "def two_plus_two():\n",
        "  c = 2\n",
        "  print(d + c)\n",
        "  two_plus_two()"
      ],
      "metadata": {
        "id": "aJyGDi5tzUFd"
      },
      "execution_count": null,
      "outputs": []
    },
    {
      "cell_type": "markdown",
      "source": [
        "function can return value using the return keyword the return keyword is a jump statment"
      ],
      "metadata": {
        "id": "uHPodehF0xlE"
      }
    },
    {
      "cell_type": "code",
      "source": [
        "def two_plus_two():\n",
        "  return( 2 + 2)\n",
        "\n",
        "  answer = two_plus_two()\n",
        "  print(answer)\n",
        "\n"
      ],
      "metadata": {
        "id": "HPcCpKGz08h_"
      },
      "execution_count": null,
      "outputs": []
    },
    {
      "cell_type": "code",
      "source": [
        "  print(answer)"
      ],
      "metadata": {
        "id": "Y3ubnb5W08ff",
        "colab": {
          "base_uri": "https://localhost:8080/",
          "height": 147
        },
        "outputId": "40dcf088-ba8a-4587-a6a5-f810904754c1"
      },
      "execution_count": null,
      "outputs": [
        {
          "output_type": "error",
          "ename": "NameError",
          "evalue": "name 'answer' is not defined",
          "traceback": [
            "\u001b[0;31m---------------------------------------------------------------------------\u001b[0m",
            "\u001b[0;31mNameError\u001b[0m                                 Traceback (most recent call last)",
            "\u001b[0;32m/tmp/ipython-input-22-4066393268.py\u001b[0m in \u001b[0;36m<cell line: 0>\u001b[0;34m()\u001b[0m\n\u001b[0;32m----> 1\u001b[0;31m \u001b[0mprint\u001b[0m\u001b[0;34m(\u001b[0m\u001b[0manswer\u001b[0m\u001b[0;34m)\u001b[0m\u001b[0;34m\u001b[0m\u001b[0;34m\u001b[0m\u001b[0m\n\u001b[0m",
            "\u001b[0;31mNameError\u001b[0m: name 'answer' is not defined"
          ]
        }
      ]
    },
    {
      "cell_type": "code",
      "source": [
        "def square_of_3():\n",
        "  return 3 ** 2\n",
        "  print(square_of_3())"
      ],
      "metadata": {
        "id": "GcfqbgrH08dO"
      },
      "execution_count": null,
      "outputs": []
    },
    {
      "cell_type": "code",
      "source": [
        "# a print() statement just outputs the value being printed to the console. while a return statement allows you to retrieve the value from the funciton call\n",
        "\n"
      ],
      "metadata": {
        "id": "4UMz3d8i08aG"
      },
      "execution_count": null,
      "outputs": []
    },
    {
      "cell_type": "code",
      "source": [
        "def three_time_five():\n",
        "  print(3 * 5)\n",
        "answer = three_time_five() # the internal print statment is executed but no value is returned to be stared in answer"
      ],
      "metadata": {
        "id": "BPYy68S708XH"
      },
      "execution_count": null,
      "outputs": []
    },
    {
      "cell_type": "code",
      "source": [
        "answer"
      ],
      "metadata": {
        "id": "GbbEyw2fzT58"
      },
      "execution_count": null,
      "outputs": []
    },
    {
      "cell_type": "code",
      "source": [
        "type(answer)"
      ],
      "metadata": {
        "id": "67UgWsQQ3Xcg"
      },
      "execution_count": null,
      "outputs": []
    },
    {
      "cell_type": "code",
      "source": [
        "def four_times_six():\n",
        "  return ( 4 * 6)\n",
        "\n",
        "  answer = four_times_six() # the value of four times six is stared in \"answer\""
      ],
      "metadata": {
        "id": "f7aD2VCd3ar5"
      },
      "execution_count": null,
      "outputs": []
    },
    {
      "cell_type": "code",
      "source": [
        "answer"
      ],
      "metadata": {
        "id": "9t5WxLz93apJ"
      },
      "execution_count": null,
      "outputs": []
    },
    {
      "cell_type": "code",
      "source": [
        "type(answer)"
      ],
      "metadata": {
        "id": "5ggHz3kU33tV"
      },
      "execution_count": null,
      "outputs": []
    },
    {
      "cell_type": "code",
      "source": [
        "#function terminated upon returning a value"
      ],
      "metadata": {
        "id": "sdPiysYx396H"
      },
      "execution_count": null,
      "outputs": []
    },
    {
      "cell_type": "code",
      "source": [
        "def abc():\n",
        "  return 'abc'\n",
        "  print('this will not print')\n",
        "\n",
        "print(abc())"
      ],
      "metadata": {
        "id": "F-mZU7aR39NG"
      },
      "execution_count": null,
      "outputs": []
    },
    {
      "cell_type": "code",
      "source": [
        "def find_o():\n",
        "  for ch in \"Hello world\" :\n",
        "    if ch == 'o':\n",
        "      return 'o was found'\n",
        "      piint(ch)\n",
        "\n",
        "find_o()"
      ],
      "metadata": {
        "id": "IRFsYUiS4YJt"
      },
      "execution_count": null,
      "outputs": []
    },
    {
      "cell_type": "markdown",
      "source": [
        "\n",
        "\n",
        "\n",
        "\n",
        "\n"
      ],
      "metadata": {
        "id": "n3Ub8ZkA4XMZ"
      }
    },
    {
      "cell_type": "markdown",
      "source": [],
      "metadata": {
        "id": "qsK78OYBzTl9"
      }
    },
    {
      "cell_type": "markdown",
      "source": [
        "Functions can be defined as follows:\n",
        "\n",
        "\n",
        "---\n",
        "\n",
        "\n",
        "def greeting(): print('Hello world!')\n",
        "\n",
        "\n",
        "\n",
        "---\n",
        "\n",
        "\n",
        "Alternatively, the same function could be defined as follows:\n",
        "---\n",
        "def greeting(): print('Hello world!')\n",
        "\n",
        "---\n",
        "Note that the greeting() function defined above has no parameters or return values. Adding a return statement would allow you to retrieve the output rather than just display it:\n",
        "---\n",
        "def greeting(): return 'Hello world!'\n",
        "\n",
        "---\n",
        "You can then call a function as follows:\n",
        "---\n",
        "output = greeting()\n",
        "---\n",
        "\n",
        "Output would now store the return value of our latest greeting() function.\n",
        "\n",
        "---\n",
        "\n",
        "Variables defined within a function may be used only by that function. They are said to lie within the function’s scope. A function may use variables from the global scope as long as they are defined before the function call.\n",
        "---\n",
        "global_variable = 2 # can be accessed by the function def two_plus_two(): local_variable = 2 # cannot be accessed outside the function print(global_variable + local_variable) two_plus_two()\n",
        "\n",
        "---\n",
        "Upon returning a value, a function will terminate:\n",
        "---\n",
        "def abc(): return 'abc' print('This will not print.')\n",
        "---\n",
        "In Python, functions are considered first-class citizens. Let’s ask a large language model (LLM) about what this means:\n",
        "\n",
        "---\n",
        "\n",
        "Ask an LLM of your choice to explain why a function is called a first-class citizen.\n",
        "\n",
        "---\n",
        "\n",
        "Test your understanding of what you have learnt thus far by attempting the following questions:"
      ],
      "metadata": {
        "id": "A-AtYvAbySjl"
      }
    },
    {
      "cell_type": "markdown",
      "source": [
        "State whether the following statement is true or false:\n",
        "\n",
        "“User-defined functions in Python must always return a value.”\n",
        "\n",
        "\n",
        "---\n",
        "False\n",
        "---\n",
        "Correct! In Python, user-defined functions are not required to return a value. A function can have no return statement at all, or it can simply use return without a value, which implicitly returns None.\n",
        "\n",
        "\n",
        "---\n",
        "\n"
      ],
      "metadata": {
        "id": "sNozH4P6B7_x"
      }
    },
    {
      "cell_type": "markdown",
      "source": [
        "State whether the following statement is true or false:\n",
        "\n",
        "“A user-defined function in Python can access variables from outside its scope.”\n",
        "---\n",
        "True\n",
        "\n",
        "\n",
        "---\n",
        "Correct! In Python, a user-defined function can access variables that are in its enclosing scope (such as variables from the global scope or from enclosing functions). This is called lexical scoping or closures.\n"
      ],
      "metadata": {
        "id": "2ps6DkjqCSji"
      }
    },
    {
      "cell_type": "markdown",
      "source": [
        "What value would output store?\n",
        "\n",
        "def cheer():\n",
        "    print('I love Python programming!')\n",
        "\n",
        "output = cheer()\n",
        "\n",
        "\n",
        "---\n",
        "None\n",
        "\n",
        "\n",
        "---\n",
        "\n",
        "\n",
        "\n",
        "---\n",
        "\n",
        "\n",
        "  Correct! As the function is not returning a specified value, it will return None by default.\n"
      ],
      "metadata": {
        "id": "pmWtZ5A1C9o9"
      }
    },
    {
      "cell_type": "markdown",
      "source": [
        "\n"
      ],
      "metadata": {
        "id": "OuDIWF8yDOmJ"
      }
    },
    {
      "cell_type": "code",
      "source": [
        "What would the output of the following block of code be?\n",
        "\n",
        "def counter():\n",
        "    count = 0\n",
        "    count += 1\n",
        "    print(count)\n",
        "    count += 1\n",
        "    return count\n",
        "\n",
        "result = counter()\n",
        "print(result)\n",
        "\n",
        "\n",
        "#Correct! You have correctly accounted for the increments occurring before and after the print() statements and for print() statements displaying values on new lines by default."
      ],
      "metadata": {
        "id": "5S0H_Wp-CFh_"
      },
      "execution_count": null,
      "outputs": []
    },
    {
      "cell_type": "code",
      "execution_count": null,
      "metadata": {
        "id": "TdBawLUlHBXd"
      },
      "outputs": [],
      "source": [
        "#Consider the following block of code and mark which options are true. This question may have more than one correct answer.\n",
        "\n",
        "def my_function():\n",
        "    print('Welcome to upGrad!')\n",
        "    return 'Goodbye!'\n",
        "\n",
        "result = my_function()\n",
        "print(result)\n",
        "\n",
        "\n",
        "#The function my_function() prints a message and also returns a value\n",
        "#answer=Correct! The function prints the string 'Welcome to upGrad!' and returns the string 'Goodbye!'\n",
        "#\n",
        "#The variable result will hold the value 'Goodbye!'\n",
        "#Correct! The string 'Goodbye!' is returned by my_function(), and this returned value is stored in result.\n",
        "\n",
        "#The function my_function() takes no arguments\n",
        "\n",
        "#Correct! There are no parameters defined in the function signature; therefore, the function my_function() takes no arguments when called."
      ]
    },
    {
      "cell_type": "markdown",
      "source": [
        "my sister is doing internship four last one year and she will complete her couces on october after she give the exam he will start getting salary   "
      ],
      "metadata": {
        "id": "T9ioz5zr6FMP"
      }
    },
    {
      "cell_type": "code",
      "execution_count": null,
      "metadata": {
        "id": "s7SX9hgRHBUl"
      },
      "outputs": [],
      "source": [
        "parameters are variables that a funcition takes as input when it called . parameters act as placeholder for the value(arguments) that will be passed to the function when it is called."
      ]
    },
    {
      "cell_type": "code",
      "source": [
        "def find_sum(a, b): return a + b"
      ],
      "metadata": {
        "id": "S--vxEjnzNhW"
      },
      "execution_count": null,
      "outputs": []
    },
    {
      "cell_type": "code",
      "source": [
        "find_sum(1, 2)"
      ],
      "metadata": {
        "id": "L_C839JhzNeG",
        "colab": {
          "base_uri": "https://localhost:8080/"
        },
        "outputId": "9327541c-d681-4519-c0f6-e6e0dcb04e08"
      },
      "execution_count": null,
      "outputs": [
        {
          "output_type": "execute_result",
          "data": {
            "text/plain": [
              "3"
            ]
          },
          "metadata": {},
          "execution_count": 3
        }
      ]
    },
    {
      "cell_type": "code",
      "source": [
        "print(find_sum(a = 1 , b = 2))"
      ],
      "metadata": {
        "id": "swT7-eMqzNbH",
        "colab": {
          "base_uri": "https://localhost:8080/"
        },
        "outputId": "3bb2d94d-7a17-4f11-bc0b-98f911f7eca4"
      },
      "execution_count": null,
      "outputs": [
        {
          "output_type": "stream",
          "name": "stdout",
          "text": [
            "3\n"
          ]
        }
      ]
    },
    {
      "cell_type": "code",
      "source": [
        "def repeat_string(string, times): return string * times"
      ],
      "metadata": {
        "id": "bRSdnqY-zNXt"
      },
      "execution_count": null,
      "outputs": []
    },
    {
      "cell_type": "code",
      "source": [
        "x = repeat_string(string = 'hello', times = 3)\n",
        "print (x)"
      ],
      "metadata": {
        "id": "2E72_8sdzNUl",
        "colab": {
          "base_uri": "https://localhost:8080/"
        },
        "outputId": "989bd968-877e-44a7-cfc6-f99504f9e921"
      },
      "execution_count": null,
      "outputs": [
        {
          "output_type": "stream",
          "name": "stdout",
          "text": [
            "hellohellohello\n"
          ]
        }
      ]
    },
    {
      "cell_type": "code",
      "source": [
        "when paramenters aren't provided the arguments passed to the funciton are passed in order to the parameters deciaration wiht in the funcition"
      ],
      "metadata": {
        "id": "alZF5WXVzNRl"
      },
      "execution_count": null,
      "outputs": []
    },
    {
      "cell_type": "code",
      "source": [
        "print(find_sum(10 , 20))  # here, 10 and 20 are arguments passed to the function for parameters a and b respectively"
      ],
      "metadata": {
        "id": "CvhUvf-DzNO3",
        "colab": {
          "base_uri": "https://localhost:8080/"
        },
        "outputId": "7025c28c-44b2-4898-d20f-bafdca97dde9"
      },
      "execution_count": null,
      "outputs": [
        {
          "output_type": "stream",
          "name": "stdout",
          "text": [
            "30\n"
          ]
        }
      ]
    },
    {
      "cell_type": "code",
      "source": [
        "y = repeat_string('ha' , 20)  # here, 'ha' and 20 are arguments passed to the function for parameters string and times respectively\n",
        "print(y)"
      ],
      "metadata": {
        "id": "O2xqkrQRzNL_",
        "colab": {
          "base_uri": "https://localhost:8080/"
        },
        "outputId": "33a04bfc-1bb7-4e49-9a74-49d5c5721318"
      },
      "execution_count": null,
      "outputs": [
        {
          "output_type": "stream",
          "name": "stdout",
          "text": [
            "hahahahahahahahahahahahahahahahahahahaha\n"
          ]
        }
      ]
    },
    {
      "cell_type": "code",
      "source": [
        "#Default arguments can be set for paramentes"
      ],
      "metadata": {
        "id": "nRhCnDqhzNJV"
      },
      "execution_count": null,
      "outputs": []
    },
    {
      "cell_type": "code",
      "source": [
        "def calculate(a , b, operation = 'add'): # parameters with default arguments must be defined after parameters without default arguments\n",
        "    if operation == 'add' : return a + b\n",
        "    elif operation == 'sub': return a - b\n",
        "    else: return '<unknown operation>'"
      ],
      "metadata": {
        "id": "wC-EGmWJzNGe"
      },
      "execution_count": null,
      "outputs": []
    },
    {
      "cell_type": "code",
      "source": [
        "op_1 = calculate(10, 5)\n",
        "op_2 = calculate(10, 5, 'add')\n",
        "op_3 = calculate(10, 5, 'sub')\n",
        "op_4 = calculate(10, 5, 'multiply')\n",
        "\n",
        "print(op_1, op_2, op_3, op_4)"
      ],
      "metadata": {
        "id": "d1f0Cq99zNDb",
        "colab": {
          "base_uri": "https://localhost:8080/"
        },
        "outputId": "9e2ee67e-a36c-4b38-c930-6343540a9212"
      },
      "execution_count": null,
      "outputs": [
        {
          "output_type": "stream",
          "name": "stdout",
          "text": [
            "15 15 5 <unknown operation>\n"
          ]
        }
      ]
    },
    {
      "cell_type": "code",
      "source": [],
      "metadata": {
        "id": "A-8s4p_VzNAG"
      },
      "execution_count": null,
      "outputs": []
    },
    {
      "cell_type": "code",
      "source": [],
      "metadata": {
        "id": "3SiHjdjbzM8t"
      },
      "execution_count": null,
      "outputs": []
    },
    {
      "cell_type": "code",
      "source": [],
      "metadata": {
        "id": "kQv8LwVQzM5d"
      },
      "execution_count": null,
      "outputs": []
    },
    {
      "cell_type": "code",
      "source": [],
      "metadata": {
        "id": "AguCOwLkzMzF"
      },
      "execution_count": null,
      "outputs": []
    },
    {
      "cell_type": "code",
      "source": [],
      "metadata": {
        "id": "Dw_X_7NAzMwN"
      },
      "execution_count": null,
      "outputs": []
    },
    {
      "cell_type": "code",
      "source": [],
      "metadata": {
        "id": "Rznj3R2SzMtN"
      },
      "execution_count": null,
      "outputs": []
    },
    {
      "cell_type": "code",
      "source": [],
      "metadata": {
        "id": "vL6Kck9PzMqN"
      },
      "execution_count": null,
      "outputs": []
    },
    {
      "cell_type": "code",
      "source": [],
      "metadata": {
        "id": "Sy3KB3dFzMnd"
      },
      "execution_count": null,
      "outputs": []
    },
    {
      "cell_type": "code",
      "source": [],
      "metadata": {
        "id": "yAuqmEE5zMkV"
      },
      "execution_count": null,
      "outputs": []
    },
    {
      "cell_type": "code",
      "source": [],
      "metadata": {
        "id": "bVjx1LXZzMhV"
      },
      "execution_count": null,
      "outputs": []
    },
    {
      "cell_type": "code",
      "source": [],
      "metadata": {
        "id": "AmoNpvz6zMeV"
      },
      "execution_count": null,
      "outputs": []
    },
    {
      "cell_type": "code",
      "source": [],
      "metadata": {
        "id": "JuSPB-RYzMb1"
      },
      "execution_count": null,
      "outputs": []
    },
    {
      "cell_type": "code",
      "source": [],
      "metadata": {
        "id": "V_mGQxlIzMZN"
      },
      "execution_count": null,
      "outputs": []
    },
    {
      "cell_type": "code",
      "source": [],
      "metadata": {
        "id": "bhVARJqIzMU4"
      },
      "execution_count": null,
      "outputs": []
    },
    {
      "cell_type": "code",
      "source": [],
      "metadata": {
        "id": "4I3mShKDzMR1"
      },
      "execution_count": null,
      "outputs": []
    },
    {
      "cell_type": "code",
      "source": [],
      "metadata": {
        "id": "krylHDTFzMPV"
      },
      "execution_count": null,
      "outputs": []
    },
    {
      "cell_type": "code",
      "source": [],
      "metadata": {
        "id": "BVRaaMXozMLt"
      },
      "execution_count": null,
      "outputs": []
    },
    {
      "cell_type": "code",
      "execution_count": null,
      "metadata": {
        "id": "EDiccn5wHBRm"
      },
      "outputs": [],
      "source": []
    }
  ],
  "metadata": {
    "colab": {
      "provenance": [],
      "toc_visible": true,
      "authorship_tag": "ABX9TyMfbTQOy0miqxCxHUpETxE0",
      "include_colab_link": true
    },
    "kernelspec": {
      "display_name": "Python 3",
      "name": "python3"
    },
    "language_info": {
      "name": "python"
    }
  },
  "nbformat": 4,
  "nbformat_minor": 0
}