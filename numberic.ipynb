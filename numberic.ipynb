{
  "nbformat": 4,
  "nbformat_minor": 0,
  "metadata": {
    "colab": {
      "provenance": [],
      "authorship_tag": "ABX9TyMs2qL2emtWBA3Yp3fVpjib",
      "include_colab_link": true
    },
    "kernelspec": {
      "name": "python3",
      "display_name": "Python 3"
    },
    "language_info": {
      "name": "python"
    }
  },
  "cells": [
    {
      "cell_type": "markdown",
      "metadata": {
        "id": "view-in-github",
        "colab_type": "text"
      },
      "source": [
        "<a href=\"https://colab.research.google.com/github/PRITESHDAYAT/Priteshfiledemo/blob/main/numberic.ipynb\" target=\"_parent\"><img src=\"https://colab.research.google.com/assets/colab-badge.svg\" alt=\"Open In Colab\"/></a>"
      ]
    },
    {
      "cell_type": "markdown",
      "source": [
        "Arithmetic operations on numberic values and veriables"
      ],
      "metadata": {
        "id": "zN1aOBHqaDSD"
      }
    },
    {
      "cell_type": "code",
      "execution_count": null,
      "metadata": {
        "colab": {
          "base_uri": "https://localhost:8080/"
        },
        "id": "t6pMOSMOYiuQ",
        "outputId": "d9e24245-603c-4da4-cff4-3e1a2fa1242a"
      },
      "outputs": [
        {
          "output_type": "execute_result",
          "data": {
            "text/plain": [
              "3"
            ]
          },
          "metadata": {},
          "execution_count": 1
        }
      ],
      "source": [
        "# Addition\n",
        "1+2"
      ]
    },
    {
      "cell_type": "code",
      "source": [
        "a = 3 + 4"
      ],
      "metadata": {
        "id": "cGBpdGeYamvT"
      },
      "execution_count": null,
      "outputs": []
    },
    {
      "cell_type": "code",
      "source": [
        "a"
      ],
      "metadata": {
        "colab": {
          "base_uri": "https://localhost:8080/"
        },
        "id": "-ZnJJrvPas3N",
        "outputId": "9da17805-9a84-4f18-b047-a69103f752ae"
      },
      "execution_count": null,
      "outputs": [
        {
          "output_type": "execute_result",
          "data": {
            "text/plain": [
              "7"
            ]
          },
          "metadata": {},
          "execution_count": 3
        }
      ]
    },
    {
      "cell_type": "code",
      "source": [
        "b = a + 5"
      ],
      "metadata": {
        "id": "qvw_n6lpax9u"
      },
      "execution_count": null,
      "outputs": []
    },
    {
      "cell_type": "code",
      "source": [
        "b"
      ],
      "metadata": {
        "colab": {
          "base_uri": "https://localhost:8080/"
        },
        "id": "I_IEnCPFbHG0",
        "outputId": "68a9ba41-3861-4e3c-c02e-6156db65212b"
      },
      "execution_count": null,
      "outputs": [
        {
          "output_type": "execute_result",
          "data": {
            "text/plain": [
              "12"
            ]
          },
          "metadata": {},
          "execution_count": 7
        }
      ]
    },
    {
      "cell_type": "code",
      "source": [
        "c = a + b"
      ],
      "metadata": {
        "id": "duXuDxQlbK2c"
      },
      "execution_count": null,
      "outputs": []
    },
    {
      "cell_type": "code",
      "source": [
        "c"
      ],
      "metadata": {
        "colab": {
          "base_uri": "https://localhost:8080/"
        },
        "id": "ULBoQvtxbPMF",
        "outputId": "f87e095d-d3a4-4e87-9f26-85172e12951b"
      },
      "execution_count": null,
      "outputs": [
        {
          "output_type": "execute_result",
          "data": {
            "text/plain": [
              "19"
            ]
          },
          "metadata": {},
          "execution_count": 9
        }
      ]
    },
    {
      "cell_type": "code",
      "source": [
        "c = c + c"
      ],
      "metadata": {
        "id": "h69CV_nobXdY"
      },
      "execution_count": null,
      "outputs": []
    },
    {
      "cell_type": "code",
      "source": [
        "c"
      ],
      "metadata": {
        "colab": {
          "base_uri": "https://localhost:8080/"
        },
        "id": "0HPNDqRobcHp",
        "outputId": "05e1211e-0e5f-495f-a850-a6603ae46477"
      },
      "execution_count": null,
      "outputs": [
        {
          "output_type": "execute_result",
          "data": {
            "text/plain": [
              "38"
            ]
          },
          "metadata": {},
          "execution_count": 11
        }
      ]
    },
    {
      "cell_type": "code",
      "source": [
        "d = c + 0.1"
      ],
      "metadata": {
        "id": "JrC5FZmTbg_q"
      },
      "execution_count": null,
      "outputs": []
    },
    {
      "cell_type": "code",
      "source": [
        "d"
      ],
      "metadata": {
        "colab": {
          "base_uri": "https://localhost:8080/"
        },
        "id": "9X2HgjLWbkHb",
        "outputId": "4acc8b8e-2237-41b2-b8de-3e5221b25eaa"
      },
      "execution_count": null,
      "outputs": [
        {
          "output_type": "execute_result",
          "data": {
            "text/plain": [
              "38.1"
            ]
          },
          "metadata": {},
          "execution_count": 13
        }
      ]
    },
    {
      "cell_type": "code",
      "source": [
        "#subtraction\n",
        "11-3"
      ],
      "metadata": {
        "colab": {
          "base_uri": "https://localhost:8080/"
        },
        "id": "GK_yXMuJbyhG",
        "outputId": "2afdd3dd-15aa-423b-aafb-4303f841143d"
      },
      "execution_count": null,
      "outputs": [
        {
          "output_type": "execute_result",
          "data": {
            "text/plain": [
              "8"
            ]
          },
          "metadata": {},
          "execution_count": 14
        }
      ]
    },
    {
      "cell_type": "code",
      "source": [
        "#multiplication\n",
        "11 * 3"
      ],
      "metadata": {
        "colab": {
          "base_uri": "https://localhost:8080/"
        },
        "id": "KnmYaqqCb7ah",
        "outputId": "814aa6fe-8757-44d9-9a27-047dac417155"
      },
      "execution_count": null,
      "outputs": [
        {
          "output_type": "execute_result",
          "data": {
            "text/plain": [
              "33"
            ]
          },
          "metadata": {},
          "execution_count": 15
        }
      ]
    },
    {
      "cell_type": "code",
      "source": [
        "#exponentiation\n",
        "12 ** 3"
      ],
      "metadata": {
        "colab": {
          "base_uri": "https://localhost:8080/"
        },
        "id": "QfzNixDkcChy",
        "outputId": "5ae2fe2f-ca98-49f5-8831-8c8d7006a357"
      },
      "execution_count": null,
      "outputs": [
        {
          "output_type": "execute_result",
          "data": {
            "text/plain": [
              "1728"
            ]
          },
          "metadata": {},
          "execution_count": 17
        }
      ]
    },
    {
      "cell_type": "code",
      "source": [
        "#division\n",
        "11/3"
      ],
      "metadata": {
        "colab": {
          "base_uri": "https://localhost:8080/"
        },
        "id": "TT5xHmc3cNWE",
        "outputId": "48b9dac6-995a-47f7-bb76-5bb0cf70f54d"
      },
      "execution_count": null,
      "outputs": [
        {
          "output_type": "execute_result",
          "data": {
            "text/plain": [
              "3.6666666666666665"
            ]
          },
          "metadata": {},
          "execution_count": 19
        }
      ]
    },
    {
      "cell_type": "code",
      "source": [
        "#floor division\n",
        "11 // 3"
      ],
      "metadata": {
        "colab": {
          "base_uri": "https://localhost:8080/"
        },
        "id": "1gEGiGj4cTx-",
        "outputId": "6befbe9e-48bd-4e40-f7c2-34fda6f69129"
      },
      "execution_count": null,
      "outputs": [
        {
          "output_type": "execute_result",
          "data": {
            "text/plain": [
              "3"
            ]
          },
          "metadata": {},
          "execution_count": 21
        }
      ]
    },
    {
      "cell_type": "code",
      "source": [
        "#modulo (remainder\n",
        "11 % 3"
      ],
      "metadata": {
        "colab": {
          "base_uri": "https://localhost:8080/"
        },
        "id": "nYtn6wTmccZZ",
        "outputId": "1fda40fc-0ef0-4797-9b04-619cc4a15689"
      },
      "execution_count": null,
      "outputs": [
        {
          "output_type": "execute_result",
          "data": {
            "text/plain": [
              "2"
            ]
          },
          "metadata": {},
          "execution_count": 22
        }
      ]
    },
    {
      "cell_type": "markdown",
      "source": [
        "we can use the same arithmetic operetors on non-numeric data types To perform certain tasks which may or may not be obvious. This is an example of operator overloading in python. With string, we can use the + and * operator."
      ],
      "metadata": {
        "id": "DqZ0YBRHcmG7"
      }
    },
    {
      "cell_type": "code",
      "source": [
        "# string concatenation\n",
        "'hello' + 'world'"
      ],
      "metadata": {
        "colab": {
          "base_uri": "https://localhost:8080/",
          "height": 35
        },
        "id": "5FCelJS_cyyv",
        "outputId": "0b2033a8-3702-4429-88a3-6cb15ad7cc81"
      },
      "execution_count": null,
      "outputs": [
        {
          "output_type": "execute_result",
          "data": {
            "text/plain": [
              "'helloworld'"
            ],
            "application/vnd.google.colaboratory.intrinsic+json": {
              "type": "string"
            }
          },
          "metadata": {},
          "execution_count": 23
        }
      ]
    },
    {
      "cell_type": "code",
      "source": [
        "'Hello' + ' ' + 'world' + '1'"
      ],
      "metadata": {
        "colab": {
          "base_uri": "https://localhost:8080/",
          "height": 35
        },
        "id": "teZikCZHclNT",
        "outputId": "1b40c8a2-a445-4929-ae04-468828de0416"
      },
      "execution_count": null,
      "outputs": [
        {
          "output_type": "execute_result",
          "data": {
            "text/plain": [
              "'Hello world1'"
            ],
            "application/vnd.google.colaboratory.intrinsic+json": {
              "type": "string"
            }
          },
          "metadata": {},
          "execution_count": 25
        }
      ]
    },
    {
      "cell_type": "code",
      "source": [
        "#stirng replication / repetition\n",
        "'hello, ' * 3"
      ],
      "metadata": {
        "colab": {
          "base_uri": "https://localhost:8080/",
          "height": 35
        },
        "id": "UIg9B-7NeKVn",
        "outputId": "8e05db48-b00a-4d6f-d41c-cccb2c300fcb"
      },
      "execution_count": null,
      "outputs": [
        {
          "output_type": "execute_result",
          "data": {
            "text/plain": [
              "'hello, hello, hello, '"
            ],
            "application/vnd.google.colaboratory.intrinsic+json": {
              "type": "string"
            }
          },
          "metadata": {},
          "execution_count": 30
        }
      ]
    },
    {
      "cell_type": "markdown",
      "source": [
        "when performaing arithmetic operations on boolean values, python treats true as 1 and false as 0"
      ],
      "metadata": {
        "id": "8KfkG1y5ey84"
      }
    },
    {
      "cell_type": "code",
      "source": [
        "True + True"
      ],
      "metadata": {
        "colab": {
          "base_uri": "https://localhost:8080/"
        },
        "id": "JQmHBIqaeyt3",
        "outputId": "b5e8f208-9d7f-4425-f929-d541af0d789f"
      },
      "execution_count": null,
      "outputs": [
        {
          "output_type": "execute_result",
          "data": {
            "text/plain": [
              "2"
            ]
          },
          "metadata": {},
          "execution_count": 31
        }
      ]
    },
    {
      "cell_type": "code",
      "source": [
        "True + False"
      ],
      "metadata": {
        "colab": {
          "base_uri": "https://localhost:8080/"
        },
        "id": "7z7NxtSyfMC9",
        "outputId": "104c9c0a-4440-4cc9-919e-5be553be6934"
      },
      "execution_count": null,
      "outputs": [
        {
          "output_type": "execute_result",
          "data": {
            "text/plain": [
              "1"
            ]
          },
          "metadata": {},
          "execution_count": 32
        }
      ]
    },
    {
      "cell_type": "code",
      "source": [
        "False + False"
      ],
      "metadata": {
        "colab": {
          "base_uri": "https://localhost:8080/"
        },
        "id": "B8nntbhcfSyG",
        "outputId": "f40a54a9-6f5f-4fc2-cbd9-f6833a2bff51"
      },
      "execution_count": null,
      "outputs": [
        {
          "output_type": "execute_result",
          "data": {
            "text/plain": [
              "0"
            ]
          },
          "metadata": {},
          "execution_count": 33
        }
      ]
    },
    {
      "cell_type": "code",
      "source": [
        "True * 3"
      ],
      "metadata": {
        "colab": {
          "base_uri": "https://localhost:8080/"
        },
        "id": "lbHbmdpNfaaB",
        "outputId": "7ed8e35e-3722-4e61-fba2-7718d2c9b3be"
      },
      "execution_count": null,
      "outputs": [
        {
          "output_type": "execute_result",
          "data": {
            "text/plain": [
              "3"
            ]
          },
          "metadata": {},
          "execution_count": 35
        }
      ]
    },
    {
      "cell_type": "code",
      "source": [
        "1 / True"
      ],
      "metadata": {
        "colab": {
          "base_uri": "https://localhost:8080/"
        },
        "id": "Or3A9vXTfiGj",
        "outputId": "b6f9f26d-3104-4543-9a95-4888ef8eab68"
      },
      "execution_count": null,
      "outputs": [
        {
          "output_type": "execute_result",
          "data": {
            "text/plain": [
              "1.0"
            ]
          },
          "metadata": {},
          "execution_count": 36
        }
      ]
    },
    {
      "cell_type": "code",
      "source": [
        "1 // True"
      ],
      "metadata": {
        "colab": {
          "base_uri": "https://localhost:8080/"
        },
        "id": "0XI7cbNrfvxG",
        "outputId": "bafd49b9-fb61-4aa2-9824-9a8b6744024f"
      },
      "execution_count": null,
      "outputs": [
        {
          "output_type": "execute_result",
          "data": {
            "text/plain": [
              "1"
            ]
          },
          "metadata": {},
          "execution_count": 37
        }
      ]
    },
    {
      "cell_type": "code",
      "source": [
        "1 % True"
      ],
      "metadata": {
        "colab": {
          "base_uri": "https://localhost:8080/"
        },
        "id": "Erchnfv3f10A",
        "outputId": "adefeca7-40fe-48fe-fdbd-1c6111262d67"
      },
      "execution_count": null,
      "outputs": [
        {
          "output_type": "execute_result",
          "data": {
            "text/plain": [
              "0"
            ]
          },
          "metadata": {},
          "execution_count": 38
        }
      ]
    },
    {
      "cell_type": "code",
      "source": [
        "#1 / False"
      ],
      "metadata": {
        "id": "ZVl5i7pCf51w"
      },
      "execution_count": null,
      "outputs": []
    },
    {
      "cell_type": "markdown",
      "source": [
        "we cannot perform arithmetic operations on none type"
      ],
      "metadata": {
        "id": "wkdE9sp0gByz"
      }
    },
    {
      "cell_type": "code",
      "source": [
        "1 + 3 * 4 / 12 - 6"
      ],
      "metadata": {
        "colab": {
          "base_uri": "https://localhost:8080/"
        },
        "id": "IAw4ZERrgLYt",
        "outputId": "ed9b163d-5d2c-4af0-ed28-ef0dacfe79aa"
      },
      "execution_count": null,
      "outputs": [
        {
          "output_type": "execute_result",
          "data": {
            "text/plain": [
              "-4.0"
            ]
          },
          "metadata": {},
          "execution_count": 42
        }
      ]
    },
    {
      "cell_type": "code",
      "source": [
        "3 ** 4 // 5% 3"
      ],
      "metadata": {
        "colab": {
          "base_uri": "https://localhost:8080/"
        },
        "id": "_evcAFSCg6EY",
        "outputId": "d84defb0-1628-4770-8f6a-249053be3c9f"
      },
      "execution_count": null,
      "outputs": [
        {
          "output_type": "execute_result",
          "data": {
            "text/plain": [
              "1"
            ]
          },
          "metadata": {},
          "execution_count": 43
        }
      ]
    },
    {
      "cell_type": "markdown",
      "source": [
        "------------------------------------"
      ],
      "metadata": {
        "id": "YcZktS0dgKjW"
      }
    },
    {
      "cell_type": "markdown",
      "source": [
        "let's ask our users for their nume and age"
      ],
      "metadata": {
        "id": "RX_S6zFmhrg9"
      }
    },
    {
      "cell_type": "code",
      "source": [
        "name = input('what is your name?')\n",
        "age = input('how old are you?')"
      ],
      "metadata": {
        "colab": {
          "base_uri": "https://localhost:8080/"
        },
        "id": "ddfXzZYIhk2D",
        "outputId": "88b26e11-d210-4b73-9f41-be13d15cad82"
      },
      "execution_count": null,
      "outputs": [
        {
          "name": "stdout",
          "output_type": "stream",
          "text": [
            "what is your name?pritesh\n",
            "how old are you?26\n"
          ]
        }
      ]
    },
    {
      "cell_type": "code",
      "source": [
        "name"
      ],
      "metadata": {
        "colab": {
          "base_uri": "https://localhost:8080/",
          "height": 35
        },
        "id": "eXeatFsYiX34",
        "outputId": "c1caa026-5e43-4311-9cf4-8206419171b6"
      },
      "execution_count": null,
      "outputs": [
        {
          "output_type": "execute_result",
          "data": {
            "text/plain": [
              "'pritesh'"
            ],
            "application/vnd.google.colaboratory.intrinsic+json": {
              "type": "string"
            }
          },
          "metadata": {},
          "execution_count": 45
        }
      ]
    },
    {
      "cell_type": "code",
      "source": [
        "age"
      ],
      "metadata": {
        "colab": {
          "base_uri": "https://localhost:8080/",
          "height": 35
        },
        "id": "7jEe6cggiZBo",
        "outputId": "25081eb5-bf85-4fdc-b4f6-1ce8d168f55a"
      },
      "execution_count": null,
      "outputs": [
        {
          "output_type": "execute_result",
          "data": {
            "text/plain": [
              "'26'"
            ],
            "application/vnd.google.colaboratory.intrinsic+json": {
              "type": "string"
            }
          },
          "metadata": {},
          "execution_count": 46
        }
      ]
    },
    {
      "cell_type": "code",
      "source": [
        "#printing out a greeting for our user\n",
        "print('hello', name, '!')"
      ],
      "metadata": {
        "colab": {
          "base_uri": "https://localhost:8080/"
        },
        "id": "0gsw5fdCicYh",
        "outputId": "771df2a6-5bf6-414d-aafb-991d880e5cf7"
      },
      "execution_count": null,
      "outputs": [
        {
          "output_type": "stream",
          "name": "stdout",
          "text": [
            "hello pritesh !\n"
          ]
        }
      ]
    },
    {
      "cell_type": "markdown",
      "source": [
        "That doen't look right. let's try to use string concatenation instead of commas to fix the position of the exclamation mark"
      ],
      "metadata": {
        "id": "oXktBexwi5Bg"
      }
    },
    {
      "cell_type": "code",
      "source": [
        "print('hello', name + '!')"
      ],
      "metadata": {
        "colab": {
          "base_uri": "https://localhost:8080/"
        },
        "id": "i8iGULr3jStP",
        "outputId": "d9d8a6f4-3db6-4751-810a-f086733dd4f8"
      },
      "execution_count": null,
      "outputs": [
        {
          "output_type": "stream",
          "name": "stdout",
          "text": [
            "hello pritesh!\n"
          ]
        }
      ]
    },
    {
      "cell_type": "markdown",
      "source": [
        "that isn't right as all the inputs received from the input() funciton are string"
      ],
      "metadata": {
        "id": "-lXqPKdBjfhy"
      }
    },
    {
      "cell_type": "code",
      "source": [
        "type(age)"
      ],
      "metadata": {
        "colab": {
          "base_uri": "https://localhost:8080/"
        },
        "id": "b5NSXFrIjfSu",
        "outputId": "47bcefed-ff13-4af1-ec0e-94882aa6a9e8"
      },
      "execution_count": null,
      "outputs": [
        {
          "output_type": "execute_result",
          "data": {
            "text/plain": [
              "str"
            ]
          },
          "metadata": {},
          "execution_count": 49
        }
      ]
    },
    {
      "cell_type": "markdown",
      "source": [
        "if we want to perform any arithmetic on our age variable we will need to typecast it to a numberic type"
      ],
      "metadata": {
        "id": "6x625AZgkFtE"
      }
    },
    {
      "cell_type": "code",
      "source": [
        "age_after_six_years = int(age) + 6"
      ],
      "metadata": {
        "id": "tOnEoIsbkBDS"
      },
      "execution_count": null,
      "outputs": []
    },
    {
      "cell_type": "code",
      "source": [
        "age_after_six_years"
      ],
      "metadata": {
        "colab": {
          "base_uri": "https://localhost:8080/"
        },
        "id": "8gRYZ3lEkoQU",
        "outputId": "a63a9b10-c784-4797-8536-ce2ab1eafd0e"
      },
      "execution_count": null,
      "outputs": [
        {
          "output_type": "execute_result",
          "data": {
            "text/plain": [
              "32"
            ]
          },
          "metadata": {},
          "execution_count": 51
        }
      ]
    },
    {
      "cell_type": "code",
      "source": [
        "#printing the age of the user with a message\n",
        "print('hello' , name + '! After six years, you will be', str(age_after_six_years)+ '!')"
      ],
      "metadata": {
        "colab": {
          "base_uri": "https://localhost:8080/"
        },
        "id": "T-K30aPpkwMG",
        "outputId": "699f40f2-a655-4ecd-9301-d6c2a2656abc"
      },
      "execution_count": null,
      "outputs": [
        {
          "output_type": "stream",
          "name": "stdout",
          "text": [
            "hello pritesh! After six years, you will be 32!\n"
          ]
        }
      ]
    },
    {
      "cell_type": "markdown",
      "source": [
        "looks like we're running into the same issue as before with the exciamation mark. let's convert it back into a string\n"
      ],
      "metadata": {
        "id": "u72GEhrBlkQL"
      }
    },
    {
      "cell_type": "code",
      "source": [
        "name = input('what is your name')\n",
        "age = int(input('how old are you'))"
      ],
      "metadata": {
        "colab": {
          "base_uri": "https://localhost:8080/"
        },
        "id": "Tro2ZzkenqAc",
        "outputId": "a8e8ce9c-8b93-4ebc-9f13-d45e60a2ba24"
      },
      "execution_count": null,
      "outputs": [
        {
          "name": "stdout",
          "output_type": "stream",
          "text": [
            "what is your namepritesh\n",
            "how old are you26\n"
          ]
        }
      ]
    },
    {
      "cell_type": "code",
      "source": [
        "print('hello', name + '! After six years, you will', str(age+6)+ '!')"
      ],
      "metadata": {
        "colab": {
          "base_uri": "https://localhost:8080/"
        },
        "id": "SJqVfxyYn7yp",
        "outputId": "9e2a0b96-d45c-4e4b-f7c2-a187f8be8898"
      },
      "execution_count": null,
      "outputs": [
        {
          "output_type": "stream",
          "name": "stdout",
          "text": [
            "hello pritesh! After six years, you will 32!\n"
          ]
        }
      ]
    },
    {
      "cell_type": "markdown",
      "source": [
        "if we don't want to use name and age again, we could simplify this even further by not assigning these valuse to any variables"
      ],
      "metadata": {
        "id": "rtb2tGwzkDHz"
      }
    },
    {
      "cell_type": "code",
      "source": [
        "print('hello',input('what is your name?')+ '! After six yoru, you will be',str(int(input('How old are you? '))+6)+ '!')"
      ],
      "metadata": {
        "colab": {
          "base_uri": "https://localhost:8080/"
        },
        "id": "luVbIyUBowNu",
        "outputId": "7d114ed3-c002-4dcf-e4b2-a6f8fc9707f7"
      },
      "execution_count": null,
      "outputs": [
        {
          "output_type": "stream",
          "name": "stdout",
          "text": [
            "what is your name?pritesh\n",
            "How old are you? 26\n",
            "hello pritesh! After six yoru, you will be 32!\n"
          ]
        }
      ]
    },
    {
      "cell_type": "markdown",
      "source": [
        "let's try something else. Let's try to check if the user inputs anything. if they do,we print True and if not, we print false"
      ],
      "metadata": {
        "id": "JhiJJUpAnpN1"
      }
    },
    {
      "cell_type": "code",
      "source": [
        "something = input('say something!')"
      ],
      "metadata": {
        "colab": {
          "base_uri": "https://localhost:8080/"
        },
        "id": "ik8BVBLYuSwC",
        "outputId": "46f89d8a-e72b-440e-8975-b00eb8e9f44c"
      },
      "execution_count": 12,
      "outputs": [
        {
          "name": "stdout",
          "output_type": "stream",
          "text": [
            "say something!\n"
          ]
        }
      ]
    },
    {
      "cell_type": "code",
      "source": [
        "something"
      ],
      "metadata": {
        "colab": {
          "base_uri": "https://localhost:8080/",
          "height": 35
        },
        "id": "889h51rhvzhi",
        "outputId": "7fb1e391-c092-4f66-e6a4-00ad18965161"
      },
      "execution_count": 13,
      "outputs": [
        {
          "output_type": "execute_result",
          "data": {
            "text/plain": [
              "''"
            ],
            "application/vnd.google.colaboratory.intrinsic+json": {
              "type": "string"
            }
          },
          "metadata": {},
          "execution_count": 13
        }
      ]
    },
    {
      "cell_type": "code",
      "source": [
        "print('Did the user say something? answer: ',bool(something))"
      ],
      "metadata": {
        "colab": {
          "base_uri": "https://localhost:8080/"
        },
        "id": "bOKHBV92u0ZC",
        "outputId": "42fe7428-307d-4b28-c1ce-a6c81e114510"
      },
      "execution_count": 14,
      "outputs": [
        {
          "output_type": "stream",
          "name": "stdout",
          "text": [
            "Did the user say something? answer:  False\n"
          ]
        }
      ]
    },
    {
      "cell_type": "markdown",
      "source": [
        "let's ask the user fo their age again, this time accepting decimals. we will tell them their age back in year months and days. to keep thing simple. let's assume that a month has 30 days"
      ],
      "metadata": {
        "id": "Chtnjxdqwu6_"
      }
    },
    {
      "cell_type": "code",
      "source": [
        "age = float(input('how old are you?'))"
      ],
      "metadata": {
        "colab": {
          "base_uri": "https://localhost:8080/"
        },
        "id": "H9aN3rmDwsdP",
        "outputId": "1a415e46-5cb3-4ac0-d143-63b19379829b"
      },
      "execution_count": 27,
      "outputs": [
        {
          "name": "stdout",
          "output_type": "stream",
          "text": [
            "how old are you?12\n"
          ]
        }
      ]
    },
    {
      "cell_type": "code",
      "source": [
        "months = (age - int(age)) * 12\n",
        "days = (months - int(months)) * 30"
      ],
      "metadata": {
        "id": "Ns7EeBvxxgj8"
      },
      "execution_count": 30,
      "outputs": []
    },
    {
      "cell_type": "code",
      "source": [
        "print('Hello! you are', int(age), 'year,', int(months),'months and ' , int(days), 'day old!')"
      ],
      "metadata": {
        "colab": {
          "base_uri": "https://localhost:8080/"
        },
        "id": "H-IWFcFCx1ZZ",
        "outputId": "48d017a4-abb4-4b6e-d994-b672ff470d95"
      },
      "execution_count": 31,
      "outputs": [
        {
          "output_type": "stream",
          "name": "stdout",
          "text": [
            "Hello! you are 12 year, 0 months and  0 day old!\n"
          ]
        }
      ]
    },
    {
      "cell_type": "code",
      "source": [
        "months"
      ],
      "metadata": {
        "colab": {
          "base_uri": "https://localhost:8080/"
        },
        "id": "EhCmru5s0eDy",
        "outputId": "d28cc6cc-8104-4ba0-c56c-60fb6b387a39"
      },
      "execution_count": 32,
      "outputs": [
        {
          "output_type": "execute_result",
          "data": {
            "text/plain": [
              "0.0"
            ]
          },
          "metadata": {},
          "execution_count": 32
        }
      ]
    },
    {
      "cell_type": "code",
      "source": [
        "days"
      ],
      "metadata": {
        "colab": {
          "base_uri": "https://localhost:8080/"
        },
        "id": "uLTpFUGh0gri",
        "outputId": "82dcbf88-edc3-44fc-d75b-51a3b6e9cdf6"
      },
      "execution_count": 33,
      "outputs": [
        {
          "output_type": "execute_result",
          "data": {
            "text/plain": [
              "0.0"
            ]
          },
          "metadata": {},
          "execution_count": 33
        }
      ]
    },
    {
      "cell_type": "code",
      "source": [
        "# Ask user to enter age\n",
        "age = float(input(\"Enter your age (example: 25.75): \"))\n",
        "\n",
        "# Calculate years\n",
        "years = int(age)\n",
        "\n",
        "# Calculate remaining months\n",
        "months_fraction = (age - years) * 12\n",
        "months = int(months_fraction)\n",
        "\n",
        "# Calculate remaining days\n",
        "days = int((months_fraction - months) * 30)\n",
        "\n",
        "# Print the result\n",
        "print(f\"\\nYou are {years} years, {months} months, and {days} days old.\")\n"
      ],
      "metadata": {
        "colab": {
          "base_uri": "https://localhost:8080/"
        },
        "id": "X2nUfyeD30rI",
        "outputId": "6ec58163-4640-49f0-ee8a-b382b35a3f0f"
      },
      "execution_count": 34,
      "outputs": [
        {
          "output_type": "stream",
          "name": "stdout",
          "text": [
            "Enter your age (example: 25.75): 25.75\n",
            "\n",
            "You are 25 years, 9 months, and 0 days old.\n"
          ]
        }
      ]
    },
    {
      "cell_type": "code",
      "source": [
        "age = float(input(\"Enter your age (example: 25.75): \"))"
      ],
      "metadata": {
        "colab": {
          "base_uri": "https://localhost:8080/"
        },
        "id": "p8NP69gK4zyk",
        "outputId": "91364f8a-5a0c-468d-9b12-7bfcc41bfbb0"
      },
      "execution_count": 35,
      "outputs": [
        {
          "name": "stdout",
          "output_type": "stream",
          "text": [
            "Enter your age (example: 25.75): 25.75\n"
          ]
        }
      ]
    },
    {
      "cell_type": "code",
      "source": [
        "months_fraction = (age - years) * 12"
      ],
      "metadata": {
        "id": "pkG2VEPg47_G"
      },
      "execution_count": 36,
      "outputs": []
    },
    {
      "cell_type": "code",
      "source": [
        "months_fraction"
      ],
      "metadata": {
        "colab": {
          "base_uri": "https://localhost:8080/"
        },
        "id": "IqEZmLAx5EcR",
        "outputId": "887c648b-9fb4-4996-b5c0-8272818751b4"
      },
      "execution_count": 37,
      "outputs": [
        {
          "output_type": "execute_result",
          "data": {
            "text/plain": [
              "9.0"
            ]
          },
          "metadata": {},
          "execution_count": 37
        }
      ]
    },
    {
      "cell_type": "code",
      "source": [],
      "metadata": {
        "id": "lNrTnNwR57wn"
      },
      "execution_count": null,
      "outputs": []
    },
    {
      "cell_type": "code",
      "source": [
        "#assu\n",
        "These are **augmented assignment operators** in Python. They perform an operation and then assign the result back to the variable in one step.\n",
        "\n",
        "Here’s what each one does with examples:\n",
        "\n",
        "---\n",
        "\n",
        "### 🟩 1. **Assign (`=`)**\n",
        "\n",
        "Assigns a value to a variable.\n",
        "\n",
        "```python\n",
        "x = 5   # x is now 5\n",
        "```\n",
        "\n",
        "---\n",
        "\n",
        "### 🟨 2. **Add and Assign (`+=`)**\n",
        "\n",
        "Adds and then assigns the result.\n",
        "\n",
        "```python\n",
        "x = 5\n",
        "x += 3   # x = x + 3 → x becomes 8\n",
        "```\n",
        "\n",
        "---\n",
        "\n",
        "### 🟥 3. **Subtract and Assign (`-=`)**\n",
        "\n",
        "Subtracts and then assigns the result.\n",
        "\n",
        "```python\n",
        "x = 8\n",
        "x -= 2   # x = x - 2 → x becomes 6\n",
        "```\n",
        "\n",
        "---\n",
        "\n",
        "### 🟦 4. **Multiply and Assign (`*=`)**\n",
        "\n",
        "Multiplies and then assigns the result.\n",
        "\n",
        "```python\n",
        "x = 6\n",
        "x *= 2   # x = x * 2 → x becomes 12\n",
        "```\n",
        "\n",
        "---\n",
        "\n",
        "### 🟧 5. **Divide and Assign (`/=`)**\n",
        "\n",
        "Divides and then assigns the result (returns float).\n",
        "\n",
        "```python\n",
        "x = 12\n",
        "x /= 3   # x = x / 3 → x becomes 4.0\n",
        "```\n",
        "\n",
        "---\n",
        "\n",
        "### 🟫 6. **Floor Divide and Assign (`//=`)**\n",
        "\n",
        "Performs floor division and assigns the result (ignores remainder).\n",
        "\n",
        "```python\n",
        "x = 10\n",
        "x //= 3   # x = x // 3 → x becomes 3\n",
        "```\n",
        "\n",
        "---\n",
        "\n",
        "### ⬛ 7. **Modulus and Assign (`%=`)**\n",
        "\n",
        "Finds the remainder and assigns it.\n",
        "\n",
        "```python\n",
        "x = 10\n",
        "x %= 3   # x = x % 3 → x becomes 1\n",
        "```\n",
        "\n",
        "---\n",
        "\n",
        "### 🟪 8. **Exponentiate and Assign (`**=`)**\n",
        "\n",
        "Raises to the power and assigns the result.\n",
        "\n",
        "```python\n",
        "x = 2\n",
        "x **= 3   # x = x ** 3 → x becomes 8\n",
        "```\n",
        "\n",
        "---\n",
        "\n",
        "Let me know if you’d like a practice quiz or exercises on this!\n"
      ],
      "metadata": {
        "colab": {
          "base_uri": "https://localhost:8080/",
          "height": 106
        },
        "id": "-5oG-Db86B0I",
        "outputId": "7e8af1e3-4e9c-4986-8778-b43a46c60923"
      },
      "execution_count": 38,
      "outputs": [
        {
          "output_type": "error",
          "ename": "SyntaxError",
          "evalue": "invalid character '’' (U+2019) (<ipython-input-38-3f6a7daf7de5>, line 4)",
          "traceback": [
            "\u001b[0;36m  File \u001b[0;32m\"<ipython-input-38-3f6a7daf7de5>\"\u001b[0;36m, line \u001b[0;32m4\u001b[0m\n\u001b[0;31m    Here’s what each one does with examples:\u001b[0m\n\u001b[0m        ^\u001b[0m\n\u001b[0;31mSyntaxError\u001b[0m\u001b[0;31m:\u001b[0m invalid character '’' (U+2019)\n"
          ]
        }
      ]
    }
  ]
}