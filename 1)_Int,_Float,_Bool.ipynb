{
  "cells": [
    {
      "cell_type": "markdown",
      "metadata": {
        "id": "view-in-github",
        "colab_type": "text"
      },
      "source": [
        "<a href=\"https://colab.research.google.com/github/PRITESHDAYAT/Priteshfiledemo/blob/main/1)_Int%2C_Float%2C_Bool.ipynb\" target=\"_parent\"><img src=\"https://colab.research.google.com/assets/colab-badge.svg\" alt=\"Open In Colab\"/></a>"
      ]
    },
    {
      "cell_type": "code",
      "execution_count": null,
      "id": "bb96412f-ec4d-4c6b-a34a-f75712194a16",
      "metadata": {
        "id": "bb96412f-ec4d-4c6b-a34a-f75712194a16"
      },
      "outputs": [],
      "source": [
        "# basic data types -> int float str bool"
      ]
    },
    {
      "cell_type": "code",
      "execution_count": null,
      "id": "4f0af59a-dd09-44c8-9cee-681d980cd4cd",
      "metadata": {
        "id": "4f0af59a-dd09-44c8-9cee-681d980cd4cd"
      },
      "outputs": [],
      "source": [
        "# What is an integer?\n",
        "# number without decimals"
      ]
    },
    {
      "cell_type": "code",
      "execution_count": null,
      "id": "04b4d7e8-3820-4ae1-90fd-f89d2ffa04df",
      "metadata": {
        "id": "04b4d7e8-3820-4ae1-90fd-f89d2ffa04df"
      },
      "outputs": [],
      "source": [
        "a = 1\n",
        "# im assigning the value 1 to the variable a"
      ]
    },
    {
      "cell_type": "code",
      "execution_count": null,
      "id": "cad2f17f-796c-49e3-90b9-c6a087aa1ac6",
      "metadata": {
        "id": "cad2f17f-796c-49e3-90b9-c6a087aa1ac6"
      },
      "outputs": [],
      "source": [
        "# -> comments"
      ]
    },
    {
      "cell_type": "code",
      "execution_count": null,
      "id": "d9458ece-84ec-4185-ae6d-cbbda3dda8f3",
      "metadata": {
        "id": "d9458ece-84ec-4185-ae6d-cbbda3dda8f3",
        "outputId": "0e2748a6-6ad0-4cd5-a50d-b56df88af33f"
      },
      "outputs": [
        {
          "name": "stdout",
          "output_type": "stream",
          "text": [
            "1\n"
          ]
        }
      ],
      "source": [
        "print(a)"
      ]
    },
    {
      "cell_type": "code",
      "execution_count": null,
      "id": "a1b35328-0477-4654-84a4-a4cc168c1bf8",
      "metadata": {
        "id": "a1b35328-0477-4654-84a4-a4cc168c1bf8",
        "outputId": "8f096847-2871-44ec-f2d6-ac817dd5810e"
      },
      "outputs": [
        {
          "data": {
            "text/plain": [
              "int"
            ]
          },
          "execution_count": 14,
          "metadata": {},
          "output_type": "execute_result"
        }
      ],
      "source": [
        "type(a) #data type of variable a"
      ]
    },
    {
      "cell_type": "code",
      "execution_count": null,
      "id": "83fdd92b-2f7b-4ea8-8ffd-3be8f05e2653",
      "metadata": {
        "id": "83fdd92b-2f7b-4ea8-8ffd-3be8f05e2653"
      },
      "outputs": [],
      "source": []
    },
    {
      "cell_type": "code",
      "execution_count": null,
      "id": "55840048-5772-4301-96c4-430346dbb859",
      "metadata": {
        "id": "55840048-5772-4301-96c4-430346dbb859",
        "outputId": "ce4e3a46-b059-49df-c6fb-6f397ff05237"
      },
      "outputs": [
        {
          "name": "stdout",
          "output_type": "stream",
          "text": [
            "20\n"
          ]
        }
      ],
      "source": [
        "a2 = 20\n",
        "print(a2)"
      ]
    },
    {
      "cell_type": "code",
      "execution_count": null,
      "id": "dd815f75-e8da-4a32-8c91-0f923c77d786",
      "metadata": {
        "id": "dd815f75-e8da-4a32-8c91-0f923c77d786",
        "outputId": "286239aa-7c7b-4410-ba00-3705683ee02e"
      },
      "outputs": [
        {
          "name": "stdout",
          "output_type": "stream",
          "text": [
            "100\n"
          ]
        }
      ],
      "source": [
        "z1 = 100\n",
        "print(z1)"
      ]
    },
    {
      "cell_type": "code",
      "execution_count": null,
      "id": "476a249c-af15-4f99-997c-45d49230b933",
      "metadata": {
        "id": "476a249c-af15-4f99-997c-45d49230b933"
      },
      "outputs": [],
      "source": []
    },
    {
      "cell_type": "code",
      "execution_count": null,
      "id": "5970b929-fe37-4eb3-a875-348ad3b2edb6",
      "metadata": {
        "id": "5970b929-fe37-4eb3-a875-348ad3b2edb6",
        "outputId": "ff527814-f538-461c-f3df-7af19c9031ef"
      },
      "outputs": [
        {
          "ename": "SyntaxError",
          "evalue": "invalid decimal literal (2354822048.py, line 1)",
          "output_type": "error",
          "traceback": [
            "\u001b[0;36m  Cell \u001b[0;32mIn[20], line 1\u001b[0;36m\u001b[0m\n\u001b[0;31m    1a = 20\u001b[0m\n\u001b[0m    ^\u001b[0m\n\u001b[0;31mSyntaxError\u001b[0m\u001b[0;31m:\u001b[0m invalid decimal literal\n"
          ]
        }
      ],
      "source": [
        "1a = 20"
      ]
    },
    {
      "cell_type": "code",
      "execution_count": null,
      "id": "9d595e01-7a32-4616-8425-d34d5864d9c5",
      "metadata": {
        "id": "9d595e01-7a32-4616-8425-d34d5864d9c5",
        "outputId": "383dc570-d4e3-476e-9e6d-73ae9944ae25"
      },
      "outputs": [
        {
          "ename": "SyntaxError",
          "evalue": "invalid syntax (841217349.py, line 1)",
          "output_type": "error",
          "traceback": [
            "\u001b[0;36m  Cell \u001b[0;32mIn[22], line 1\u001b[0;36m\u001b[0m\n\u001b[0;31m    a b = 20\u001b[0m\n\u001b[0m      ^\u001b[0m\n\u001b[0;31mSyntaxError\u001b[0m\u001b[0;31m:\u001b[0m invalid syntax\n"
          ]
        }
      ],
      "source": [
        "a b = 20"
      ]
    },
    {
      "cell_type": "code",
      "execution_count": null,
      "id": "3931d7f3-6448-4d52-8420-ed029dbf6194",
      "metadata": {
        "id": "3931d7f3-6448-4d52-8420-ed029dbf6194"
      },
      "outputs": [],
      "source": []
    },
    {
      "cell_type": "code",
      "execution_count": null,
      "id": "4adffb20-9b64-430b-bd1e-ce095c1a42e2",
      "metadata": {
        "id": "4adffb20-9b64-430b-bd1e-ce095c1a42e2"
      },
      "outputs": [],
      "source": []
    },
    {
      "cell_type": "code",
      "execution_count": null,
      "id": "0b59461b-925a-4991-b083-4ff82dabb382",
      "metadata": {
        "id": "0b59461b-925a-4991-b083-4ff82dabb382"
      },
      "outputs": [],
      "source": [
        "a = 1\n",
        "a = 2\n",
        "a = 3\n",
        "a = 4\n",
        "a = 5\n",
        "a = 6"
      ]
    },
    {
      "cell_type": "code",
      "execution_count": null,
      "id": "516a07d7-5073-4595-a182-823f9944b609",
      "metadata": {
        "id": "516a07d7-5073-4595-a182-823f9944b609",
        "outputId": "08e44fdf-11fa-4869-845b-db817891e41c"
      },
      "outputs": [
        {
          "name": "stdout",
          "output_type": "stream",
          "text": [
            "4\n"
          ]
        }
      ],
      "source": [
        "print(A) # python is a case sensitive language!"
      ]
    },
    {
      "cell_type": "code",
      "execution_count": null,
      "id": "1e35db8d-fd3a-4a0d-840d-76075e0b0435",
      "metadata": {
        "id": "1e35db8d-fd3a-4a0d-840d-76075e0b0435"
      },
      "outputs": [],
      "source": [
        "# A, a - 2 different variables"
      ]
    },
    {
      "cell_type": "code",
      "execution_count": null,
      "id": "f6664d3e-1f99-4ef6-824e-000eb83c634e",
      "metadata": {
        "id": "f6664d3e-1f99-4ef6-824e-000eb83c634e",
        "outputId": "a7c20ddf-aeb1-4891-d723-38ee55e2997c"
      },
      "outputs": [
        {
          "name": "stdout",
          "output_type": "stream",
          "text": [
            "6\n"
          ]
        }
      ],
      "source": [
        "print(a)"
      ]
    },
    {
      "cell_type": "code",
      "execution_count": null,
      "id": "5ac79c8a-3e03-44ab-a5a2-aa82c718b60b",
      "metadata": {
        "id": "5ac79c8a-3e03-44ab-a5a2-aa82c718b60b"
      },
      "outputs": [],
      "source": []
    },
    {
      "cell_type": "code",
      "execution_count": null,
      "id": "c20f33af-e729-4150-be18-ef5abe8433e2",
      "metadata": {
        "id": "c20f33af-e729-4150-be18-ef5abe8433e2"
      },
      "outputs": [],
      "source": [
        "a = 1\n",
        "a = 2\n",
        "a = 3\n",
        "A = 4\n",
        "a = A"
      ]
    },
    {
      "cell_type": "code",
      "execution_count": null,
      "id": "26e18ca1-0895-425c-95a9-40200a5d2680",
      "metadata": {
        "id": "26e18ca1-0895-425c-95a9-40200a5d2680",
        "outputId": "43fd9ca8-c002-4425-fd14-aee64c271806"
      },
      "outputs": [
        {
          "name": "stdout",
          "output_type": "stream",
          "text": [
            "4\n"
          ]
        }
      ],
      "source": [
        "print(A)"
      ]
    },
    {
      "cell_type": "code",
      "execution_count": null,
      "id": "96451ba0-2d5a-479d-864a-79a68aff2fc4",
      "metadata": {
        "id": "96451ba0-2d5a-479d-864a-79a68aff2fc4",
        "outputId": "d90bf6cd-4a51-4b8a-f523-83d5edae39a5"
      },
      "outputs": [
        {
          "name": "stdout",
          "output_type": "stream",
          "text": [
            "4\n"
          ]
        }
      ],
      "source": [
        "print(a)"
      ]
    },
    {
      "cell_type": "code",
      "execution_count": null,
      "id": "11c12b81-d31c-4303-a3c8-c78a8a34032f",
      "metadata": {
        "id": "11c12b81-d31c-4303-a3c8-c78a8a34032f"
      },
      "outputs": [],
      "source": []
    },
    {
      "cell_type": "code",
      "execution_count": null,
      "id": "5028c86b-0438-4db6-b172-7d8661feade5",
      "metadata": {
        "id": "5028c86b-0438-4db6-b172-7d8661feade5"
      },
      "outputs": [],
      "source": [
        "# floats : numbers with decimals!"
      ]
    },
    {
      "cell_type": "code",
      "execution_count": null,
      "id": "19e76c82-bbcd-4a9b-8423-946cd75758a5",
      "metadata": {
        "id": "19e76c82-bbcd-4a9b-8423-946cd75758a5",
        "outputId": "8fae2bcf-be08-4f81-d6e0-87380633f2a9"
      },
      "outputs": [
        {
          "name": "stdout",
          "output_type": "stream",
          "text": [
            "100.23\n"
          ]
        }
      ],
      "source": [
        "a = 100.23\n",
        "print(a)"
      ]
    },
    {
      "cell_type": "code",
      "execution_count": null,
      "id": "e09c5fd8-c853-4c72-bde0-a21aeee57277",
      "metadata": {
        "id": "e09c5fd8-c853-4c72-bde0-a21aeee57277",
        "outputId": "43448fcc-4411-4a34-df8e-f33c69ecdbb5"
      },
      "outputs": [
        {
          "data": {
            "text/plain": [
              "float"
            ]
          },
          "execution_count": 63,
          "metadata": {},
          "output_type": "execute_result"
        }
      ],
      "source": [
        "type(a) # datatype of var a"
      ]
    },
    {
      "cell_type": "code",
      "execution_count": null,
      "id": "5d8890da-8292-47c9-a8e8-c5618b106934",
      "metadata": {
        "id": "5d8890da-8292-47c9-a8e8-c5618b106934",
        "outputId": "61f492b8-0f8e-46d5-d296-964af6edbc48"
      },
      "outputs": [
        {
          "name": "stdout",
          "output_type": "stream",
          "text": [
            "200.42\n"
          ]
        }
      ],
      "source": [
        "a2 = 200.42\n",
        "print(a2)"
      ]
    },
    {
      "cell_type": "code",
      "execution_count": null,
      "id": "019ab941-1667-4b16-b95c-84059964c558",
      "metadata": {
        "id": "019ab941-1667-4b16-b95c-84059964c558",
        "outputId": "f174c542-3f09-4768-fda7-15ddbdf31a84"
      },
      "outputs": [
        {
          "data": {
            "text/plain": [
              "float"
            ]
          },
          "execution_count": 67,
          "metadata": {},
          "output_type": "execute_result"
        }
      ],
      "source": [
        "type(a2)"
      ]
    },
    {
      "cell_type": "code",
      "execution_count": null,
      "id": "f7ab49dd-d463-47b2-91e3-d5dbe096472f",
      "metadata": {
        "id": "f7ab49dd-d463-47b2-91e3-d5dbe096472f"
      },
      "outputs": [],
      "source": []
    },
    {
      "cell_type": "code",
      "execution_count": null,
      "id": "46a97b99-220d-41c7-bf12-db2535a87bc0",
      "metadata": {
        "id": "46a97b99-220d-41c7-bf12-db2535a87bc0"
      },
      "outputs": [],
      "source": [
        "# can we convert float to int?\n",
        "# converting 1 datatype to another datatype => typecasting!"
      ]
    },
    {
      "cell_type": "code",
      "execution_count": null,
      "id": "05740b44-7d7d-4ceb-bfaa-0fddaf03a7ba",
      "metadata": {
        "id": "05740b44-7d7d-4ceb-bfaa-0fddaf03a7ba"
      },
      "outputs": [],
      "source": [
        "a3 = 100.01"
      ]
    },
    {
      "cell_type": "code",
      "execution_count": null,
      "id": "f6e762b9-70a5-47c7-8496-fd37d9787f7e",
      "metadata": {
        "id": "f6e762b9-70a5-47c7-8496-fd37d9787f7e",
        "outputId": "be07903e-c4be-4674-d9c3-363689607e9f"
      },
      "outputs": [
        {
          "name": "stdout",
          "output_type": "stream",
          "text": [
            "100\n"
          ]
        }
      ],
      "source": [
        "a3_int = int(a3)\n",
        "print(a3_int)"
      ]
    },
    {
      "cell_type": "code",
      "execution_count": null,
      "id": "18a7e3cc-78fe-445d-9589-4a95cac70653",
      "metadata": {
        "id": "18a7e3cc-78fe-445d-9589-4a95cac70653"
      },
      "outputs": [],
      "source": []
    },
    {
      "cell_type": "code",
      "execution_count": null,
      "id": "30e7c7d8-a4f4-4e99-8c9c-1a3dd5c86c69",
      "metadata": {
        "id": "30e7c7d8-a4f4-4e99-8c9c-1a3dd5c86c69"
      },
      "outputs": [],
      "source": [
        "a7 = 100"
      ]
    },
    {
      "cell_type": "code",
      "execution_count": null,
      "id": "fb1a055e-558f-4a0a-9886-7aaa329c1a1f",
      "metadata": {
        "id": "fb1a055e-558f-4a0a-9886-7aaa329c1a1f",
        "outputId": "b5be2020-d598-45d7-face-5ddbb6377caa"
      },
      "outputs": [
        {
          "data": {
            "text/plain": [
              "100.0"
            ]
          },
          "execution_count": 77,
          "metadata": {},
          "output_type": "execute_result"
        }
      ],
      "source": [
        "a7_float = float(a7)\n",
        "a7_float"
      ]
    },
    {
      "cell_type": "code",
      "execution_count": null,
      "id": "eafdf2a1-6e45-4731-ba49-eea452f54c83",
      "metadata": {
        "id": "eafdf2a1-6e45-4731-ba49-eea452f54c83"
      },
      "outputs": [],
      "source": []
    },
    {
      "cell_type": "code",
      "execution_count": null,
      "id": "f091de6b-5ca0-4708-8767-ba1ee55432fc",
      "metadata": {
        "id": "f091de6b-5ca0-4708-8767-ba1ee55432fc",
        "outputId": "2f2d4ad1-8d6d-472b-cda7-eb1df687fa8c"
      },
      "outputs": [
        {
          "data": {
            "text/plain": [
              "4.0"
            ]
          },
          "execution_count": 81,
          "metadata": {},
          "output_type": "execute_result"
        }
      ],
      "source": [
        "5.0 - 1 # float - int # subtraction\n",
        "# a) 4.0\n",
        "# b) 4"
      ]
    },
    {
      "cell_type": "code",
      "execution_count": null,
      "id": "6993f34a-bec0-431f-a287-1b14efcc0335",
      "metadata": {
        "id": "6993f34a-bec0-431f-a287-1b14efcc0335",
        "outputId": "7dd1f130-0c7f-4fc6-bde8-9296a39cab97"
      },
      "outputs": [
        {
          "data": {
            "text/plain": [
              "6.0"
            ]
          },
          "execution_count": 83,
          "metadata": {},
          "output_type": "execute_result"
        }
      ],
      "source": [
        "2 + 4.0"
      ]
    },
    {
      "cell_type": "code",
      "execution_count": null,
      "id": "73795fd3-e2f1-4f48-8a4f-d55655e0a6dc",
      "metadata": {
        "id": "73795fd3-e2f1-4f48-8a4f-d55655e0a6dc",
        "outputId": "9d0efe1c-1664-4e44-cee0-2f22dc136c72"
      },
      "outputs": [
        {
          "data": {
            "text/plain": [
              "12.0"
            ]
          },
          "execution_count": 85,
          "metadata": {},
          "output_type": "execute_result"
        }
      ],
      "source": [
        "4*3.0"
      ]
    },
    {
      "cell_type": "code",
      "execution_count": null,
      "id": "03b01dfa-d999-4696-81a9-74286ef68f05",
      "metadata": {
        "id": "03b01dfa-d999-4696-81a9-74286ef68f05",
        "outputId": "0cc830bf-56c2-44ce-ff1d-5d09815c1be0"
      },
      "outputs": [
        {
          "data": {
            "text/plain": [
              "5.4"
            ]
          },
          "execution_count": 87,
          "metadata": {},
          "output_type": "execute_result"
        }
      ],
      "source": [
        "27/5"
      ]
    },
    {
      "cell_type": "code",
      "execution_count": null,
      "id": "37537520-c326-4b81-8579-cf2633498763",
      "metadata": {
        "id": "37537520-c326-4b81-8579-cf2633498763"
      },
      "outputs": [],
      "source": []
    },
    {
      "cell_type": "code",
      "execution_count": null,
      "id": "18d8405d-0787-4c3c-888b-03c4ae856a64",
      "metadata": {
        "id": "18d8405d-0787-4c3c-888b-03c4ae856a64",
        "outputId": "d8bf6096-8c1d-4588-d208-187c3e14e6bc"
      },
      "outputs": [
        {
          "data": {
            "text/plain": [
              "10"
            ]
          },
          "execution_count": 89,
          "metadata": {},
          "output_type": "execute_result"
        }
      ],
      "source": [
        "# -- #\n",
        "5*2"
      ]
    },
    {
      "cell_type": "code",
      "execution_count": null,
      "id": "a1370bc7-943c-4335-9c67-8c758f3f7c22",
      "metadata": {
        "id": "a1370bc7-943c-4335-9c67-8c758f3f7c22",
        "outputId": "455d79a4-d711-40d8-80ec-3bf26099ed02"
      },
      "outputs": [
        {
          "data": {
            "text/plain": [
              "25"
            ]
          },
          "execution_count": 91,
          "metadata": {},
          "output_type": "execute_result"
        }
      ],
      "source": [
        "5**2 #5^2"
      ]
    },
    {
      "cell_type": "code",
      "execution_count": null,
      "id": "f878b1e9-9bae-45b9-8b0f-acbab142155c",
      "metadata": {
        "id": "f878b1e9-9bae-45b9-8b0f-acbab142155c",
        "outputId": "010e9630-3f5d-407b-c03c-b77f2eb63441"
      },
      "outputs": [
        {
          "data": {
            "text/plain": [
              "125"
            ]
          },
          "execution_count": 93,
          "metadata": {},
          "output_type": "execute_result"
        }
      ],
      "source": [
        "5**3 #5^3"
      ]
    },
    {
      "cell_type": "code",
      "execution_count": null,
      "id": "9c9bdb23-91d0-406d-ba1f-b9f4f4f1d4a1",
      "metadata": {
        "id": "9c9bdb23-91d0-406d-ba1f-b9f4f4f1d4a1",
        "outputId": "8e64aa48-6a51-485b-eece-7a409ec3ecc6"
      },
      "outputs": [
        {
          "data": {
            "text/plain": [
              "2"
            ]
          },
          "execution_count": 95,
          "metadata": {},
          "output_type": "execute_result"
        }
      ],
      "source": [
        "# -- #\n",
        "27%5"
      ]
    },
    {
      "cell_type": "code",
      "execution_count": null,
      "id": "a5376d21-cc21-450f-9dcd-73d64a0b72cc",
      "metadata": {
        "id": "a5376d21-cc21-450f-9dcd-73d64a0b72cc",
        "outputId": "72e609b5-84ae-48d6-c866-6c134195a5dc"
      },
      "outputs": [
        {
          "data": {
            "text/plain": [
              "4"
            ]
          },
          "execution_count": 97,
          "metadata": {},
          "output_type": "execute_result"
        }
      ],
      "source": [
        "9%5"
      ]
    },
    {
      "cell_type": "code",
      "execution_count": null,
      "id": "276525cd-28fc-4e4a-b5ed-6efeb1a77f04",
      "metadata": {
        "id": "276525cd-28fc-4e4a-b5ed-6efeb1a77f04"
      },
      "outputs": [],
      "source": []
    },
    {
      "cell_type": "code",
      "execution_count": null,
      "id": "b688eb62-69d6-4e25-a95e-4c7b9d9ae163",
      "metadata": {
        "id": "b688eb62-69d6-4e25-a95e-4c7b9d9ae163"
      },
      "outputs": [],
      "source": [
        "# -- #"
      ]
    },
    {
      "cell_type": "code",
      "execution_count": null,
      "id": "c7880d57-f2ae-405f-84e7-53b0595581a3",
      "metadata": {
        "id": "c7880d57-f2ae-405f-84e7-53b0595581a3",
        "outputId": "cd5a6e2b-e67d-4a20-d9e3-6425e12b29fc"
      },
      "outputs": [
        {
          "data": {
            "text/plain": [
              "5.4"
            ]
          },
          "execution_count": 99,
          "metadata": {},
          "output_type": "execute_result"
        }
      ],
      "source": [
        "27/5"
      ]
    },
    {
      "cell_type": "code",
      "execution_count": null,
      "id": "2f83237b-22d3-462f-8ada-3e1de7694112",
      "metadata": {
        "id": "2f83237b-22d3-462f-8ada-3e1de7694112",
        "outputId": "c42e3cb1-c035-402e-9ebf-3aeb69f40b97"
      },
      "outputs": [
        {
          "data": {
            "text/plain": [
              "5"
            ]
          },
          "execution_count": 101,
          "metadata": {},
          "output_type": "execute_result"
        }
      ],
      "source": [
        "27//5 # floor division"
      ]
    },
    {
      "cell_type": "code",
      "execution_count": null,
      "id": "707b9459-3849-4bee-a76d-691c94ed7921",
      "metadata": {
        "id": "707b9459-3849-4bee-a76d-691c94ed7921"
      },
      "outputs": [],
      "source": []
    },
    {
      "cell_type": "code",
      "execution_count": null,
      "id": "60a13dd3-a081-4854-a31b-0f607e18da9f",
      "metadata": {
        "id": "60a13dd3-a081-4854-a31b-0f607e18da9f"
      },
      "outputs": [],
      "source": [
        "# Booleans : are a result of logical statements!"
      ]
    },
    {
      "cell_type": "code",
      "execution_count": null,
      "id": "6b5f631b-9410-440e-98ef-27c0f67233aa",
      "metadata": {
        "id": "6b5f631b-9410-440e-98ef-27c0f67233aa",
        "outputId": "375d68cf-3c71-416e-881a-f2deec96bb2b"
      },
      "outputs": [
        {
          "data": {
            "text/plain": [
              "False"
            ]
          },
          "execution_count": 107,
          "metadata": {},
          "output_type": "execute_result"
        }
      ],
      "source": [
        "10 > 100"
      ]
    },
    {
      "cell_type": "code",
      "execution_count": null,
      "id": "e87dfe40-a0e4-406e-8190-b3e15cc7d183",
      "metadata": {
        "id": "e87dfe40-a0e4-406e-8190-b3e15cc7d183",
        "outputId": "14d782a2-b7a3-404e-b283-839403f5efbe"
      },
      "outputs": [
        {
          "data": {
            "text/plain": [
              "True"
            ]
          },
          "execution_count": 109,
          "metadata": {},
          "output_type": "execute_result"
        }
      ],
      "source": [
        "10000 > 1.00"
      ]
    },
    {
      "cell_type": "code",
      "execution_count": null,
      "id": "65b0b182-a8c2-4aa4-af0f-5539d8bf9528",
      "metadata": {
        "id": "65b0b182-a8c2-4aa4-af0f-5539d8bf9528",
        "outputId": "eb579b02-4ed7-492b-eaa8-d615b6a1268f"
      },
      "outputs": [
        {
          "data": {
            "text/plain": [
              "True"
            ]
          },
          "execution_count": 111,
          "metadata": {},
          "output_type": "execute_result"
        }
      ],
      "source": [
        "50 >= 50"
      ]
    },
    {
      "cell_type": "code",
      "execution_count": null,
      "id": "093abf11-7ecd-4f2c-9a23-767a65592e8d",
      "metadata": {
        "id": "093abf11-7ecd-4f2c-9a23-767a65592e8d",
        "outputId": "d1b50fd7-1add-4e94-e9e3-756993b1f9f7"
      },
      "outputs": [
        {
          "data": {
            "text/plain": [
              "True"
            ]
          },
          "execution_count": 113,
          "metadata": {},
          "output_type": "execute_result"
        }
      ],
      "source": [
        "40 <= 40"
      ]
    },
    {
      "cell_type": "code",
      "execution_count": null,
      "id": "083c7a06-61cc-46cf-ab4d-3483ab8a03ce",
      "metadata": {
        "id": "083c7a06-61cc-46cf-ab4d-3483ab8a03ce"
      },
      "outputs": [],
      "source": [
        "# >  : greater than\n",
        "# <  : less than\n",
        "# >= : greater equal\n",
        "# <= : less equal"
      ]
    },
    {
      "cell_type": "code",
      "execution_count": null,
      "id": "206c7328-9855-4635-8a77-fc5e0df47a8f",
      "metadata": {
        "id": "206c7328-9855-4635-8a77-fc5e0df47a8f"
      },
      "outputs": [],
      "source": [
        "a = 100\n",
        "b = 200"
      ]
    },
    {
      "cell_type": "code",
      "execution_count": null,
      "id": "0bd10cac-3352-4564-93a1-c6e1de6c27bc",
      "metadata": {
        "id": "0bd10cac-3352-4564-93a1-c6e1de6c27bc",
        "outputId": "25c87dd4-6c29-41e9-ff12-f111d85275ae"
      },
      "outputs": [
        {
          "data": {
            "text/plain": [
              "False"
            ]
          },
          "execution_count": 119,
          "metadata": {},
          "output_type": "execute_result"
        }
      ],
      "source": [
        "a == b\n",
        "# == : equality operator! is a equal to b?"
      ]
    },
    {
      "cell_type": "code",
      "execution_count": null,
      "id": "b9f7530e-7800-4cef-8ed8-ea3f966ef7c4",
      "metadata": {
        "id": "b9f7530e-7800-4cef-8ed8-ea3f966ef7c4",
        "outputId": "0675973e-c46e-483d-cda2-6830787d084f"
      },
      "outputs": [
        {
          "data": {
            "text/plain": [
              "True"
            ]
          },
          "execution_count": 121,
          "metadata": {},
          "output_type": "execute_result"
        }
      ],
      "source": [
        "a != b\n",
        "# != : inequality operator! is a not equal to b?"
      ]
    },
    {
      "cell_type": "code",
      "execution_count": null,
      "id": "f38f9127-7ad0-47d2-ab66-6d5c80b72390",
      "metadata": {
        "id": "f38f9127-7ad0-47d2-ab66-6d5c80b72390"
      },
      "outputs": [],
      "source": []
    },
    {
      "cell_type": "code",
      "execution_count": null,
      "id": "58bb4325-4426-44d2-8be6-a79ec7b81092",
      "metadata": {
        "id": "58bb4325-4426-44d2-8be6-a79ec7b81092"
      },
      "outputs": [],
      "source": [
        "# and operator!"
      ]
    },
    {
      "cell_type": "code",
      "execution_count": null,
      "id": "5b3bd43a-6e16-4bfb-8212-af27c9dafbb9",
      "metadata": {
        "id": "5b3bd43a-6e16-4bfb-8212-af27c9dafbb9",
        "outputId": "92e78251-a09b-4980-8bea-bba996218a43"
      },
      "outputs": [
        {
          "name": "stdout",
          "output_type": "stream",
          "text": [
            "True\n"
          ]
        }
      ],
      "source": [
        "print(10>4 and 10>3)"
      ]
    },
    {
      "cell_type": "code",
      "execution_count": null,
      "id": "c6fc3a67-372d-4ef8-8cc5-4e327fcebc61",
      "metadata": {
        "id": "c6fc3a67-372d-4ef8-8cc5-4e327fcebc61",
        "outputId": "987cbe82-b478-4ad5-fcff-c22efe204a5c"
      },
      "outputs": [
        {
          "name": "stdout",
          "output_type": "stream",
          "text": [
            "False\n"
          ]
        }
      ],
      "source": [
        "print(10>4 and 3>100)"
      ]
    },
    {
      "cell_type": "code",
      "execution_count": null,
      "id": "041daa48-3bbe-4fa5-aa27-7919a0188e6d",
      "metadata": {
        "id": "041daa48-3bbe-4fa5-aa27-7919a0188e6d",
        "outputId": "31983997-68f2-4bc3-bb14-a0cdcba01c56"
      },
      "outputs": [
        {
          "name": "stdout",
          "output_type": "stream",
          "text": [
            "False\n"
          ]
        }
      ],
      "source": [
        "print(10>400 and 3>100)"
      ]
    },
    {
      "cell_type": "code",
      "execution_count": null,
      "id": "bef7ad2e-cc0d-47bb-9941-af1c6ff3d751",
      "metadata": {
        "id": "bef7ad2e-cc0d-47bb-9941-af1c6ff3d751"
      },
      "outputs": [],
      "source": []
    },
    {
      "cell_type": "code",
      "execution_count": null,
      "id": "88604677-d673-4e91-b035-8cdd08fe6deb",
      "metadata": {
        "id": "88604677-d673-4e91-b035-8cdd08fe6deb"
      },
      "outputs": [],
      "source": [
        "# or operator!"
      ]
    },
    {
      "cell_type": "code",
      "execution_count": null,
      "id": "86a62de2-a7a9-4646-b0df-c28c0cbf0a11",
      "metadata": {
        "id": "86a62de2-a7a9-4646-b0df-c28c0cbf0a11",
        "outputId": "351f825e-4091-4395-ccbf-5d099a80b701"
      },
      "outputs": [
        {
          "name": "stdout",
          "output_type": "stream",
          "text": [
            "True\n"
          ]
        }
      ],
      "source": [
        "print(10>4 or 10>3)"
      ]
    },
    {
      "cell_type": "code",
      "execution_count": null,
      "id": "af15cece-238c-4912-9012-ad7d31a0a041",
      "metadata": {
        "id": "af15cece-238c-4912-9012-ad7d31a0a041",
        "outputId": "218f505a-923f-45fd-ee1d-c89d4a7f7180"
      },
      "outputs": [
        {
          "name": "stdout",
          "output_type": "stream",
          "text": [
            "True\n"
          ]
        }
      ],
      "source": [
        "print(10>4 or 3>100)"
      ]
    },
    {
      "cell_type": "code",
      "execution_count": null,
      "id": "0edac5c3-2885-4df6-bb83-86464db82f38",
      "metadata": {
        "id": "0edac5c3-2885-4df6-bb83-86464db82f38"
      },
      "outputs": [],
      "source": []
    },
    {
      "cell_type": "code",
      "execution_count": null,
      "id": "438e1717-b14c-421c-8c31-d720edb10cc8",
      "metadata": {
        "id": "438e1717-b14c-421c-8c31-d720edb10cc8"
      },
      "outputs": [],
      "source": [
        "# not operator"
      ]
    },
    {
      "cell_type": "code",
      "execution_count": null,
      "id": "a8d2c5d1-c268-483d-9350-e762b42b1291",
      "metadata": {
        "id": "a8d2c5d1-c268-483d-9350-e762b42b1291",
        "outputId": "04a9baf8-edc7-4afb-bfe6-eb3dc24ac6ef"
      },
      "outputs": [
        {
          "name": "stdout",
          "output_type": "stream",
          "text": [
            "False\n"
          ]
        }
      ],
      "source": [
        "print(not True)"
      ]
    },
    {
      "cell_type": "code",
      "execution_count": null,
      "id": "ca83867c-8d75-4a77-816d-9d5668e0c8c5",
      "metadata": {
        "id": "ca83867c-8d75-4a77-816d-9d5668e0c8c5",
        "outputId": "e1038b5f-acc4-4cf9-c649-d9e514e632c1"
      },
      "outputs": [
        {
          "name": "stdout",
          "output_type": "stream",
          "text": [
            "True\n"
          ]
        }
      ],
      "source": [
        "print(not False)"
      ]
    },
    {
      "cell_type": "code",
      "execution_count": null,
      "id": "cd51342a-f622-420b-9234-ff2287c4acc0",
      "metadata": {
        "id": "cd51342a-f622-420b-9234-ff2287c4acc0",
        "outputId": "bc81fb5c-5f1a-46f6-845e-1fd2a21087ea"
      },
      "outputs": [
        {
          "name": "stdout",
          "output_type": "stream",
          "text": [
            "True\n"
          ]
        }
      ],
      "source": [
        "print(5 > 2)"
      ]
    },
    {
      "cell_type": "code",
      "execution_count": null,
      "id": "3a96c009-984c-4350-939c-5c9f50de6d39",
      "metadata": {
        "id": "3a96c009-984c-4350-939c-5c9f50de6d39",
        "outputId": "27b53a09-d976-462b-a652-30f7652281ce"
      },
      "outputs": [
        {
          "name": "stdout",
          "output_type": "stream",
          "text": [
            "False\n"
          ]
        }
      ],
      "source": [
        "print(not 5 > 2)"
      ]
    },
    {
      "cell_type": "code",
      "execution_count": null,
      "id": "13626a0c-b892-4895-b8f5-b8af5f6c1ea1",
      "metadata": {
        "id": "13626a0c-b892-4895-b8f5-b8af5f6c1ea1"
      },
      "outputs": [],
      "source": []
    }
  ],
  "metadata": {
    "kernelspec": {
      "display_name": "Python [conda env:anaconda3-genai]",
      "language": "python",
      "name": "conda-env-anaconda3-genai-py"
    },
    "language_info": {
      "codemirror_mode": {
        "name": "ipython",
        "version": 3
      },
      "file_extension": ".py",
      "mimetype": "text/x-python",
      "name": "python",
      "nbconvert_exporter": "python",
      "pygments_lexer": "ipython3",
      "version": "3.11.5"
    },
    "colab": {
      "provenance": [],
      "include_colab_link": true
    }
  },
  "nbformat": 4,
  "nbformat_minor": 5
}